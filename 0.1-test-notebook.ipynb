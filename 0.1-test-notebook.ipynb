{
 "cells": [
  {
   "cell_type": "markdown",
   "metadata": {},
   "source": [
    "#### Welcome to Jupyter\n",
    "\n",
    "This is a Jupyer Notebook. It contains both computer code (e.g. python) and rich text elements (paragraph, equations, figures, links, etc…). This paragraph is an example of the rich test element. You can double click on this paragraph 'cell' to edit it. \n",
    "\n",
    "Below is a code block. You can double click to edit it. You can also run the code step-by-step (one cell a time) by pressing shift + enter when you have the cell selected."
   ]
  },
  {
   "cell_type": "code",
   "execution_count": null,
   "metadata": {},
   "outputs": [],
   "source": [
    "14 + 7"
   ]
  },
  {
   "cell_type": "markdown",
   "metadata": {},
   "source": [
    "#### Configure your source directory\n",
    "\n",
    "In the `setup.py` file, enter the source directory for your local Optech taproot (v0.1 tag) bitcoin repo.  \n",
    "This will be used to access the TestFramework Python code and the taproot-compatible bitcoind binary."
   ]
  },
  {
   "cell_type": "code",
   "execution_count": null,
   "metadata": {},
   "outputs": [],
   "source": [
    "from util import TestWrapper"
   ]
  },
  {
   "cell_type": "markdown",
   "metadata": {},
   "source": [
    "#### Import test framework\n",
    "\n",
    "We provide a test wrapper class which allows the user to leverage the test framework utilites in external Python projects, such as this notebook. The test wrapper provides access to bitcoin rpc instances directly from the Jupyter notebook cell or any other external python project.\n",
    "\n",
    "When `setup` is called, the test wrapper will automatically startup a standard of 3 bitcoind daemon subprocesses, which can be accessed through the included rpc interface. We will use this frequently in this workshop to broadcast schnorr & taproot transactions.\n",
    "\n",
    "![test_wrapper_object_lifetime](files/0.1-test-notebook/test-wrapper-object-lifetime.jpg)\n",
    "\n",
    "The import below requires the Optech taproot branch to be checked out. If it fails, then you may have entered the source directory above incorrectly or checked out the wrong branch."
   ]
  },
  {
   "cell_type": "code",
   "execution_count": null,
   "metadata": {},
   "outputs": [],
   "source": [
    "test = TestWrapper()\n",
    "# Start TestNodes\n",
    "\n",
    "test.setup()"
   ]
  },
  {
   "cell_type": "markdown",
   "metadata": {},
   "source": [
    "#### Check node version\n",
    "\n",
    "This command checks the version of the bitcoind client. Note that `getnetworkinfo` is simply a Bitcoin RPC command.\n",
    "\n",
    "If it fails, then the bitcoind binary in the source directory is not the Optech Taproot version."
   ]
  },
  {
   "cell_type": "code",
   "execution_count": null,
   "metadata": {},
   "outputs": [],
   "source": [
    "version = test.nodes[0].getnetworkinfo()['subversion']\n",
    "print(\"Client version is {}\".format(version))\n",
    "assert version == '/OptechTaproot:0.1.0(testnode0)/'"
   ]
  },
  {
   "cell_type": "markdown",
   "metadata": {},
   "source": [
    "#### Shutdown TestNodes\n",
    "\n",
    "This needs to be done at the end of every notebook."
   ]
  },
  {
   "cell_type": "code",
   "execution_count": null,
   "metadata": {},
   "outputs": [],
   "source": [
    "# Shutdown TestNodes\n",
    "test.shutdown()"
   ]
  },
  {
   "cell_type": "markdown",
   "metadata": {},
   "source": [
    "*Things to keep in mind:*\n",
    "* Separate test wrapper `setup`, `shutdown` and your code into different cells. This ensures that an error in your code does not affect the test wrapper object and prevents orphaned subprocesses.\n",
    "* Only run one test wrapper object at a time.\n",
    "* If the subprocesses do become orphaned somehow, you can run the following:\n",
    " * `ps -ax | grep bitcoind` to see outstanding bitcoind processes.\n",
    " * `kill \"pid\"` to shut them down manually.\n"
   ]
  },
  {
   "cell_type": "markdown",
   "metadata": {},
   "source": [
    "#### You're ready for the workshop!\n",
    "\n",
    "If you were able to successfully execute the steps above, you are ready for the workshop!"
   ]
  }
 ],
 "metadata": {
  "kernelspec": {
   "display_name": "Python 3",
   "language": "python",
   "name": "python3"
  },
  "language_info": {
   "codemirror_mode": {
    "name": "ipython",
    "version": 3
   },
   "file_extension": ".py",
   "mimetype": "text/x-python",
   "name": "python",
   "nbconvert_exporter": "python",
   "pygments_lexer": "ipython3",
   "version": "3.6.5"
  }
 },
 "nbformat": 4,
 "nbformat_minor": 2
}
