{
 "cells": [
  {
   "cell_type": "code",
   "execution_count": null,
   "metadata": {},
   "outputs": [],
   "source": [
    "import sys\n",
    "import random\n",
    "\n",
    "sys.path.append('../')\n",
    "import util\n",
    "from test_framework.key import SECP256K1_ORDER, SECP256K1_FIELD_SIZE, ECKey, ECPubKey"
   ]
  },
  {
   "cell_type": "markdown",
   "metadata": {},
   "source": [
    "# 0.2 Elliptic Curve Math (Review)\n"
   ]
  },
  {
   "cell_type": "markdown",
   "metadata": {},
   "source": [
    "Elliptic Curve math involves scalars and Points. \n",
    "* A scalar is a positive integer which is smaller than secp256k1 the field size. \n",
    "* A point `P(x,y)` lies on the secp256k1 curve.\n",
    "\n",
    "The following provides an overview of all operations of scalars and points over elliptic curves. In Bitcoin, key pair generation and signing is performed over the SECP256k1 curve.\n",
    "\n",
    "![test](../images/ec_math0.jpg)\n",
    "\n"
   ]
  },
  {
   "cell_type": "markdown",
   "metadata": {},
   "source": [
    "### Classes / Methods for Elliptic Curve Math\n",
    "\n",
    "**`Integers`:** All Scalar operations over SECP251k1 can be performed with python integers and the modulo `%` operator. \n",
    "\n",
    "Scalar addition, subtraction, multiplication and division over SECP256k1 are modulo a large prime number SECP256K1_ORDER. \n",
    "\n",
    "\n",
    "* All scalar operations are performed modulo n (`SECP256K1_ORDER`).\n",
    "* Addition: `a + b % SECP256K1_ORDER`\n",
    "* Subtraction: `-a = SECP256K1_ORDER - a`\n",
    "* Multiplication: `a * b % SECP256K1_ORDER`\n",
    "* Division (Fermat's little Theorem): `1/b = b ** (SECP256K1_ORDER-2) % SECP256K1_ORDER`\n",
    "\n",
    "**`ECKey`:** The Bitcoin Core library provides a private key class which can also perform certain scalar operations.\n",
    "* Addition: `a + b`\n",
    "* Subtraction: \n",
    "    * `b.negate()`\n",
    "    * `a + b` \n",
    "* Multiplication: `a * b`\n",
    "* Division: `a * 1/b` (See Fermat's little theorem) \n",
    "\n",
    "![test](../images/ec_math1.jpg)"
   ]
  },
  {
   "cell_type": "markdown",
   "metadata": {},
   "source": [
    "#### 1.1 Example: Scalar Addition over SECP256K1 order\n",
    "\n",
    "Addition can be performed with integer modulo math in python or with the private key class `ECKey`. We can set a `ECKey` object to a certain value, or generate a new private key with the `generate` method.\n",
    "\n",
    "In the example below, addition is performed with both integers and the `ECKey` class, and evaluated for equality."
   ]
  },
  {
   "cell_type": "code",
   "execution_count": null,
   "metadata": {},
   "outputs": [],
   "source": [
    "# scalar operations.\n",
    "a = random.randrange(1, SECP256K1_ORDER)\n",
    "b = random.randrange(1, SECP256K1_ORDER)\n",
    "ab = (a + b) % SECP256K1_ORDER\n",
    "\n",
    "# ECkey(operation)\n",
    "a_key = ECKey()\n",
    "b_key = ECKey()\n",
    "a_key.set(a.to_bytes(32,'big'), True) \n",
    "b_key.set(b.to_bytes(32,'big'), True) \n",
    "ab_key = a_key + b_key\n",
    "\n",
    "# Ensure equivalency.\n",
    "print(int().from_bytes(ab_key.get_bytes(),'big') == ab)\n"
   ]
  },
  {
   "cell_type": "markdown",
   "metadata": {},
   "source": [
    "#### 1.2 Example: Scalar Multiplication over SECP256K1 order\n",
    "\n",
    "In the example below, multiplication is performed with both integers and the `ECKey` class, and evaluated for equality."
   ]
  },
  {
   "cell_type": "code",
   "execution_count": null,
   "metadata": {},
   "outputs": [],
   "source": [
    "# Integer operations\n",
    "a = random.randrange(1, SECP256K1_ORDER)\n",
    "b = random.randrange(1, SECP256K1_ORDER)\n",
    "ab = (a * b) % SECP256K1_ORDER\n",
    "\n",
    "# ECkey(operation)\n",
    "a_key = ECKey()\n",
    "b_key = ECKey()\n",
    "a_key.set(a.to_bytes(32,'big'), True) \n",
    "b_key.set(b.to_bytes(32,'big'), True) \n",
    "ab_key = a_key * b_key\n",
    "\n",
    "# Ensure operations are equivalent.\n",
    "print(int().from_bytes(ab_key.get_bytes(),'big') == ab)\n"
   ]
  },
  {
   "cell_type": "markdown",
   "metadata": {},
   "source": [
    "#### 1.3 _Programming Exercise:_ Commutative property of scalar operations\n",
    "\n",
    "In this exercise we wish to demonstrate the commutative property of scalar addition and multiplication, whilst getting familiarized with both integer modulo operations and the private key `ECKey` methods.\n",
    "\n",
    "Consider: \n",
    "* `a + b = b + a` over SECP256k1\n",
    "* `a * b = b * a` over SECP256k1\n",
    "\n",
    "Notes:\n",
    "* Demonstrate that both equations hold.\n",
    "* Compute the left sides with the Python `int` class.\n",
    "* Compute the right sides with the Bitcoin Core `ECKey` class.\n"
   ]
  },
  {
   "cell_type": "code",
   "execution_count": null,
   "metadata": {},
   "outputs": [],
   "source": [
    "a = random.randrange(1, SECP256K1_ORDER)\n",
    "b = random.randrange(1, SECP256K1_ORDER)\n",
    "\n",
    "# Left: Compute a + b\n",
    "ab = (a + b) % SECP256K1_ORDER\n",
    "\n",
    "# Right: Compute b + a\n",
    "a_key = ECKey()\n",
    "b_key = ECKey()\n",
    "a_key.set(a.to_bytes(32,'big'), True) \n",
    "b_key.set(b.to_bytes(32,'big'), True) \n",
    "ba_key = b_key + a_key\n",
    "\n",
    "# Left/Right: Assert equality\n",
    "print(\"Commutative Add:\", ab == int().from_bytes(ba_key.get_bytes(),'big'))\n",
    "\n",
    "# Left: Compute a * b\n",
    "ab = (a * b) % SECP256K1_ORDER\n",
    "\n",
    "# Right: Compute b * a\n",
    "ba_key = b_key * a_key\n",
    "\n",
    "# Left/Right: Assert equality\n",
    "print(\"Commutative Mult:\", ab == int().from_bytes(ba_key.get_bytes(),'big'))\n"
   ]
  },
  {
   "cell_type": "markdown",
   "metadata": {},
   "source": [
    "#### 1.4 _Programming Exercise:_ Distributivity of scalar operations\n",
    "\n",
    "In this exercise we wish to demonstrate the distributivity property of scalar addition and multiplication.\n",
    "\n",
    "Consider: `(a - b) * c = a * c - b * c` over SECP256k1\n",
    "* Demonstrate that the equation holds\n",
    "* Compute the left side with the Python `int` class.\n",
    "* Compute the right side with the Bitcoin Core `ECKey` class.\n"
   ]
  },
  {
   "cell_type": "code",
   "execution_count": null,
   "metadata": {},
   "outputs": [],
   "source": [
    "a = random.randrange(1, SECP256K1_ORDER)\n",
    "b = random.randrange(1, SECP256K1_ORDER)\n",
    "c = random.randrange(1, SECP256K1_ORDER)\n",
    "\n",
    "# Left: Compute (a - b) * c\n",
    "ab = (a + (SECP256K1_ORDER - b)) % SECP256K1_ORDER\n",
    "ab_c = (ab * c) % SECP256K1_ORDER\n",
    "\n",
    "a_key = ECKey()\n",
    "b_key = ECKey()\n",
    "c_key = ECKey()\n",
    "\n",
    "# Right: Compute -b * c\n",
    "# Negate a ECKey with negate() method.\n",
    "a_key.set(a.to_bytes(32,'big'), True)\n",
    "b_key.set(b.to_bytes(32,'big'), True)\n",
    "b_key.negate()\n",
    "c_key.set(c.to_bytes(32,'big'), True)\n",
    "\n",
    "# Right: Compute a * c\n",
    "ac_key = a_key * c_key\n",
    "bc_key = b_key * c_key\n",
    "\n",
    "# Right: Compute a * c - b * c\n",
    "ac_bc_key = ac_key + bc_key\n",
    "\n",
    "# Left/Right: Assert equality\n",
    "print(\"Distributivity Add/Mult:\", ab_c.to_bytes(32,'big') == ac_bc_key.get_bytes())\n"
   ]
  },
  {
   "cell_type": "markdown",
   "metadata": {},
   "source": [
    "#### 1.5 Example: Point Addition over SECP256k1\n",
    "\n",
    "The public key `ECPubkey` class can be derived from `ECKey` with the `ECKey.get_pubkey` method. \n",
    "\n",
    "In the following example, we perform point addition with `ECPubkey.__add__`.\n"
   ]
  },
  {
   "cell_type": "code",
   "execution_count": null,
   "metadata": {},
   "outputs": [],
   "source": [
    "a = ECKey()\n",
    "b = ECKey()\n",
    "a.generate()\n",
    "b.generate()\n",
    "\n",
    "A = a_key.get_pubkey()\n",
    "B = b_key.get_pubkey()\n",
    "AB = A + B\n",
    "\n",
    "print(AB.get_bytes().hex())"
   ]
  },
  {
   "cell_type": "markdown",
   "metadata": {},
   "source": [
    "#### 1.6  _Programming Exercise:_ Distributivity over scalar and ec points.\n",
    "\n",
    "In this exercise we wish to demonstrate the distributivity property of scalar/point operations, whilst getting familiarized with both integer modulo operations and the public key `ECPubKey` methods.\n",
    "\n",
    "Consider: `(a - b) * C = a * C - b * C`\n"
   ]
  },
  {
   "cell_type": "code",
   "execution_count": null,
   "metadata": {},
   "outputs": [],
   "source": [
    "a = ECKey()\n",
    "b = ECKey()\n",
    "a.generate()\n",
    "b.generate()\n",
    "\n",
    "# Left: Compute a - b\n",
    "b.negate()\n",
    "a_neg_b = a + b\n",
    "\n",
    "# Left: Compute (a - b) * G   \n",
    "L = a_neg_b.get_pubkey()\n",
    "\n",
    "# Right: Compute aG     \n",
    "a_pk = a.get_pubkey()\n",
    "\n",
    "# Right: Compute aG - bG\n",
    "b_neg_pk = b.get_pubkey()\n",
    "R = a_pk + b_neg_pk\n",
    "\n",
    "# Left/Right: Assert equality\n",
    "print(L.get_bytes() == R.get_bytes())\n"
   ]
  },
  {
   "cell_type": "code",
   "execution_count": null,
   "metadata": {},
   "outputs": [],
   "source": []
  }
 ],
 "metadata": {
  "kernelspec": {
   "display_name": "Python 3",
   "language": "python",
   "name": "python3"
  },
  "language_info": {
   "codemirror_mode": {
    "name": "ipython",
    "version": 3
   },
   "file_extension": ".py",
   "mimetype": "text/x-python",
   "name": "python",
   "nbconvert_exporter": "python",
   "pygments_lexer": "ipython3",
   "version": "3.6.5"
  }
 },
 "nbformat": 4,
 "nbformat_minor": 2
}
