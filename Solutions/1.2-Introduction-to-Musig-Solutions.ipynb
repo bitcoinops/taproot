{
 "cells": [
  {
   "cell_type": "code",
   "execution_count": null,
   "metadata": {},
   "outputs": [],
   "source": [
    "import sys\n",
    "import hashlib\n",
    "\n",
    "sys.path.insert(0, '../')\n",
    "import util\n",
    "from test_framework.key import ECKey, ECPubKey, generate_musig_key, generate_schnorr_nonce, aggregate_schnorr_nonces, aggregate_musig_signatures"
   ]
  },
  {
   "cell_type": "markdown",
   "metadata": {},
   "source": [
    "# 1.2 Introduction to n-of-n MuSig\n",
    "\n",
    "* Part 1: Public Key Generation.\n",
    "* Part 2: Nonce Generation.\n",
    "* Part 3: Signature Generation.\n",
    "\n",
    "In this chapter, we introduce the interactive MuSig protocol which allows n-of-n participants to jointly create and spend taproot or tapscript output using aggregated Schnorr signatures. \n",
    "\n",
    "**The advantage of MuSig is both output and joint n-of-n spend are indistinguishable from other pay-to-pubkey transactions on-chain.**\n",
    "\n",
    "MuSig is is an interactive protocol which requires multiple rounds of communication between the wallets. We will proceed with an example execution of the MuSig protocol below.\n",
    "\n",
    "![test](../images/musig_intro_0.jpg)\n"
   ]
  },
  {
   "cell_type": "markdown",
   "metadata": {},
   "source": [
    "## Part 1: Public Key Generation\n",
    "\n",
    "* Due to linear nature of Schnorr, public keys, nonces and signatures can be aggregated.\n",
    "* Due to the [Key cancellation](https://tlu.tarilabs.com/cryptography/digital_signatures/introduction_schnorr_signatures.html#key-cancellation-attack) attack, signers must first commit to individual public keys (Challenge factor).\n",
    "* Individual key pairs must be multiplied with respective challenge.\n",
    "\n",
    "\n",
    "![test](../images/musig_intro_1.jpg)"
   ]
  },
  {
   "cell_type": "markdown",
   "metadata": {},
   "source": [
    "### 1.1 Programming Exercise: Compute 3-of-3 MuSig public key.\n",
    "* Use `generate_musig_key([ECPubKey0, ECPubKey1, ...])`.\n",
    "* returns `c_map, pk_musig`\n",
    "* `c_map` contains `ECPubKey_i, challenge_data_i` key - value pairs.\n"
   ]
  },
  {
   "cell_type": "code",
   "execution_count": null,
   "metadata": {},
   "outputs": [],
   "source": [
    "# Compute key pairs.\n",
    "privkey0 = ECKey()\n",
    "privkey1 = ECKey()\n",
    "privkey2 = ECKey()\n",
    "privkey0.generate()\n",
    "privkey1.generate()\n",
    "privkey2.generate()\n",
    "pk0 = privkey0.get_pubkey()\n",
    "pk1 = privkey1.get_pubkey()\n",
    "pk2 = privkey2.get_pubkey()\n",
    "pk_v = [pk0, pk1, pk2]\n",
    "\n",
    "# Compute Key Challenges.\n",
    "c_map, pk_musig = generate_musig_key(pk_v)\n",
    "print(\"Aggregated Public Key: \", pk_musig.get_bytes().hex())\n",
    "for pk, c in c_map.items():\n",
    "    print(\"Compressed Pubkey: \", pk.get_bytes().hex())\n",
    "    print(\"Challenge: \", c.hex(), '\\n')\n",
    "\n",
    "# Multiply key pairs by challenge factor.\n",
    "privkey0_c = privkey0.mul(c_map[pk0])\n",
    "privkey1_c = privkey1.mul(c_map[pk1])\n",
    "privkey2_c = privkey2.mul(c_map[pk2])\n",
    "pk0_c = pk0.mul(c_map[pk0])\n",
    "pk1_c = pk1.mul(c_map[pk1])\n",
    "pk2_c = pk2.mul(c_map[pk2])\n"
   ]
  },
  {
   "cell_type": "markdown",
   "metadata": {},
   "source": [
    "## Part 2: Nonce Generation\n",
    "\n",
    "* Nonces can be aggregated like public keys and signatures.\n",
    "* Security [Proof](https://eprint.iacr.org/2018/068.pdf) requires nonces are randomly generated independently of each other.\n",
    "* An initial nonce commitment round is necessary to ensure no nonce is derived as a function of another.\n",
    "\n",
    "\n",
    "![test](../images/musig_intro_2.jpg)\n"
   ]
  },
  {
   "cell_type": "markdown",
   "metadata": {},
   "source": [
    "### 2.1 Programming Exercise: Compute 3-of-3 MuSig nonce.\n",
    "\n",
    "* `generate_schnorr_nonce()` returns a ECkey with with a jacobi symbol of 1.\n",
    "* `aggregate_schnorr_nonces()` returns a ECPubKey and a boolean (indicates nonce negation).\n",
    "* *Negation of nonce `k_i` isn't necessary, since it is performed by `sign_musig` in next exercise.*"
   ]
  },
  {
   "cell_type": "code",
   "execution_count": null,
   "metadata": {},
   "outputs": [],
   "source": [
    "# Generate nonces.\n",
    "k0 = generate_schnorr_nonce()\n",
    "k1 = generate_schnorr_nonce()\n",
    "k2 = generate_schnorr_nonce()\n",
    "R0 = k0.get_pubkey()\n",
    "R1 = k1.get_pubkey()\n",
    "R2 = k2.get_pubkey()\n",
    "\n",
    "# Skip nonce point commitment round (we assume nonce commitments are correct).\n",
    "\n",
    "# Aggregate nonces.\n",
    "R_agg, negated = aggregate_schnorr_nonces([R0, R1, R2])\n",
    "print(\"R aggregated: \", R_agg.get_bytes().hex())\n",
    "print(\"R_agg was negated: \", negated)\n"
   ]
  },
  {
   "cell_type": "markdown",
   "metadata": {},
   "source": [
    "## Part 3: Signature Generation\n",
    "\n",
    "* Signatures are generated individually, but can be aggregated once they are exchanged amongst all participants in a single roundtrip.\n",
    "* Notice that the hash expressions are identical in all signatures, which makes aggregation possible.\n",
    "\n",
    "![test](../images/musig_intro_4.jpg)"
   ]
  },
  {
   "cell_type": "markdown",
   "metadata": {},
   "source": [
    "### 3.1 Programming exercise: Compute aggregated MuSig signature.\n",
    "\n",
    "* `ECKey.sign_musig(nonce_point, negated, nonce_point_aggregated, pk_musig, msg)` returns individual signature.\n",
    "* `aggregate_musig_signatures([sig0, sig1, ...])` returns aggregated signature.\n",
    "* `ECPubKey.verify(sig, msg)` returns validity of signature.\n"
   ]
  },
  {
   "cell_type": "code",
   "execution_count": null,
   "metadata": {},
   "outputs": [],
   "source": [
    "msg = hashlib.sha256(b'transaction').digest()\n",
    "\n",
    "# Generate individual signatures.\n",
    "sig0 = privkey0_c.sign_musig(k0, negated, R_agg, pk_musig, msg)\n",
    "sig1 = privkey1_c.sign_musig(k1, negated, R_agg, pk_musig, msg)\n",
    "sig2 = privkey2_c.sign_musig(k2, negated, R_agg, pk_musig, msg)\n",
    "\n",
    "# Aggregate signatures.\n",
    "sig_agg = aggregate_musig_signatures([sig0, sig1, sig2])\n",
    "print(\"Signature verifies against MuSig pubkey: \", pk_musig.verify_schnorr(sig_agg, msg))\n"
   ]
  },
  {
   "cell_type": "code",
   "execution_count": null,
   "metadata": {},
   "outputs": [],
   "source": []
  }
 ],
 "metadata": {
  "kernelspec": {
   "display_name": "Python 3",
   "language": "python",
   "name": "python3"
  },
  "language_info": {
   "codemirror_mode": {
    "name": "ipython",
    "version": 3
   },
   "file_extension": ".py",
   "mimetype": "text/x-python",
   "name": "python",
   "nbconvert_exporter": "python",
   "pygments_lexer": "ipython3",
   "version": "3.6.5"
  }
 },
 "nbformat": 4,
 "nbformat_minor": 2
}
