{
 "cells": [
  {
   "cell_type": "code",
   "execution_count": null,
   "metadata": {},
   "outputs": [],
   "source": [
    "import sys\n",
    "import random\n",
    "import hashlib\n",
    "\n",
    "sys.path.append('../')\n",
    "import util\n",
    "from test_framework.key import SECP256K1_ORDER, SECP256K1_FIELD_SIZE\n",
    "from test_framework.key import ECKey, ECPubKey, jacobi_symbol"
   ]
  },
  {
   "cell_type": "markdown",
   "metadata": {},
   "source": [
    "# 1.1 Introduction to Schnorr\n",
    "\n",
    "* Part 1: Schnorr Signatures.\n",
    "* Part 2: Deterministic Nonces."
   ]
  },
  {
   "cell_type": "markdown",
   "metadata": {},
   "source": [
    "## Part 1: Schnorr Signatures\n",
    "\n",
    "The Schnorr signature equation is the following:\n",
    "\n",
    "* `S = R + H(x(R)|P|msg) * P`\n",
    "\n",
    "Signing involves generating a secret nonce first.\n",
    "\n",
    "* Generate secret scalar `k`\n",
    "\n",
    "Then computing s from:\n",
    "\n",
    "* `s = k - H(x(R)|P|m)`\n",
    "\n",
    "The resulting signature is:\n",
    "\n",
    "* `x(R), s`\n",
    "\n",
    "\n",
    "\n",
    "![test](../images/schnorr0.jpg)\n",
    "\n"
   ]
  },
  {
   "cell_type": "markdown",
   "metadata": {},
   "source": [
    "### Constraint on the private nonce k.\n",
    "\n",
    "The Schnorr signature provides the verifier with the x-coordinate of the Nonce point R and s value. For a given x-coordinate on the SECP251K1 curve, there are two possible curve points:\n",
    "\n",
    "* `y^2 = x^3 + 7`\n",
    "    * For x, both P(x,y) and P(x,-y) are valid curve points.\n",
    "    * One of the y-coordinates is even, and the other one is odd.\n",
    "\n",
    "The nonce k is therefore constrained by requiring it to be a quadratic residue modulo the field order p (SECP256k1 curve field size). \n",
    "\n",
    "* `k` and `SECP26k1_order - k` have nonce points `R(x, y)` and `R(x, -y)` respectively.\n",
    "* Only one will be a quadratic residue modulo the field order.\n",
    "    \n",
    "Whether a scalar is a quadratic residue modulo the secp256k1 field order is determined with the jacobi symbol:\n",
    "\n",
    "* Bitcoin Core method: `jacobi_symbol(y(R), SECP256K1_FIELD_SIZE) == 1`\n",
    "* If the jacobisymbol is not 1, simply take the inverse of k: `k' = SECP26k1_order - k`\n"
   ]
  },
  {
   "cell_type": "markdown",
   "metadata": {},
   "source": [
    "#### 1.1 _Programming Exercise:_ Sign a message with Schnorr\n",
    "\n",
    "* Sign the message with the provided key pair below."
   ]
  },
  {
   "cell_type": "code",
   "execution_count": null,
   "metadata": {},
   "outputs": [],
   "source": [
    "msg = hashlib.sha256(b'message').digest()\n",
    "x = ECKey()\n",
    "x.generate()\n",
    "P = x.get_pubkey()\n",
    "\n",
    "# We have to set uncompressed to get the y-coordinate.\n",
    "# k_int = random.randrange(1, SECP256K1_ORDER)\n",
    "k = ECKey()\n",
    "k.generate(False) # Uncompressed.\n",
    "R = k.get_pubkey()\n",
    "\n",
    "# Check that nonce is quadratic residue modulo the field order.\n",
    "# Method: jacobi_symbol(int(y(R)), SECP256K1_FIELD_SIZE)\n",
    "if jacobi_symbol(int.from_bytes(R.get_bytes()[33:], \"big\"), SECP256K1_FIELD_SIZE) != 1:\n",
    "    k.negate()\n",
    "\n",
    "# Generate s = k + sha256(R_x|P|msg) * x\n",
    "# Method: hashlib.sha256(bytes)\n",
    "h_b = hashlib.sha256(R.get_bytes()[1:33] + P.get_bytes() + msg).digest()\n",
    "h = ECKey()\n",
    "h.set(h_b, True)\n",
    "s = k + h * x\n",
    "\n",
    "# Generate sig = R_x|s\n",
    "sig = R.get_bytes()[1:33] + s.secret.to_bytes(32,'big')\n",
    "\n",
    "# Verify the signature\n",
    "# Method: ECPubKey.verify_schnorr(sig, msg)\n",
    "print(\"Signature verification:\", P.verify_schnorr(sig, msg))\n"
   ]
  },
  {
   "cell_type": "markdown",
   "metadata": {},
   "source": [
    "## Part 2: Deterministic Nonces for Schnorr signatures\n",
    "\n",
    "So far we have used a random secret nonce for creating Schnorr signatures. This has the disadvantage that the the user must rely on the robustness of the random generator for each signing rounds. If the nonce generator is biased or even compromised, the private key can be derived for a given signature and known nonce.\n",
    "\n",
    "Therefore, for the single signer Schnorr signatures, the [Schnorr BIP](https://github.com/sipa/bips/blob/bip-schnorr/bip-schnorr.mediawiki) proposes a deterministic nonce generation scheme.\n",
    "\n",
    "* `k = sha256(x|msg)`"
   ]
  },
  {
   "cell_type": "markdown",
   "metadata": {},
   "source": [
    "#### 2.1 _Programming Exercise:_ Signing Schnorr with deterministic nonce.\n",
    "\n",
    "* Create a Schnorr signature with the deterministic nonce scheme proposed in the Schnorr BIP.\n",
    "* Compare this signature to the private key class method `ECKey.sign_schnorr(msg)`"
   ]
  },
  {
   "cell_type": "code",
   "execution_count": null,
   "metadata": {},
   "outputs": [],
   "source": [
    "msg = hashlib.sha256(b'message').digest()\n",
    "x = ECKey()\n",
    "x.generate()\n",
    "P = x.get_pubkey()\n",
    "\n",
    "# We have to set uncompressed to get the y-coordinate.\n",
    "k_b = hashlib.sha256(x.get_bytes() + msg).digest()\n",
    "k_int = int.from_bytes(k_b, \"big\")\n",
    "k = ECKey()\n",
    "k.set(k_b, False) \n",
    "R = k.get_pubkey()\n",
    "\n",
    "# Check that nonce is quadratic residue modulo the field order.\n",
    "if jacobi_symbol(int.from_bytes(R.get_bytes()[33:], \"big\"), SECP256K1_FIELD_SIZE) != 1:\n",
    "    k.negate()\n",
    "\n",
    "# Generate s = k + H(R_x|P|msg) * x\n",
    "h_b = hashlib.sha256(R.get_bytes()[1:33] + P.get_bytes() + msg).digest()\n",
    "h = ECKey()\n",
    "h.set(h_b, True)\n",
    "s = k + h * x\n",
    "\n",
    "# Generate sig = R_x|s\n",
    "# Also, generate alternative sig with ECKey.sign_schnorr(msg)\n",
    "sig = R.get_bytes()[1:33] + s.secret.to_bytes(32,'big')\n",
    "sig2 = x.sign_schnorr(msg)\n",
    "\n",
    "# Verify and compare signature(s). \n",
    "print(\"Sig1 verification:\", P.verify_schnorr(sig, msg))\n",
    "print(\"Sig2 verification:\", P.verify_schnorr(sig2, msg))\n",
    "print(\"Signature equality:\", sig == sig2)\n"
   ]
  },
  {
   "cell_type": "code",
   "execution_count": null,
   "metadata": {},
   "outputs": [],
   "source": []
  }
 ],
 "metadata": {
  "kernelspec": {
   "display_name": "Python 3",
   "language": "python",
   "name": "python3"
  },
  "language_info": {
   "codemirror_mode": {
    "name": "ipython",
    "version": 3
   },
   "file_extension": ".py",
   "mimetype": "text/x-python",
   "name": "python",
   "nbconvert_exporter": "python",
   "pygments_lexer": "ipython3",
   "version": "3.6.5"
  }
 },
 "nbformat": 4,
 "nbformat_minor": 2
}
