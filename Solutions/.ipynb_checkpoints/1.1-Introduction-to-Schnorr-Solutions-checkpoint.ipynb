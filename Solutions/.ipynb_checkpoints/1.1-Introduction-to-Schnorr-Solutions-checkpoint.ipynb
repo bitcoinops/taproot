{
 "cells": [
  {
   "cell_type": "code",
   "execution_count": null,
   "metadata": {},
   "outputs": [],
   "source": [
    "# Add Path to Bitcoin Core Testframework Library.\n",
    "import sys\n",
    "# sys.path.insert(0, '/.../bitcoin/test/functional')\n",
    "\n",
    "# Bitcoin Core Test Framework \n",
    "from test_framework.key import SECP256K1_ORDER, SECP256K1_FIELD_SIZE\n",
    "from test_framework.key import ECKey, ECPubKey, jacobi_symbol\n",
    "from test_framework.key import *\n",
    "\n",
    "# Python Imports\n",
    "import random\n",
    "import hashlib\n",
    "import pdb"
   ]
  },
  {
   "cell_type": "markdown",
   "metadata": {},
   "source": [
    "# 1.1 Introduction to Schnorr\n",
    "\n",
    "* Part 1: Elliptic Curve Math Refresher.\n",
    "* Part 2: Schnorr Signatures.\n",
    "* Part 3: Deterministic Nonces."
   ]
  },
  {
   "cell_type": "markdown",
   "metadata": {},
   "source": [
    "## Part 1: Elliptic Curve Math\n",
    "\n",
    "Elliptic Curve math involves scalars and Points(X,Y). The following provides an overview of all operations of scalars and points over elliptic curves. In Bitcoin, key pair generation and signing is performed over the SECP256k1 curve.\n",
    "\n",
    "![test](../images/schnorr0.jpg)\n",
    "\n",
    "### Classes / Methods for Elliptic Curve Math\n",
    "\n",
    "`int`: All Scalar operations over SECP251k1 can be performed with python integers and the modulo `%` operator:\n",
    "* Addition: `a + b % SECP256K1`\n",
    "* Subtraction: `-a = SECP256K1 - a`\n",
    "* Multiplication: `a * b % % SECP256K1`\n",
    "* Division (Fermat's little Theorem): `1/b = b**(SECP256K1-2) % SECP256K1`\n",
    "\n",
    "`ECKey`: The Bitcoin Core library provides a private key class which can also perform certain scalar operations.\n",
    "* Addition: `add`\n",
    "* Subtraction: `add` (adding complement of scalar)\n",
    "* Multiplication: `mul`\n",
    "* Division: `mul` (multiplying with scalar inverse, see Fermat's little theorem) \n",
    "\n",
    "![test](../images/schnorr1.jpg)"
   ]
  },
  {
   "cell_type": "markdown",
   "metadata": {},
   "source": [
    "#### 1.1 Example: Scalar Addition over SECP256K1 order\n",
    "\n",
    "Addition can be performed with integer modulo math in python or with the private key class `ECKey`. We can set a `ECKey` object to a certain value, or generate a new private key with the `generate` method.\n",
    "\n",
    "In the example below, addition is performed with both integers and the `ECKey` class, and evaluated for equality."
   ]
  },
  {
   "cell_type": "code",
   "execution_count": null,
   "metadata": {},
   "outputs": [],
   "source": [
    "# int() operations\n",
    "a = random.randrange(1, SECP256K1_ORDER)\n",
    "b = random.randrange(1, SECP256K1_ORDER)\n",
    "ab = (a + b) % SECP256K1_ORDER\n",
    "\n",
    "# ECkey(operation)\n",
    "a_key = ECKey()\n",
    "a_key.set(a.to_bytes(32,'big'), True) \n",
    "ab_key = a_key.add(b.to_bytes(32,'big'))\n",
    "\n",
    "# Ensure equivalency.\n",
    "print(int().from_bytes(ab_key.get_bytes(),'big') == ab)\n"
   ]
  },
  {
   "cell_type": "markdown",
   "metadata": {},
   "source": [
    "#### 1.2 Example: Scalar Multiplication over SECP256K1 order\n",
    "\n",
    "In the example below, multiplication is performed with both integers and the `ECKey` class, and evaluated for equality."
   ]
  },
  {
   "cell_type": "code",
   "execution_count": null,
   "metadata": {},
   "outputs": [],
   "source": [
    "# int() operations\n",
    "a = random.randrange(1, SECP256K1_ORDER)\n",
    "b = random.randrange(1, SECP256K1_ORDER)\n",
    "ab = (a * b) % SECP256K1_ORDER\n",
    "\n",
    "# ECkey(operation)\n",
    "a_key = ECKey()\n",
    "a_key.set(a.to_bytes(32,'big'), True) \n",
    "ab_key = a_key.mul(b.to_bytes(32,'big'))\n",
    "\n",
    "# Ensure operations are equivalent.\n",
    "print(int().from_bytes(ab_key.get_bytes(),'big') == ab)\n"
   ]
  },
  {
   "cell_type": "markdown",
   "metadata": {},
   "source": [
    "#### 1.3 _Programming Exercise:_ Distributivity of scalar operations\n",
    "\n",
    "In this exercise we wish to demonstrate the distributivity property of scalar addition and multiplication, whilst getting familiarized with both integer modulo operations and the private key `ECKey` methods.\n",
    "\n",
    "Consider: `(a - b) * c = a * c - b * c` over SECP256k1\n",
    "* Demonstrate that the equation holds\n",
    "* Compute the left side with the Python `int` class.\n",
    "* Compute the right side with the Bitcoin Core `ECKey` class.\n"
   ]
  },
  {
   "cell_type": "code",
   "execution_count": null,
   "metadata": {},
   "outputs": [],
   "source": [
    "a = random.randrange(1, SECP256K1_ORDER)\n",
    "b = random.randrange(1, SECP256K1_ORDER)\n",
    "c = random.randrange(1, SECP256K1_ORDER)\n",
    "\n",
    "# Left: Compute (a - b) * c\n",
    "ab = (a + (SECP256K1_ORDER - b)) % SECP256K1_ORDER\n",
    "ab_c = (ab * c) % SECP256K1_ORDER\n",
    "\n",
    "a_key = ECKey()\n",
    "b_key = ECKey()\n",
    "c_key = ECKey()\n",
    "\n",
    "# Right: Compute -b * c\n",
    "a_key.set(a.to_bytes(32,'big'), True)\n",
    "bneg = SECP256K1_ORDER - b\n",
    "b_key.set(bneg.to_bytes(32,'big'), True)\n",
    "c_key.set(c.to_bytes(32,'big'), True)\n",
    "\n",
    "# Right: Compute a * c\n",
    "ac_key = a_key.mul(c_key.get_bytes())\n",
    "bc_key = b_key.mul(c_key.get_bytes())\n",
    "\n",
    "# Right: Compute a * c - b * c\n",
    "ac_bc_key = ac_key.add(bc_key.get_bytes())\n",
    "\n",
    "# Left/Right: Assert equality\n",
    "print(ab_c.to_bytes(32,'big') == ac_bc_key.get_bytes())\n"
   ]
  },
  {
   "cell_type": "markdown",
   "metadata": {},
   "source": [
    "#### 1.4 Example: Point Addition over SECP256k1\n",
    "\n",
    "The public key `ECPubkey` class can be derived from `ECKey` with the `ECKey.get_pubkey` method. \n",
    "\n",
    "In the following example, we perform point addition with `ECPubkey.add`.\n"
   ]
  },
  {
   "cell_type": "code",
   "execution_count": null,
   "metadata": {},
   "outputs": [],
   "source": [
    "a_key = ECKey()\n",
    "b_key = ECKey()\n",
    "a_key.generate()\n",
    "b_key.generate()\n",
    "\n",
    "A_key = a_key.get_pubkey()\n",
    "B_key = b_key.get_pubkey()\n",
    "AB_key = A_key.add(B_key)\n",
    "\n",
    "print(AB_key.get_bytes().hex())"
   ]
  },
  {
   "cell_type": "markdown",
   "metadata": {},
   "source": [
    "#### 1.5  _Programming Exercise:_ Distributivity over scalar and ec points.\n",
    "\n",
    "In this exercise we wish to demonstrate the distributivity property of scalar/point operations, whilst getting familiarized with both integer modulo operations and the public key `ECPubKey` methods.\n",
    "\n",
    "Consider: `(a - b) * P = a * G - b * G`\n"
   ]
  },
  {
   "cell_type": "code",
   "execution_count": null,
   "metadata": {},
   "outputs": [],
   "source": [
    "a = random.randrange(1, SECP256K1_ORDER)\n",
    "b = random.randrange(1, SECP256K1_ORDER)\n",
    "\n",
    "# Left: Compute a - b\n",
    "a_neg_b = (a + (SECP256K1_ORDER - b)) % SECP256K1_ORDER\n",
    "\n",
    "# Left: Compute (a - b) * G\n",
    "a_neg_b_key = ECKey()\n",
    "a_neg_b_key.set(a_neg_b.to_bytes(32,'big'), True)      \n",
    "Pk_left = a_neg_b_key.get_pubkey()\n",
    "\n",
    "# Right: Compute aG\n",
    "a_key = ECKey()\n",
    "a_key.set(a.to_bytes(32,'big'), True)      \n",
    "Pk_a = a_key.get_pubkey()\n",
    "\n",
    "# Right: Compute -bG\n",
    "# Use int() for -b\n",
    "b_neg = SECP256K1_ORDER - b\n",
    "b_neg_key = ECKey()\n",
    "b_neg_key.set(b_neg.to_bytes(32,'big'), True)      \n",
    "Pk_neg_b = b_neg_key.get_pubkey()\n",
    "\n",
    "# Right: Compute aG - bG\n",
    "Pk_right = Pk_a.add(Pk_neg_b)\n",
    "\n",
    "# Left/Right: Assert equality\n",
    "print(Pk_left.get_bytes() == Pk_right.get_bytes())\n"
   ]
  },
  {
   "cell_type": "markdown",
   "metadata": {},
   "source": [
    "## Part 2: Schnorr Signatures\n",
    "\n",
    "The Schnorr signature equation is the following:\n",
    "\n",
    "* `S = R + H(x(R)|P|msg) * P`\n",
    "\n",
    "Signing involves generating a secret nonce first.\n",
    "\n",
    "* Generate secret scalar `k`\n",
    "\n",
    "Then computing s from:\n",
    "\n",
    "* `s = k - H(x(R)|P|m)`\n",
    "\n",
    "The resulting signature is:\n",
    "\n",
    "* `x(R), s`\n",
    "\n",
    "\n",
    "\n",
    "![test](../images/schnorr2.jpg)\n",
    "\n"
   ]
  },
  {
   "cell_type": "markdown",
   "metadata": {},
   "source": [
    "### Constraint on the private nonce k.\n",
    "\n",
    "The Schnorr signature provides the verifier with the x-coordinate of the Nonce point R and s value. For a given x-coordinate on the SECP251K1 curve, there are two possible curve points:\n",
    "\n",
    "* `y^2 = x^3 + 7` (Two y-coordinate values for a given x-coordinate)\n",
    "    * For x, both P(x,y) and P(x,-y) are valid curve points.\n",
    "    * One of the y-coordinates is even, and the other one is odd.\n",
    "\n",
    "The nonce k is therefore constrained by requiring it to be a quadratic residue of p (SECP256k1 curve field size). \n",
    "\n",
    "* `k` and its complement `SECP26k1_order - k` will have nonce points `R(x, y)` and `R(x, -y)`.\n",
    "    * Only one will be a quadratic residue of the curve order.\n",
    "    \n",
    "Whether a scalar is a quadratic residue of the secp256k1 field size is determined with the jacobi symbol:\n",
    "\n",
    "* Bitcoin Core method: `jacobi_symbol(k, SECP256K1_FIELD_SIZE) == 1`\n",
    "* If the jacobisymbol is not 1, simply take the inverse of k: `k = SECP26k1_order - k`\n"
   ]
  },
  {
   "cell_type": "markdown",
   "metadata": {},
   "source": [
    "#### 2.1 _Programming Exercise:_ Sign a message with Schnorr\n",
    "\n",
    "* Sign the message with the provided key pair below."
   ]
  },
  {
   "cell_type": "code",
   "execution_count": null,
   "metadata": {},
   "outputs": [],
   "source": [
    "msg = hashlib.sha256(b'message').digest()\n",
    "x = ECKey()\n",
    "x.generate()\n",
    "P = x.get_pubkey()\n",
    "\n",
    "# We have to set uncompressed to get the y-coordinate.\n",
    "k_int = random.randrange(1, SECP256K1_ORDER)\n",
    "k = ECKey()\n",
    "k.set(k_int.to_bytes(32,'big'), False) # Uncompressed.\n",
    "R = k.get_pubkey()\n",
    "\n",
    "# Check that nonce is quadratic residue of field size.\n",
    "# Method: jacobi_symbol(nonce_int, SECP256K1_FIELD_SIZE)\n",
    "if jacobi_symbol(int.from_bytes(R.get_bytes()[33:], \"big\"), SECP256K1_FIELD_SIZE) != 1:\n",
    "    k_int = SECP256K1_ORDER - k_int\n",
    "\n",
    "# Generate s = k + H(R_x|P|msg) * x\n",
    "H_b = hashlib.sha256(R.get_bytes()[1:33] + P.get_bytes() + msg).digest()\n",
    "H_int = int.from_bytes(H_b, 'big')\n",
    "x_int = int.from_bytes(x.get_bytes(), 'big')\n",
    "s = (k_int + (H_int * x_int) % SECP256K1_ORDER ) % SECP256K1_ORDER\n",
    "\n",
    "# Generate sig = R_x|s\n",
    "sig = R.get_bytes()[1:33] + s.to_bytes(32,'big')\n",
    "\n",
    "print(P.verify_schnorr(sig, msg))"
   ]
  },
  {
   "cell_type": "markdown",
   "metadata": {},
   "source": [
    "## Part 3: Deterministic Nonces for Schnorr signatures\n",
    "\n",
    "So far we have used a random secret nonce for creating Schnorr signatures. This has the disadvantage that the the user must rely on the robustness of the random generator for each signing rounds. If the nonce generator is biased or even compromised, the private key can be derived for a given signature and known nonce.\n",
    "\n",
    "Therefore, for the single signer Schnorr signatures, the [Schnorr BIP](https://github.com/sipa/bips/blob/bip-schnorr/bip-schnorr.mediawiki) proposes a deterministic nonce generation scheme.\n",
    "\n",
    "* `k = sha256(x|msg)`"
   ]
  },
  {
   "cell_type": "markdown",
   "metadata": {},
   "source": [
    "#### 3.1 _Programming Exercise:_ Signing Schnorr with deterministic nonce.\n",
    "\n",
    "* Create a Schnorr signature with the deterministic nonce scheme proposed in the Schnorr BIP.\n",
    "* Compare this signature to the private key class method `ECKey.sign_schnorr(msg)`"
   ]
  },
  {
   "cell_type": "code",
   "execution_count": null,
   "metadata": {},
   "outputs": [],
   "source": [
    "msg = hashlib.sha256(b'message').digest()\n",
    "x = ECKey()\n",
    "x.generate()\n",
    "P = x.get_pubkey()\n",
    "\n",
    "# We have to set uncompressed to get the y-coordinate.\n",
    "k_b = hashlib.sha256(x.get_bytes() + msg).digest()\n",
    "k_int = int.from_bytes(k_b, \"big\")\n",
    "k = ECKey()\n",
    "k.set(k_b, False) \n",
    "R = k.get_pubkey()\n",
    "\n",
    "# Check that nonce is quadratic residue of field size.\n",
    "if jacobi_symbol(int.from_bytes(R.get_bytes()[33:], \"big\"), SECP256K1_FIELD_SIZE) != 1:\n",
    "    k_int = SECP256K1_ORDER - k_int\n",
    "\n",
    "# Generate s = k + H(R_x|P|msg) * x\n",
    "H_b = hashlib.sha256(R.get_bytes()[1:33] + P.get_bytes() + msg).digest()\n",
    "H_int = int.from_bytes(H_b, 'big')\n",
    "x_int = int.from_bytes(x.get_bytes(), 'big')\n",
    "s = (k_int + (H_int * x_int) % SECP256K1_ORDER ) % SECP256K1_ORDER\n",
    "\n",
    "# Generate sig = R_x|s\n",
    "sig = R.get_bytes()[1:33] + s.to_bytes(32,'big')\n",
    "sig2 = x.sign_schnorr(msg)\n",
    "\n",
    "print(P.verify_schnorr(sig, msg))\n",
    "print(P.verify_schnorr(sig2, msg))\n",
    "print(sig == sig2)"
   ]
  }
 ],
 "metadata": {
  "kernelspec": {
   "display_name": "Python 3",
   "language": "python",
   "name": "python3"
  },
  "language_info": {
   "codemirror_mode": {
    "name": "ipython",
    "version": 3
   },
   "file_extension": ".py",
   "mimetype": "text/x-python",
   "name": "python",
   "nbconvert_exporter": "python",
   "pygments_lexer": "ipython3",
   "version": "3.6.5"
  }
 },
 "nbformat": 4,
 "nbformat_minor": 2
}
