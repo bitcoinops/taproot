{
 "cells": [
  {
   "cell_type": "code",
   "execution_count": null,
   "metadata": {},
   "outputs": [],
   "source": [
    "import hashlib\n",
    "from io import BytesIO\n",
    "\n",
    "import util\n",
    "from test_framework.address import program_to_witness\n",
    "from test_framework.key import ECKey, ECPubKey, generate_schnorr_nonce\n",
    "from test_framework.messages import CTransaction, COutPoint, CTxIn, CTxOut, CScriptWitness, CTxInWitness, sha256\n",
    "from test_framework.musig import generate_musig_key, aggregate_schnorr_nonces, sign_musig, aggregate_musig_signatures\n",
    "from test_framework.script import TapLeaf, TapTree, CTransaction, TaprootSignatureHash, CScript, ser_string, OP_1, SIGHASH_ALL_TAPROOT\n",
    "import test_framework.segwit_addr as segwit_addr"
   ]
  },
  {
   "cell_type": "markdown",
   "metadata": {},
   "source": [
    "# 2.3 Tapscript\n"
   ]
  },
  {
   "cell_type": "markdown",
   "metadata": {},
   "source": [
    "In this chapter, we introduce tapscript, an updated Bitcoin scripting language which is introduced in [bip-tapscript](https://github.com/sipa/bips/blob/bip-schnorr/bip-tapscript.mediawiki). Tapscript retains most of the opcodes and evaluation rules applicable to v0 witness scripts, but includes several notable updates described in part 1 of this chapter. The most notable changes in tapscript include signature opcodes which verify bip-schnorr signatures, and the newly added checksigadd signature opcode, which replaces the legacy checkmultisig operation.\n",
    "\n",
    "* __Part 1: Script updates__\n",
    "    * Signature opcode updates.\n",
    "        * Schnorr verification.\n",
    "        * Checksigadd.\n",
    "    * Future Versioning\n",
    "        * Tapscript\n",
    "        * Opcodes\n",
    "\n",
    "We also propose a new set of tapscript descriptors in part 2. [Descriptors](https://github.com/bitcoin/bitcoin/blob/cf57e33cc6d95a96f94b259d7680ff9b4f7e22cf/doc/descriptors.md) are a human-readable, high-level template language to describe an individual output or a range of outputs. The proposed Tapscript descriptors include single or multisig (checksigadd) pay-to-pubkey outputs, in combination with hashlocks and time delays.\n",
    "\n",
    "* __Part 2: Tapscript descriptors__ (Proposed)\n",
    "    * `Pay-to-pubkey` descriptors\n",
    "    * `Checksigadd` descriptors\n",
    "\n",
    "In part 3, we learn how a tapscript can be committed to a taptweak. [Bip-taproot](https://github.com/sipa/bips/blob/bip-schnorr/bip-taproot.mediawiki) proposes such script commitments as an alternative output spending path, which is only revealed when spent. Taproot outputs with committed tapscripts are indistinguishable from other segwit v1 outputs. \n",
    "\n",
    "If the internal key of the taproot is a MuSig key, then a committed tapscript is considered an alternative, enforcing spending path, which can impose a separate set of spending conditions independent of the MuSig key. If all participants agree that the locking conditions of the tapscript can be spent, they can collaboratively spend along the MuSig key path, thereby increasing privacy and saving transaction costs.\n",
    "\n",
    "* __Part 3: Committing scripts into taptweaks__ (Proposed)\n",
    "    * Tagged Hashing\n",
    "    * TapLeaf: Tagged tapscript hashes\n",
    "    * Spending a single tapscript commitment\n"
   ]
  },
  {
   "cell_type": "markdown",
   "metadata": {},
   "source": [
    "## Part 1: Script Updates\n",
    "\n",
    "### Schnorr verification with signature opcodes\n",
    "\n",
    "The signature opcodes consume the same stack arguments as in Segwit v0, but now verify schnorr signatures as defined in [bip-schnorr](https://github.com/sipa/bips/blob/bip-schnorr/bip-schnorr.mediawiki).\n",
    "\n",
    "* OP_CHECKSIG\n",
    "    * Stack arguments consumed: `[public key] [bip-schnorr signature]`\n",
    "    * Pushes 0x01 on success or 0x00 on failure onto the stack.\n",
    "    * Requires an empty signature 0x00 to fail.\n",
    "    \n",
    "    \n",
    "* OP_CHECKSIGVERIFY\n",
    "    * Stack arguments consumed: `[public key] [bip-schnorr signature]`\n",
    "    * Continues with next opcode or fails script evaluation."
   ]
  },
  {
   "cell_type": "markdown",
   "metadata": {},
   "source": [
    "#### 2.3.1 Example: Pay-to-pubkey tapscript.\n",
    "\n",
    "* The pay-to-pubkey tapscript consist of the following script operations:\n",
    "    * `[pk] [checksig]`\n",
    "    \n",
    "* `TapLeaf.construct_pk(ECPubKey)` contructs a pk tapscript.\n",
    "* `TapLeaf.script` returns the script opcodes.\n",
    "* `TapLeaf.sat` returns witness elements required to satisfy the tapscript."
   ]
  },
  {
   "cell_type": "code",
   "execution_count": null,
   "metadata": {},
   "outputs": [],
   "source": [
    "# Generate key pair\n",
    "privkey0 = ECKey().generate()\n",
    "pubkey0 = privkey0.get_pubkey()\n",
    "\n",
    "# Generate tapscript\n",
    "pk_tapscript = TapLeaf()\n",
    "pk_tapscript.construct_pk(pubkey0)\n",
    "\n",
    "print(\"Tapscript operations:\")\n",
    "for op in pk_tapscript.script:\n",
    "    print(op.hex()) if isinstance(op, bytes) else print(op)\n",
    "\n",
    "print(\"\\nSatisfying witness element:\")\n",
    "for element, value in pk_tapscript.sat:\n",
    "    print(\"Witness element type is: {}\".format(element))\n",
    "    print(\"Signature corresponds to pubkey: {}\".format(value.hex()))"
   ]
  },
  {
   "cell_type": "markdown",
   "metadata": {},
   "source": [
    "### Disabled CHECKMULTISIG opcodes\n",
    "\n",
    "Legacy k-of-n multisignature opcodes would previously check each of the k signatures against up to n public keys. This is inefficient and disables batch verification of schnorr signatures, since pubkey and signature pairs cannot be known prior to script execution.\n",
    "\n",
    "* OP_CHECKMULTISIG\n",
    "* OP_CHECKMULTISIGVERIFY"
   ]
  },
  {
   "cell_type": "markdown",
   "metadata": {},
   "source": [
    "### Multisignatures with CHECKSIGADD\n",
    "\n",
    "Tapscript replaces the previous checkmultisig signature operation with OP_CHECKSIGADD. \n",
    "\n",
    "This multisignature signature opcode requires the witness to provide a valid or invalid signature for each public key, thereby avoiding the need to waste signature verfication operations for each public key in k-of-n multisignature scripts.\n",
    "\n",
    "* OP_CHECKSIGADD\n",
    "    * Equivalent to: `[OP_ROT][OP_SWAP][OP_CHECKSIG][OP_ADD]`\n",
    "    * Counted as one op towards 201 non-push opcode limit.\n",
    "    * Enables multisig scripts as shown below."
   ]
  },
  {
   "cell_type": "markdown",
   "metadata": {},
   "source": [
    "![test](images/tapscript0.jpg)\n"
   ]
  },
  {
   "cell_type": "markdown",
   "metadata": {},
   "source": [
    "### k-of-n CHECKSIGADD tapscripts\n",
    "\n",
    "Unlike legacy multisig, k-of-n checksigadd multisignature tapscripts will consume a stack element for each public key in the output script. This means that unused public keys must be evaluated against a zero witness element.\n",
    "\n",
    "For example:\n",
    "* Tapscript: `[pk0] [CHECKSIG] [PK1] [CHECKSIGADD] [PK2] [CHECKSIGADD] [2] [NUMEQUAL]`\n",
    "* Possible spending witness(es): \n",
    "    * `[sig2]` `[sig1]` `[]`\n",
    "    * `[sig2]` `[]` `[sig0]`\n",
    "    * `[]` `[sig1]` `[sig0]`\n",
    "\n",
    "The disadvantages of k-of-n Checksigadd multisignature scripts include\n",
    "* Cost: unused public keys are paid by the spender.\n",
    "* Privacy: unused public keys are revealed when tapscript is spent."
   ]
  },
  {
   "cell_type": "markdown",
   "metadata": {},
   "source": [
    "#### 2.3.2 Example: Generating a 2-of-3 checksigadd output\n",
    "\n",
    "In this example, we construct a 2-of-3 multisig output with `OP_CHECKSIGADD`."
   ]
  },
  {
   "cell_type": "code",
   "execution_count": null,
   "metadata": {},
   "outputs": [],
   "source": [
    "# Generate key pairs\n",
    "privkey0 = ECKey().generate()\n",
    "privkey1 = ECKey().generate()\n",
    "privkey2 = ECKey().generate()\n",
    "pubkey0 = privkey0.get_pubkey()\n",
    "pubkey1 = privkey1.get_pubkey()\n",
    "pubkey2 = privkey2.get_pubkey()\n",
    "\n",
    "# Generate tapscript\n",
    "csa_tapscript = TapLeaf()\n",
    "csa_tapscript.construct_csa(2, [pubkey0, pubkey1, pubkey2])\n",
    "\n",
    "print(\"CSA tapscript operations:\")\n",
    "for op in csa_tapscript.script:\n",
    "    print(op.hex()) if isinstance(op, bytes) else print(op)\n",
    "\n",
    "# Satisfying witness element.\n",
    "print(\"\\nSatisfying witness elements:\")\n",
    "for element, value in csa_tapscript.sat:\n",
    "    print(\"Witness element type is: {}\".format(element))\n",
    "    print(\"Signature corresponds to pubkey: {}\".format(value.hex()))"
   ]
  },
  {
   "cell_type": "markdown",
   "metadata": {},
   "source": [
    "### k-of-k CHECKSIGADD scripts\n",
    "\n",
    "Alternatively, a k-of-n multisig locking condition can be expressed with multiple k-of-k checksigadd tapscripts. This minimizes leakage of unused public keys and can be more cost-efficient for the spender.\n",
    "\n",
    "Use the following convenience method to generate k-of-k checksigadd tapscripts from n public keys.\n",
    "* `TapLeaf.generate_threshold_csa(k, [key_0, key_1, ..., key_n])`"
   ]
  },
  {
   "cell_type": "markdown",
   "metadata": {},
   "source": [
    "![test](images/tapscript1.jpg)\n"
   ]
  },
  {
   "cell_type": "markdown",
   "metadata": {},
   "source": [
    "#### 2.3.3 Example: 2-of-3 multisig expressed as 2-of-2 checksigadd tapscripts."
   ]
  },
  {
   "cell_type": "code",
   "execution_count": null,
   "metadata": {},
   "outputs": [],
   "source": [
    "# Generate key pairs\n",
    "privkey0 = ECKey().generate()\n",
    "privkey1 = ECKey().generate()\n",
    "privkey2 = ECKey().generate()\n",
    "pubkey0 = privkey0.get_pubkey()\n",
    "pubkey1 = privkey1.get_pubkey()\n",
    "pubkey2 = privkey2.get_pubkey()\n",
    "\n",
    "# Generate tapscripts\n",
    "pubkeys = [pubkey0, pubkey1, pubkey2]\n",
    "tapscripts = TapLeaf.generate_threshold_csa(2, pubkeys)\n",
    "\n",
    "print(\"2-of-3 multisig expressed as 2-of-2 checkigadd tapscripts:\")\n",
    "for ts in tapscripts:\n",
    "    print(ts.desc)"
   ]
  },
  {
   "cell_type": "markdown",
   "metadata": {},
   "source": [
    "### Tapscript versioning\n",
    "\n",
    "Tapscript allows for future upgrades of individual tapscripts and specific opcodes.\n",
    "\n",
    "* Leaf version (commited to TapTree leaf node)\n",
    "    * Initial version: `0xC0`\n",
    "    * The leaf version is committed to the tapleaf (See Part 3).\n",
    "* Success opcodes (allow for future functionality).\n",
    "    * 80, 98, 126-129, 131-134, 137-138, 141-142, 149-153, 187-254\n",
    "    * Any of these opcodes end script evaluation successfully."
   ]
  },
  {
   "cell_type": "markdown",
   "metadata": {},
   "source": [
    "## Part 2: Tapscript descriptors\n",
    "\n",
    "A tapscript descriptor is a human-readable language expression which maps to a unique output. We propose each tapscript descriptor to be encapsulated by a tapscript tag `ts`, which can be updated in future tapleaf versions. \n",
    "* `ts(pk(key))`, `ts(csa(key))`, ..."
   ]
  },
  {
   "cell_type": "markdown",
   "metadata": {},
   "source": [
    "### Pay-to-pubkey tapscript descriptors\n",
    "\n",
    "Next, let us consider specific types of tapscript descriptors. The simplist form of tapscript descriptors are pay-to-pubkey tapscripts. They are spendable by a valid signature witness element, but can be combined with other locking conditions, such as hashlocks and time delays.\n",
    "\n",
    "* `ts(pk(key))`\n",
    "    * Witness: `[signature]`\n",
    "    \n",
    "    \n",
    "* `ts(pkhash(key, 20B-hash-digest))`\n",
    "    * Witness: `[signature]`,`[32B-preimage]`\n",
    "    \n",
    "    \n",
    "* `ts(pkolder(key, delay))`\n",
    "    * Witness: `[signature]`\n",
    "    * Spendable after delay (with `nSequence > delay`)\n",
    "    \n",
    "    \n",
    "* `ts(pkhasholder(key, 20B-hash-digest, delay))`\n",
    "    * Witness: `[signature]`,`[32B-preimage]`\n",
    "    * Spendable after delay  (with `nSequence > delay`)"
   ]
  },
  {
   "cell_type": "markdown",
   "metadata": {},
   "source": [
    "We also provide pay-to-pubkey tapscript constructors for for the `TapLeaf` class. \n",
    "\n",
    "* `TapLeaf.construct_pk(ECPubKey)`\n",
    "* `TapLeaf.construct_pkhash(ECPubKey, 20B-hash-digest)`\n",
    "* `TapLeaf.construct_pkolder(ECPubKey, delay)`\n",
    "* `TapLeaf.construct_pkhasholder(ECPubKey, 20B-hash-digest, delay)`\n",
    "\n",
    "The descriptor string can be recalled with:\n",
    "* `TapLeaf.desc`\n",
    "\n",
    "**Note:** pubkeys in pay-to-pubkey tapscripts can be generated with multi-party schemes such as MuSig."
   ]
  },
  {
   "cell_type": "markdown",
   "metadata": {},
   "source": [
    "#### 2.3.4 Example: Generating a `pkolder` tapscript\n",
    "\n",
    "We construct a pkhasholder tapscript with the following locking conditions:\n",
    "\n",
    "* 2-of-2 MuSig public key\n",
    "* Delay of 20 blocks"
   ]
  },
  {
   "cell_type": "code",
   "execution_count": null,
   "metadata": {},
   "outputs": [],
   "source": [
    "# Generate MuSig key\n",
    "privkey0 = ECKey().generate()\n",
    "privkey1 = ECKey().generate()\n",
    "pubkey0 = privkey0.get_pubkey()\n",
    "pubkey1 = privkey1.get_pubkey()\n",
    "c_map, pk_musig = generate_musig_key([pubkey0, pubkey1])\n",
    "\n",
    "# Generate pkolder tapscript\n",
    "pkhash_tapscript = TapLeaf()\n",
    "pkhash_tapscript.construct_pkolder(pk_musig, 20)\n",
    "print(\"Tapscript descriptor:\", pkhash_tapscript.desc, \"\\n\")\n",
    "\n",
    "print(\"Tapscript operations:\")\n",
    "for op in pkhash_tapscript.script:\n",
    "    print(op.hex()) if isinstance(op, bytes) else print(op)\n",
    "\n",
    "print(\"\\nSatisfying witness elements:\")\n",
    "for element, value in pkhash_tapscript.sat:\n",
    "    print(\"{}, {}\".format(element, value.hex()))"
   ]
  },
  {
   "cell_type": "markdown",
   "metadata": {},
   "source": [
    "### CHECKSIGADD tapscript descriptors\n",
    "\n",
    "A CHECKSIGADD tapscript descriptor is proposed to have the following forms, and can also be combined with hashlocks and delays.\n",
    "\n",
    "* `ts(csa(k, [key0, key1, ...]))`\n",
    "    * Witness: `[signature], [signature], ...`\n",
    "    * Note: for n < m, empty signature elements (zero) must be provided.\n",
    "    \n",
    "\n",
    "* `ts(csaolder(k, [key0, key1, ...], hash))`\n",
    "    * Witness: `[signature], [signature], ..., [delay]`\n",
    "\n",
    "\n",
    "* `ts(csahash(k, [key0, key1, ...], hash, time))`\n",
    "    * Witness: `[signature], [signature], ..., [32B pre-image]`\n",
    "\n",
    "\n",
    "* `ts(csahasholder(k, [key0, key1, ...], hash, time))`\n",
    "    * Witness: `[signature], [signature], ..., [32B pre-image], [delay]`"
   ]
  },
  {
   "cell_type": "markdown",
   "metadata": {},
   "source": [
    "We also provide checksigadd tapscript constructors for for the `TapLeaf` class. \n",
    "\n",
    "* `TapLeaf.construct_csa(k, [ECPubKey, ECPubKey, ...])`\n",
    "* `TapLeaf.construct_csahash(k, [ECPubKey, ECPubKey, ...], 20B-hash-digest)`\n",
    "* `TapLeaf.construct_csaolder(k, [ECPubKey, ECPubKey, ...], delay)`\n",
    "* `TapLeaf.construct_csahasholder(k, [ECPubKey, ECPubKey, ...], 20B-hash-digest, delay)`\n",
    "\n",
    "**Note:** Any single public key in CSA tapscripts can be generated with multi-party schemes such as MuSig."
   ]
  },
  {
   "cell_type": "markdown",
   "metadata": {},
   "source": [
    "#### 2.3.5 _Programming Exercise:_ Generate a 2-of-2 `csahasholder` tapscript\n",
    "\n",
    "Construct a `csahasholder` tapscript with the following locking conditions:\n",
    "\n",
    "* 2-of-2 public keys\n",
    "* Hashlock with the preimage `sha256(b'secret')`\n",
    "* Delay of 20 blocks"
   ]
  },
  {
   "cell_type": "code",
   "execution_count": null,
   "metadata": {},
   "outputs": [],
   "source": [
    "# Generate key pairs\n",
    "privkey0 = # TODO: implement\n",
    "privkey1 = # TODO: implement\n",
    "\n",
    "pubkey0 = # TODO: implement\n",
    "pubkey1 = # TODO: implement\n",
    "\n",
    "print(\"pubkey0: {}\".format(pubkey0.get_bytes().hex()))\n",
    "print(\"pubkey1: {}\\n\".format(pubkey1.get_bytes().hex()))\n",
    "\n",
    "# Method: 32B preimage - sha256('sha256', bytes)\n",
    "# Method: 20B digest - hashlib.new('ripemd160', bytes).digest()\n",
    "secret = b'secret'\n",
    "preimage =  # TODO: implement\n",
    "digest =  # TODO: implement\n",
    "delay =  # TODO: implement\n",
    "\n",
    "# Construct tapscript\n",
    "csahasholder_tapscript =  # TODO: implement\n",
    "print(\"Descriptor:\", csahasholder_tapscript.desc, \"\\n\")\n",
    "\n",
    "print(\"Tapscript operations:\")\n",
    "for op in csahasholder_tapscript.script:\n",
    "    print(op.hex()) if isinstance(op, bytes) else print(op)\n",
    "\n",
    "print(\"\\nSatisfying witness elements:\")\n",
    "for element, value in csahasholder_tapscript.sat:\n",
    "    print(\"{}, {}\".format(element, value.hex()))"
   ]
  },
  {
   "cell_type": "markdown",
   "metadata": {},
   "source": [
    "## Part 3: Committing scripts into taptweaks\n",
    "\n",
    "### Tagged hashes\n",
    "\n",
    "In chapter 2.2, we learned that it is possible to make valid commitments to a public key, which are called taptweaks. A taptweak commitment is computed with tagged hashes.\n",
    "\n",
    "* **`TapTweak`** = `sha256(sha256(\"TapTweak\") + sha256(\"TapTweak\") + commitment_hash)`\n",
    "    \n",
    "More generally, we can use this function to create tagged hashes, which are described in [bip-schnorr](https://github.com/sipa/bips/blob/bip-schnorr/bip-taproot.mediawiki) and [bip-taproot](https://github.com/sipa/bips/blob/bip-schnorr/bip-taproot.mediawiki). \n",
    "\n",
    "* **`tagged_hash(\"Tag\")`** = `sha256(sha256(\"Tag\") + sha256(\"Tag\") + data)`\n",
    " \n",
    "Tagged hashes have the advantages that they provide higher collision resistance. The 64B, duplicated sha256(\"Tag\") expression lends itself to optimization in tagged hash implementations. "
   ]
  },
  {
   "cell_type": "markdown",
   "metadata": {},
   "source": [
    "### Single tapleaf script commitments\n",
    "\n",
    "In order to commit a _tapscript_ to a taptweak, we simply compute the `tagged_hash(\"TapLeaf\")` for the tapscript, along with its tapleaf version and then commit the tapleaf to the taptweak.\n",
    "\n",
    "* 1. **`TapLeaf`** = `sha256(sha256(\"TapLeaf\") + sha256(\"TapLeaf\") + version|size|script)`\n",
    "* 2. **`TapTweak`** = `sha256(sha256(\"TapTweak\") + sha256(\"TapTweak\") + internal_pubkey + TapLeaf)`\n",
    "\n",
    "Initial tapscript version:\n",
    "* `0xc0`\n",
    "\n",
    "Script compact size:\n",
    "* `ser_string(Cscript)` returns the `Cscript` with leading compact size bytes.\n",
    "* `TapLeaf.script` returns the cscript of the tapscript/tapleaf."
   ]
  },
  {
   "cell_type": "markdown",
   "metadata": {},
   "source": [
    "#### _2.3.6 Programming Exercise:_ Compute the taptweak from a tapscript\n",
    "\n",
    "* Use the `tagged_hash` method to compute a tagged hash.\n",
    "* Generate an internal public key.\n",
    "* Compute the taptweak from a single `csahasholder_tapscript` commitment."
   ]
  },
  {
   "cell_type": "code",
   "execution_count": null,
   "metadata": {},
   "outputs": [],
   "source": [
    "def tagged_hash(tag, input_data):\n",
    "    data = sha256(tag.encode('utf-8'))\n",
    "    data += data\n",
    "    data += input_data\n",
    "    return sha256(data)\n",
    "\n",
    "privkey_internal =  # TODO: implement\n",
    "pubkey_internal =  # TODO: implement\n",
    "\n",
    "# Method: ser_string(Cscript) prepends compact size.\n",
    "TAPSCRIPT_VER = bytes([0xc0])\n",
    "tapleaf =  # TODO: implement\n",
    "taptweak =  # TODO: implement\n",
    "print(\"Your constructed taptweak is: {}.\".format(taptweak.hex()))"
   ]
  },
  {
   "cell_type": "markdown",
   "metadata": {},
   "source": [
    "#### 2.3.7 Example: Compare tagged hash with taptweak constructor\n",
    "\n",
    "* The `TapTree.construct()` method constructs the triple: `segwit_v1_cscript`, `taptweak`, `cblock_map`.\n",
    "* Run the code below to generate the taptweak and compare with your taptweak computation."
   ]
  },
  {
   "cell_type": "code",
   "execution_count": null,
   "metadata": {},
   "outputs": [],
   "source": [
    "taptree = TapTree()\n",
    "taptree.key = pubkey_internal\n",
    "taptree.root = csahasholder_tapscript\n",
    "segwit_v1_script, tap_tweak_constructed, control_map = taptree.construct()\n",
    "\n",
    "assert taptweak == tap_tweak_constructed\n",
    "print(\"Success! Your constructed taptweak is correct.\")"
   ]
  },
  {
   "cell_type": "markdown",
   "metadata": {},
   "source": [
    "### Spending a single tapscript script commitment\n",
    "\n",
    "The witness which can spend a single committed tapscript requires witness data which provides the satifying elements of the tapscript, and proof that the tapscript is committed to the witness program.\n",
    "\n",
    "* `[Stack element(s) satisfying tapscript]`\n",
    "* `[Tapscript]`\n",
    "* `[Controlblock c]`\n",
    "\n",
    "The controlblock c is a single stack element consisting of:\n",
    "* `[Tapscript version]`\n",
    "    * `0xfe & c[0]`\n",
    "* `[Internal Public Key]`\n",
    "    * `y-coordinate: 0x01 & c[0]`\n",
    "    * `x-coordinate: c[1:33]`\n",
    "\n"
   ]
  },
  {
   "cell_type": "markdown",
   "metadata": {},
   "source": [
    "#### Example 2.3.8:  Generate a single tapscript segwit v1 address\n",
    "\n",
    "In this example, we construct segwit v1 output for spending along the single script path. We will reuse the previosuly generated segwit v1 witness program which has the `csahasholder` tapscript committed to it, and encode it to a bech32 address."
   ]
  },
  {
   "cell_type": "code",
   "execution_count": null,
   "metadata": {},
   "outputs": [],
   "source": [
    "# Tweak the internal key to obtain the Segwit program \n",
    "# ([1B oddness] [32B x-coordinate])\n",
    "taproot_pubkey = pubkey_internal.tweak_add(taptweak) \n",
    "taproot_pubkey_b = taproot_pubkey.get_bytes()\n",
    "program = bytes([taproot_pubkey_b[0] & 1]) + taproot_pubkey_b[1:]\n",
    "print(\"Witness program is {}\\n\".format(program.hex()))\n",
    "\n",
    "# Create (regtest) bech32 address\n",
    "version = 0x01\n",
    "address = segwit_addr.encode(\"bcrt\", version, program)\n",
    "print(\"bech32 address is {}\".format(address))"
   ]
  },
  {
   "cell_type": "markdown",
   "metadata": {},
   "source": [
    "#### Example 2.3.9: Startup TestWrapper to initialize a regtest node and wallet\n",
    "\n",
    "Run setup only once, or after a clean shutdown."
   ]
  },
  {
   "cell_type": "code",
   "execution_count": null,
   "metadata": {},
   "outputs": [],
   "source": [
    "test = util.TestWrapper()\n",
    "test.setup(num_nodes=1)\n",
    "\n",
    "version = test.nodes[0].getnetworkinfo()['subversion']\n",
    "print(\"Client version is {}\".format(version))"
   ]
  },
  {
   "cell_type": "markdown",
   "metadata": {},
   "source": [
    "####  Example 2.3.10: Generate coins for the wallet"
   ]
  },
  {
   "cell_type": "code",
   "execution_count": null,
   "metadata": {},
   "outputs": [],
   "source": [
    "test.nodes[0].generate(101)\n",
    "balance = test.nodes[0].getbalance()\n",
    "print('Balance: {}'.format(balance))\n",
    "\n",
    "assert balance > 1"
   ]
  },
  {
   "cell_type": "markdown",
   "metadata": {},
   "source": [
    "#### Example 2.3.11: Send funds from the Bitcoin Core wallet to the segwit v1 address"
   ]
  },
  {
   "cell_type": "code",
   "execution_count": null,
   "metadata": {},
   "outputs": [],
   "source": [
    "# Send wallet transaction to segwit address\n",
    "amount_btc = 0.05\n",
    "txid = test.nodes[0].sendtoaddress(address, amount_btc)\n",
    "\n",
    "# Decode wallet transaction\n",
    "tx_hex = test.nodes[0].getrawtransaction(txid) \n",
    "decoded_tx = test.nodes[0].decoderawtransaction(tx_hex)\n",
    "\n",
    "print(\"Transaction:\\n{}\\n\".format(decoded_tx))\n",
    "\n",
    "# Reconstruct wallet transaction locally\n",
    "tx = CTransaction()\n",
    "tx.deserialize(BytesIO(bytes.fromhex(tx_hex)))\n",
    "tx.rehash()\n",
    "\n",
    "# We can check if the transaction was correctly deserialized\n",
    "assert txid == decoded_tx[\"txid\"]\n",
    "\n",
    "# The wallet randomizes the change output index for privacy\n",
    "# Loop through the outputs and return the first where the scriptPubKey matches the segwit v1 output\n",
    "output_index, output = next(out for out in enumerate(tx.vout) if out[1].scriptPubKey == CScript([OP_1, program]))\n",
    "\n",
    "print(\"Segwit v1 output is {}\".format(output))\n",
    "print(\"Segwit v1 output value is {}\".format(output.nValue))\n",
    "print(\"Segwit v1 output index is {}\".format(output_index))"
   ]
  },
  {
   "cell_type": "markdown",
   "metadata": {},
   "source": [
    "#### _Programming Exercise 2.3.12:_ Construct `CTransaction` and populate inputs\n",
    "\n",
    "* Transaction version must set to 2 if the tapscript has set a spend delay.\n",
    "* The input sequence must be encoded with the required spend delay.\n",
    "    * `CTxIn(outpoint = ..., nSequence = ...)`"
   ]
  },
  {
   "cell_type": "code",
   "execution_count": null,
   "metadata": {},
   "outputs": [],
   "source": [
    "# Construct transaction\n",
    "spending_tx = CTransaction()\n",
    "\n",
    "# Populate the transaction version\n",
    "spending_tx.nVersion =  # TODO: implement\n",
    "\n",
    "# Populate the locktime\n",
    "spending_tx.nLockTime = 0\n",
    "\n",
    "# Populate the transaction inputs\n",
    "# Method: Construct COutPoint(txid, index)\n",
    "# Method: Construct CTxIn(outpoint = ..., nSequence = ...)\n",
    "# Tip: CTransaction.vin = \"list of CTxIn objects\"\n",
    "spending_tx.vin =  # TODO: implement\n",
    "\n",
    "print(\"Spending transaction:\\n{}\".format(spending_tx))"
   ]
  },
  {
   "cell_type": "markdown",
   "metadata": {},
   "source": [
    "#### Example 2.3.13: Populate outputs\n",
    "\n",
    "We'll generate an output address in the Bitcoin Core wallet to send the funds to, determine the fee, and then populate the spending tx with an output to that address."
   ]
  },
  {
   "cell_type": "code",
   "execution_count": null,
   "metadata": {},
   "outputs": [],
   "source": [
    "# Generate new Bitcoin Core wallet address\n",
    "dest_addr = test.nodes[0].getnewaddress(address_type=\"bech32\")\n",
    "scriptpubkey = bytes.fromhex(test.nodes[0].getaddressinfo(dest_addr)['scriptPubKey'])\n",
    "\n",
    "# Determine minimum fee required for mempool acceptance\n",
    "min_fee = int(test.nodes[0].getmempoolinfo()['mempoolminfee'] * 100000000)\n",
    "\n",
    "# Complete output which returns funds to Bitcoin Core wallet\n",
    "amount_sat = int(amount_btc * 100000000)\n",
    "dest_output = CTxOut(nValue=amount_sat - min_fee, scriptPubKey=scriptpubkey)\n",
    "spending_tx.vout = [dest_output]\n",
    "\n",
    "print(\"Spending transaction:\\n{}\".format(spending_tx))"
   ]
  },
  {
   "cell_type": "markdown",
   "metadata": {},
   "source": [
    "#### _Programming Exercise 2.3.14:_ Sign the transaction\n",
    "\n",
    "Note that we must pass the following arguments to `TaprootSignatureHash` for script path spending:\n",
    "* `scriptpath`: `True`\n",
    "* `tapscript`: `Cscript` of tapscript"
   ]
  },
  {
   "cell_type": "code",
   "execution_count": null,
   "metadata": {},
   "outputs": [],
   "source": [
    "# Generate the Taproot Signature Hash for signing\n",
    "sighash = TaprootSignatureHash(spending_tx,\n",
    "                               [output],\n",
    "                               SIGHASH_ALL_TAPROOT,\n",
    "                               input_index = 0,\n",
    "                               scriptpath =  # TODO: implement\n",
    "                               tapscript =  # TODO: implement\n",
    "\n",
    "# Sign with both privkeys\n",
    "signature0 =  # TODO: implement\n",
    "signature1 =  # TODO: implement\n",
    "\n",
    "print(\"Signature0: {}\".format(signature0.hex()))\n",
    "print(\"Signature1: {}\".format(signature1.hex()))"
   ]
  },
  {
   "cell_type": "markdown",
   "metadata": {},
   "source": [
    "#### _Programming Exercise 2.3.15:_ Add the witness and test acceptance of the transaction\n",
    "\n",
    "Remember to revisit the satisfying witness elements for `csahasholder_tapscript` constructed in exercise 2.3.5:\n",
    "* Preimage\n",
    "* Signature for pubkey1\n",
    "* Signature for pubkey0\n",
    "\n",
    "Ensure that the time-lock performs as expected."
   ]
  },
  {
   "cell_type": "code",
   "execution_count": null,
   "metadata": {},
   "outputs": [],
   "source": [
    "# Construct transaction witness\n",
    "# Tip: Witness stack for script path - [satisfying elements for tapscript] [TapLeaf.script] [controlblock]\n",
    "# Tip: Controlblock for a tapscript in control_map[TapLeaf.script]\n",
    "witness = CScriptWitness()\n",
    "witness.stack =  # TODO: implement\n",
    "witness_in = CTxInWitness()\n",
    "witness_in.scriptWitness = witness\n",
    "spending_tx.wit.vtxinwit.append(witness_in)\n",
    "\n",
    "print(\"Spending transaction:\\n{}\\n\".format(spending_tx))\n",
    "\n",
    "# Serialize signed transaction for broadcast\n",
    "spending_tx_str = spending_tx.serialize().hex()\n",
    " \n",
    "# Test mempool acceptance with and without delay.\n",
    "assert test.nodes[0].testmempoolaccept([spending_tx_str])[0]['allowed']\n",
    "assert not test.nodes[0].testmempoolaccept([spending_tx_str])[0]['allowed']\n",
    "test.nodes[0].generate(delay)\n",
    "assert test.nodes[0].testmempoolaccept([spending_tx_str])[0]['allowed']\n",
    "\n",
    "print(\"Success!\")"
   ]
  },
  {
   "cell_type": "markdown",
   "metadata": {},
   "source": [
    "#### Shutdown TestWrapper"
   ]
  },
  {
   "cell_type": "code",
   "execution_count": null,
   "metadata": {},
   "outputs": [],
   "source": [
    "# Shutdown\n",
    "test.shutdown()"
   ]
  },
  {
   "cell_type": "markdown",
   "metadata": {},
   "source": [
    "**Congratulations!** In this chapter, you have:\n",
    "\n",
    "- Learned how the tapscript semantics differ from legacy Bitcoin script semantics:\n",
    "    - `OP_CHECKSIG` opcodes verify bip-schnorr signatures instead of ecdsa signatures.\n",
    "    - `OP_CHECKMULTISIG` and `OP_CHECKMULTISIGVERIFY` are replaced by `OP_CHECKSIGADD`.\n",
    "- Converted a k-of-n threshold signing scheme into a tree of multiple k-of-k threshold signing schemes.\n",
    "- Learned how tapscript is versioned.\n",
    "- Used output descriptors to specify and construct a tapscript.\n",
    "- Learned how a tapscript can be committed as a tweak into a taproot internal public key.\n",
    "- Sent coins to a segwit v1 output with a tweaked public key committing to a tapscript, and later spent that output by using the script path."
   ]
  }
 ],
 "metadata": {
  "kernelspec": {
   "display_name": "Python 3",
   "language": "python",
   "name": "python3"
  },
  "language_info": {
   "codemirror_mode": {
    "name": "ipython",
    "version": 3
   },
   "file_extension": ".py",
   "mimetype": "text/x-python",
   "name": "python",
   "nbconvert_exporter": "python",
   "pygments_lexer": "ipython3",
   "version": "3.6.5"
  }
 },
 "nbformat": 4,
 "nbformat_minor": 2
}
