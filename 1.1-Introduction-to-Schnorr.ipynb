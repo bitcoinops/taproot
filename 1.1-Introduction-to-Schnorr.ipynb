{
 "cells": [
  {
   "cell_type": "code",
   "execution_count": null,
   "metadata": {},
   "outputs": [],
   "source": [
    "import hashlib\n",
    "import random\n",
    "import util\n",
    "from test_framework.key import ECKey, ECPubKey, jacobi_symbol, SECP256K1_FIELD_SIZE, SECP256K1_ORDER"
   ]
  },
  {
   "cell_type": "markdown",
   "metadata": {},
   "source": [
    "# 1.1 Introduction to Schnorr Signatures\n",
    "\n",
    "* Part 1: Schnorr Signatures.\n",
    "* Part 2: Deterministic Nonces."
   ]
  },
  {
   "cell_type": "markdown",
   "metadata": {},
   "source": [
    "## Part 1: Schnorr Signatures\n",
    "\n",
    "[bip-schnorr](https://github.com/bitcoinops/bips/blob/V0.1/bip-schnorr.mediawiki) defines a signature/verifier scheme, as well as pubkey and signature encodings.\n",
    "\n",
    "The schnorr signature equation is the following:\n",
    "\n",
    "* `S = R + H(x(R)|P|msg) * P`\n",
    "\n",
    "Signing involves generating a secret nonce first.\n",
    "\n",
    "* Generate secret scalar `k`\n",
    "\n",
    "Then computing `s` from:\n",
    "\n",
    "* `s = k - H(x(R)|P|m)`\n",
    "\n",
    "The resulting signature is:\n",
    "\n",
    "* `x(R), s`"
   ]
  },
  {
   "cell_type": "markdown",
   "metadata": {},
   "source": [
    "![test](images/schnorr0.jpg)"
   ]
  },
  {
   "cell_type": "markdown",
   "metadata": {},
   "source": [
    "### Constraint on the private nonce k\n",
    "\n",
    "To verify a bip-schnorr signature, the verifier needs the computed `s` scalar and the nonce point `R`. To save 32 bytes in the signature, only the x-value of `R` is provided by the signer, from which the verifier can compute the y-value.\n",
    "\n",
    "For a given x-coordinate on the secp256k1 curve, there are two possible curve points:\n",
    "\n",
    "* `y^2 = x^3 + 7` (Two y-coordinate values for a given x-coordinate)\n",
    "    * For `x`, both `(x, y)` and `(x, -y)` are valid curve points (where `-y` is `SECP256K1_ORDER - y` since all arithmetic is modulo `SECP256K1_ORDER`).\n",
    "    * One of the y-coordinates is even, and the other is odd (since `SECP256K1_ORDER` is odd).\n",
    "    * One of the y-coordinates is a quadratic residue (has a square root modulo the field size), and the other is not.\n",
    "\n",
    "The bip-schnorr proposal constrains `k` such that the y-value of R is a quadratic residue modulo `SECP256K1_ORDER`. This means that from the `x` co-ordinate, the verifier can unambigiously determine `y`.\n",
    "\n",
    "* `k` and `SECP256K1_ORDER - k` have nonce points `R = (x, y)` and `R = (x, -y)` respectively.\n",
    "* Only one will have a y-coordinate which is a quadratic residue modulo the field order. If a randomly generated nonce `k` does not yield a valid nonce point `R`, then the signer can negate `k` to obtain a valid nonce.\n",
    "    \n",
    "Whether a scalar is a quadratic residue modulo the secp256k1 field order can be determined by its [jacobi symbol](http://en.wikipedia.org/wiki/Jacobi_symbol). The Test Framework provides a `jacobi_symbol()` function. If `jacobi_symbol(y, SECP256K1_FIELD_SIZE) == 1`, then `y` is a quadratic residue."
   ]
  },
  {
   "cell_type": "markdown",
   "metadata": {},
   "source": [
    "#### 1.1.1 Example: Calculating a valid nonce"
   ]
  },
  {
   "cell_type": "code",
   "execution_count": null,
   "metadata": {},
   "outputs": [],
   "source": [
    "# Generate a random value in the secp256k1 field\n",
    "k = random.randrange(1, SECP256K1_ORDER)\n",
    "print(\"k = {}\\n\".format(k))\n",
    "\n",
    "# Create an uncompressed key so it's easier to access the y-coordinate\n",
    "k_key = ECKey()\n",
    "k_key.set(k.to_bytes(32,'big'), False)\n",
    "R = k_key.get_pubkey()\n",
    "\n",
    "# Find y and -y\n",
    "y = int.from_bytes(R.get_bytes()[33:], \"big\")\n",
    "minus_y = SECP256K1_FIELD_SIZE - y\n",
    "print(\"y = {}\".format(y))\n",
    "print(\"-y = {}\\n\".format(minus_y))\n",
    "\n",
    "# One of y and -y will be even and the other will be odd\n",
    "print(\"y is {}\".format(\"odd\" if y % 2 else \"even\"))\n",
    "print(\"-y is {}\\n\".format(\"odd\" if minus_y % 2 else \"even\"))\n",
    "\n",
    "# One of y and -y will be a quadratic residue and the other will not\n",
    "print(\"y is {}a quadratic residue\".format(\"\" if jacobi_symbol(y, SECP256K1_FIELD_SIZE) == 1 else \"not \"))\n",
    "print(\"-y is {}a quadratic residue\\n\".format(\"\" if jacobi_symbol(minus_y, SECP256K1_FIELD_SIZE) == 1 else \"not \"))\n",
    "\n",
    "print(\"k is {}a valid nonce\".format(\"\" if jacobi_symbol(y, SECP256K1_FIELD_SIZE) == 1 else \"not \"))\n",
    "print(\"-k is {}a valid nonce\".format(\"\" if jacobi_symbol(minus_y, SECP256K1_FIELD_SIZE) == 1 else \"not \"))"
   ]
  },
  {
   "cell_type": "markdown",
   "metadata": {},
   "source": [
    "#### 1.1.2 _Programming Exercise:_ Verify that inverse nonce values `k` and `-k` generate inverse points `R` and `-R`"
   ]
  },
  {
   "cell_type": "code",
   "execution_count": null,
   "metadata": {},
   "outputs": [],
   "source": [
    "# Generate a random value in the secp256k1 field\n",
    "k = random.randrange(1, SECP256K1_ORDER)\n",
    "k_key = ECKey()\n",
    "\n",
    "# Create an uncompressed key from k so it's easier to access the y-coordinate, and get the pubkey\n",
    "\n",
    "\n",
    "# Find the x- and y-coordinates from R\n",
    "R_x = # TODO:implement\n",
    "R_y = # TODO:implement\n",
    "\n",
    "# Find k's inverse (SECP256K1_FIELD_SIZE - k)\n",
    "\n",
    "# Create an uncompressed key from -k so it's easier to access the y-coordinate, and get the pubkey\n",
    "\n",
    "\n",
    "# Find the x- and y-coordinates from -R\n",
    "minus_R_x = # TODO:implement\n",
    "minus_R_y = # TODO:implement\n",
    "\n",
    "assert R_x = minus_R_x\n",
    "assert SECP256K1_FIELD_SIZE - R_y = minus_R_y\n",
    "\n",
    "print(\"Success!\")"
   ]
  },
  {
   "cell_type": "markdown",
   "metadata": {},
   "source": [
    "#### 1.1.3 _Programming Exercise:_ Sign a message with Schnorr\n",
    "\n",
    "* Sign the message with the provided key pair below."
   ]
  },
  {
   "cell_type": "code",
   "execution_count": null,
   "metadata": {},
   "outputs": [],
   "source": [
    "msg = hashlib.sha256(b'message').digest()\n",
    "x = ECKey()\n",
    "x.generate()\n",
    "P = x.get_pubkey()\n",
    "\n",
    "# We have to set uncompressed to get the y-coordinate.\n",
    "k_int = random.randrange(1, SECP256K1_ORDER)\n",
    "k = ECKey()\n",
    "k.set(k_int.to_bytes(32,'big'), False) # Uncompressed.\n",
    "R = k.get_pubkey()\n",
    "\n",
    "# Check that nonce is quadratic residue modulo the field order.\n",
    "# Method: jacobi_symbol(int(y(R)), SECP256K1_FIELD_SIZE)\n",
    "\n",
    "\n",
    "# Generate s = k + sha256(R_x|P|msg) * x\n",
    "# Method: hashlib.sha256(bytes)\n",
    "\n",
    "\n",
    "# Generate sig = R_x|s\n",
    "\n",
    "\n",
    "# Verify the signature\n",
    "assert P.verify_schnorr(sig, msg)\n",
    "\n",
    "print(\"Success!\")"
   ]
  },
  {
   "cell_type": "markdown",
   "metadata": {},
   "source": [
    "## Part 2: Deterministic Nonces for schnorr signatures\n",
    "\n",
    "So far we have used a random secret nonce for creating Schnorr signatures. This has the disadvantage that the the user must rely on the robustness of the random generator for each signing rounds. If the nonce generator is biased or even compromised, the private key can be derived for a given signature and known nonce.\n",
    "\n",
    "For the single signer schnorr signatures, bip-schnorr proposes a deterministic nonce generation scheme.\n",
    "\n",
    "* `k = sha256(x|msg)`"
   ]
  },
  {
   "cell_type": "markdown",
   "metadata": {},
   "source": [
    "#### 1.1.4 _Programming Exercise:_ Signing Schnorr with deterministic nonce.\n",
    "\n",
    "* Create a Schnorr signature with bip-schnorr's deterministic nonce scheme\n",
    "* Compare this signature to the private key class method `ECKey.sign_schnorr(msg)`"
   ]
  },
  {
   "cell_type": "code",
   "execution_count": null,
   "metadata": {},
   "outputs": [],
   "source": [
    "msg = hashlib.sha256(b'message').digest()\n",
    "x = ECKey()\n",
    "x.generate()\n",
    "P = x.get_pubkey()\n",
    "\n",
    "# Compute the deterministic nonce.\n",
    "\n",
    "\n",
    "# Check that nonce is quadratic residue modulo the field order.\n",
    "\n",
    "\n",
    "# Generate s = k + H(R_x|P|msg) * x\n",
    "\n",
    "\n",
    "# Generate sig = R_x|s\n",
    "sig =  # TODO: implement\n",
    "\n",
    "# Also, generate alternative sig with ECKey.sign_schnorr(msg)\n",
    "sig2 =  # TODO: implement\n",
    "\n",
    "\n",
    "# Verify and compare signature(s). \n",
    "assert P.verify_schnorr(sig, msg))\n",
    "assert P.verify_schnorr(sig2, msg)\n",
    "assert sig == sig2\n",
    "\n",
    "print(\"Success!\")"
   ]
  }
 ],
 "metadata": {
  "kernelspec": {
   "display_name": "Python 3",
   "language": "python",
   "name": "python3"
  },
  "language_info": {
   "codemirror_mode": {
    "name": "ipython",
    "version": 3
   },
   "file_extension": ".py",
   "mimetype": "text/x-python",
   "name": "python",
   "nbconvert_exporter": "python",
   "pygments_lexer": "ipython3",
   "version": "3.6.5"
  }
 },
 "nbformat": 4,
 "nbformat_minor": 2
}
