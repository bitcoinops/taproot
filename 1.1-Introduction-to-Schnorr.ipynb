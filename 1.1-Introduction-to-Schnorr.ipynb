{
 "cells": [
  {
   "cell_type": "code",
   "execution_count": null,
   "metadata": {},
   "outputs": [],
   "source": [
    "# Add Path to Bitcoin Core source directory.\n",
    "import util\n",
    "\n",
    "# Bitcoin Core Test Framework \n",
    "from test_framework.key import SECP256K1_ORDER, SECP256K1_FIELD_SIZE\n",
    "from test_framework.key import ECKey, ECPubKey, jacobi_symbol\n",
    "from test_framework.key import *\n",
    "\n",
    "# Python Imports\n",
    "import random\n",
    "import hashlib\n",
    "import pdb"
   ]
  },
  {
   "cell_type": "markdown",
   "metadata": {},
   "source": [
    "# 1.1 Introduction to Schnorr\n",
    "\n",
    "* Part 1: Elliptic Curve Math Refresher.\n",
    "* Part 2: Schnorr Signatures.\n",
    "* Part 3: Deterministic Nonces."
   ]
  },
  {
   "cell_type": "markdown",
   "metadata": {},
   "source": [
    "## Part 1: Elliptic Curve Math\n",
    "\n",
    "Elliptic Curve math involves scalars and Points(X,Y). The following provides an overview of all operations of scalars and points over elliptic curves. In Bitcoin, key pair generation and signing is performed over the SECP256k1 curve.\n",
    "\n",
    "![test](images/schnorr0.jpg)\n",
    "\n",
    "### Classes / Methods for Elliptic Curve Math\n",
    "\n",
    "`int`: All Scalar operations over SECP251k1 can be performed with python integers and the modulo `%` operator:\n",
    "* Addition: `a + b % SECP256K1`\n",
    "* Subtraction: `-a = SECP256K1 - a`\n",
    "* Multiplication: `a * b % % SECP256K1`\n",
    "* Division (Fermat's little Theorem): `1/b = b**(SECP256K1-2) % SECP256K1`\n",
    "\n",
    "`ECKey`: The Bitcoin Core library provides a private key class which can also perform certain scalar operations.\n",
    "* Addition: `add`\n",
    "* Subtraction: `add` (adding complement of scalar)\n",
    "* Multiplication: `mul`\n",
    "* Division: `mul` (multiplying with scalar inverse, see Fermat's little theorem) \n",
    "\n",
    "![test](images/schnorr1.jpg)"
   ]
  },
  {
   "cell_type": "markdown",
   "metadata": {},
   "source": [
    "#### 1.1 Example: Scalar Addition over SECP256K1 order\n",
    "\n",
    "Addition can be performed with integer modulo math in python or with the private key class `ECKey`. We can set a `ECKey` object to a certain value, or generate a new private key with the `generate` method.\n",
    "\n",
    "In the example below, addition is performed with both integers and the `ECKey` class, and evaluated for equality."
   ]
  },
  {
   "cell_type": "code",
   "execution_count": null,
   "metadata": {},
   "outputs": [],
   "source": [
    "# int() operations\n",
    "a = random.randrange(1, SECP256K1_ORDER)\n",
    "b = random.randrange(1, SECP256K1_ORDER)\n",
    "ab = (a + b) % SECP256K1_ORDER\n",
    "\n",
    "# ECkey(operation)\n",
    "a_key = ECKey()\n",
    "a_key.set(a.to_bytes(32,'big'), True) \n",
    "ab_key = a_key.add(b.to_bytes(32,'big'))\n",
    "\n",
    "# Ensure equivalency.\n",
    "print(int().from_bytes(ab_key.get_bytes(),'big') == ab)\n"
   ]
  },
  {
   "cell_type": "markdown",
   "metadata": {},
   "source": [
    "#### 1.2 Example: Scalar Multiplication over SECP256K1 order\n",
    "\n",
    "In the example below, multiplication is performed with both integers and the `ECKey` class, and evaluated for equality."
   ]
  },
  {
   "cell_type": "code",
   "execution_count": null,
   "metadata": {},
   "outputs": [],
   "source": [
    "# int() operations\n",
    "a = random.randrange(1, SECP256K1_ORDER)\n",
    "b = random.randrange(1, SECP256K1_ORDER)\n",
    "ab = (a * b) % SECP256K1_ORDER\n",
    "\n",
    "# ECkey(operation)\n",
    "a_key = ECKey()\n",
    "a_key.set(a.to_bytes(32,'big'), True) \n",
    "ab_key = a_key.mul(b.to_bytes(32,'big'))\n",
    "\n",
    "# Ensure operations are equivalent.\n",
    "print(int().from_bytes(ab_key.get_bytes(),'big') == ab)\n"
   ]
  },
  {
   "cell_type": "markdown",
   "metadata": {},
   "source": [
    "#### 1.3 _Programming Exercise:_ Distributivity of scalar operations\n",
    "\n",
    "In this exercise we wish to demonstrate the distributivity property of scalar addition and multiplication, whilst getting familiarized with both integer modulo operations and the private key `ECKey` methods.\n",
    "\n",
    "Consider: `(a - b) * c = a * c - b * c` over SECP256k1\n",
    "* Demonstrate that the equation holds\n",
    "* Compute the left side with the Python `int` class.\n",
    "* Compute the right side with the Bitcoin Core `ECKey` class.\n"
   ]
  },
  {
   "cell_type": "code",
   "execution_count": null,
   "metadata": {},
   "outputs": [],
   "source": [
    "a = random.randrange(1, SECP256K1_ORDER)\n",
    "b = random.randrange(1, SECP256K1_ORDER)\n",
    "c = random.randrange(1, SECP256K1_ORDER)\n",
    "\n",
    "# Left: Compute (a - b) * c\n",
    "\n",
    "\n",
    "# Right: Compute -b * c\n",
    "# -b = SECP256K1 - b\n",
    "\n",
    "# Right: Compute a * c\n",
    "\n",
    "\n",
    "# Right: Compute a * c - b * c\n",
    "\n",
    "\n",
    "# Left/Right: Assert equality\n",
    "\n"
   ]
  },
  {
   "cell_type": "markdown",
   "metadata": {},
   "source": [
    "#### 1.4 Example: Point Addition over SECP256k1\n",
    "\n",
    "The public key `ECPubkey` class can be derived from `ECKey` with the `ECKey.get_pubkey` method. \n",
    "\n",
    "In the following example, we perform point addition with `ECPubkey.add`.\n"
   ]
  },
  {
   "cell_type": "code",
   "execution_count": null,
   "metadata": {},
   "outputs": [],
   "source": [
    "a_key = ECKey()\n",
    "b_key = ECKey()\n",
    "a_key.generate()\n",
    "b_key.generate()\n",
    "\n",
    "A_key = a_key.get_pubkey()\n",
    "B_key = b_key.get_pubkey()\n",
    "AB_key = A_key.add(B_key)\n",
    "\n",
    "print(AB_key.get_bytes().hex())"
   ]
  },
  {
   "cell_type": "markdown",
   "metadata": {},
   "source": [
    "#### 1.5  _Programming Exercise:_ Distributivity over scalar and ec points.\n",
    "\n",
    "In this exercise we wish to demonstrate the distributivity property of scalar/point operations, whilst getting familiarized with both integer modulo operations and the public key `ECPubKey` methods.\n",
    "\n",
    "Consider: `(a - b) * P = a * G - b * G`\n"
   ]
  },
  {
   "cell_type": "code",
   "execution_count": null,
   "metadata": {},
   "outputs": [],
   "source": [
    "a = random.randrange(1, SECP256K1_ORDER)\n",
    "b = random.randrange(1, SECP256K1_ORDER)\n",
    "\n",
    "# Left: Compute a - b\n",
    "\n",
    "\n",
    "# Left: Compute (a - b) * G\n",
    "\n",
    "\n",
    "# Right: Compute aG\n",
    "\n",
    "\n",
    "# Right: Compute -bG\n",
    "\n",
    "\n",
    "# Right: Compute aG - bG\n",
    "\n",
    "\n",
    "# Left/Right: Assert equality\n"
   ]
  },
  {
   "cell_type": "markdown",
   "metadata": {},
   "source": [
    "## Part 2: Schnorr Signatures\n",
    "\n",
    "The Schnorr signature equation is the following:\n",
    "\n",
    "* `S = R + H(x(R)|P|msg) * P`\n",
    "\n",
    "Signing involves generating a secret nonce first.\n",
    "\n",
    "* Generate secret scalar `k`\n",
    "\n",
    "Then computing s from:\n",
    "\n",
    "* `s = k - H(x(R)|P|m)`\n",
    "\n",
    "The resulting signature is:\n",
    "\n",
    "* `x(R), s`\n",
    "\n",
    "\n",
    "\n",
    "![test](images/schnorr2.jpg)\n",
    "\n"
   ]
  },
  {
   "cell_type": "markdown",
   "metadata": {},
   "source": [
    "### Constraint on the private nonce k.\n",
    "\n",
    "The Schnorr signature provides the verifier with the x-coordinate of the Nonce point R and s value. For a given x-coordinate on the SECP251K1 curve, there are two possible curve points:\n",
    "\n",
    "* `y^2 = x^3 + 7` (Two y-coordinate values for a given x-coordinate)\n",
    "    * For x, both P(x,y) and P(x,-y) are valid curve points.\n",
    "    * One of the y-coordinates is even, and the other one is odd.\n",
    "\n",
    "The nonce k is therefore constrained by requiring it to be a quadratic residue of p (SECP256k1 curve field size). \n",
    "\n",
    "* `k` and its complement `SECP26k1_order - k` will have nonce points `R(x, y)` and `R(x, -y)`.\n",
    "    * Only one will be a quadratic residue of the curve order.\n",
    "    \n",
    "Whether a scalar is a quadratic residue of the secp256k1 field size is determined with the jacobi symbol:\n",
    "\n",
    "* Bitcoin Core method: `jacobi_symbol(k, SECP256K1_FIELD_SIZE) == 1`\n",
    "* If the jacobisymbol is not 1, simply take the inverse of k: `k = SECP26k1_order - k`\n"
   ]
  },
  {
   "cell_type": "markdown",
   "metadata": {},
   "source": [
    "#### 2.1 _Programming Exercise:_ Sign a message with Schnorr\n",
    "\n",
    "* Sign the message with the provided key pair below."
   ]
  },
  {
   "cell_type": "code",
   "execution_count": null,
   "metadata": {},
   "outputs": [],
   "source": [
    "msg = hashlib.sha256(b'message').digest()\n",
    "x = ECKey()\n",
    "x.generate()\n",
    "P = x.get_pubkey()\n",
    "\n",
    "# We have to set \"compressed\" to false in ECKey.set(data, False) to get the y-coordinate.\n",
    "\n",
    "\n",
    "# Check that nonce is quadratic residue of field size.\n",
    "# Method: jacobi_symbol(nonce_int, SECP256K1_FIELD_SIZE)\n",
    "\n",
    "\n",
    "# Generate s = k + H(R_x|P|msg) * x\n",
    "\n",
    "\n",
    "# Generate sig = R_x|s\n",
    "\n",
    "\n",
    "# Verify your signature.\n",
    "# print(P.verify_schnorr(sig, msg))"
   ]
  },
  {
   "cell_type": "markdown",
   "metadata": {},
   "source": [
    "## Part 3: Deterministic Nonces for Schnorr signatures\n",
    "\n",
    "So far we have used a random secret nonce for creating Schnorr signatures. This has the disadvantage that the the user must rely on the robustness of the random generator for each signing rounds. If the nonce generator is biased or even compromised, the private key can be derived for a given signature and known nonce.\n",
    "\n",
    "Therefore, for the single signer Schnorr signatures, the [Schnorr BIP](https://github.com/sipa/bips/blob/bip-schnorr/bip-schnorr.mediawiki) proposes a deterministic nonce generation scheme.\n",
    "\n",
    "* `k = sha256(x|msg)`"
   ]
  },
  {
   "cell_type": "markdown",
   "metadata": {},
   "source": [
    "#### 3.1 _Programming Exercise:_ Signing Schnorr with deterministic nonce.\n",
    "\n",
    "* Create a Schnorr signature with the deterministic nonce scheme proposed in the Schnorr BIP.\n",
    "* Compare this signature to the private key class method `ECKey.sign_schnorr(msg)`"
   ]
  },
  {
   "cell_type": "code",
   "execution_count": null,
   "metadata": {},
   "outputs": [],
   "source": [
    "msg = hashlib.sha256(b'message').digest()\n",
    "x = ECKey()\n",
    "x.generate()\n",
    "P = x.get_pubkey()\n",
    "\n",
    "# We have to set uncompressed to get the y-coordinate.\n",
    "\n",
    "\n",
    "# Check that nonce is quadratic residue of field size.\n",
    "\n",
    "\n",
    "# Generate s = k + H(R_x|P|msg) * x\n",
    "\n",
    "\n",
    "# Generate sig = R_x|s\n",
    "\n",
    "\n",
    "# Verify/Compare your signatures.\n",
    "\n"
   ]
  }
 ],
 "metadata": {
  "kernelspec": {
   "display_name": "Python 3",
   "language": "python",
   "name": "python3"
  },
  "language_info": {
   "codemirror_mode": {
    "name": "ipython",
    "version": 3
   },
   "file_extension": ".py",
   "mimetype": "text/x-python",
   "name": "python",
   "nbconvert_exporter": "python",
   "pygments_lexer": "ipython3",
   "version": "3.6.5"
  }
 },
 "nbformat": 4,
 "nbformat_minor": 2
}
