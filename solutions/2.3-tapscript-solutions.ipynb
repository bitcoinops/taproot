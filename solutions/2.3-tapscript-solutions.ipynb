{
 "cells": [
  {
   "cell_type": "markdown",
   "metadata": {},
   "source": [
    "#### 2.3.5 _Programming Exercise:_ Generate a 2-of-2 `csahasholder` tapscript"
   ]
  },
  {
   "cell_type": "code",
   "execution_count": null,
   "metadata": {},
   "outputs": [],
   "source": [
    "# Generate key pairs\n",
    "privkey0 = ECKey().generate()\n",
    "privkey1 = ECKey().generate()\n",
    "\n",
    "pubkey0 = privkey0.get_pubkey()\n",
    "pubkey1 = privkey1.get_pubkey()\n",
    "\n",
    "print(\"pubkey0: {}\".format(pubkey0.get_bytes().hex()))\n",
    "print(\"pubkey1: {}\\n\".format(pubkey1.get_bytes().hex()))\n",
    "\n",
    "# Method: 32B preimage - sha256(bytes)\n",
    "# Method: 20B digest - hashlib.new('ripemd160', bytes).digest()\n",
    "secret = b'secret'\n",
    "preimage = sha256(secret)\n",
    "digest = hashlib.new('ripemd160', preimage).digest()\n",
    "delay = 20\n",
    "\n",
    "# Construct Tapscript\n",
    "csahasholder_tapscript = TapLeaf()\n",
    "csahasholder_tapscript.construct_csahasholder(2, [pubkey0, pubkey1], digest, delay)\n",
    "print(\"Descriptor:\", csahasholder_tapscript.desc, \"\\n\")\n",
    "\n",
    "print(\"Tapscript operations:\")\n",
    "for op in csahasholder_tapscript.script:\n",
    "    print(op.hex()) if isinstance(op, bytes) else print(op)\n",
    "\n",
    "print(\"\\nSatisfying witness elements:\")\n",
    "for element, value in csahasholder_tapscript.sat:\n",
    "    print(\"{}, {}\".format(element, value.hex()))"
   ]
  },
  {
   "cell_type": "markdown",
   "metadata": {},
   "source": [
    "#### _2.3.6 Programming Exercise:_ Compute the taptweak from a tapscript"
   ]
  },
  {
   "cell_type": "code",
   "execution_count": null,
   "metadata": {},
   "outputs": [],
   "source": [
    "def tagged_hash(tag, input_data):\n",
    "    data = sha256(tag.encode('utf-8'))\n",
    "    data += data\n",
    "    data += input_data\n",
    "    return sha256(data)\n",
    "\n",
    "privkey_internal = ECKey().generate()\n",
    "pubkey_internal = privkey_internal.get_pubkey()\n",
    "\n",
    "# Method: ser_string(Cscript) prepends compact size.\n",
    "TAPSCRIPT_VER = bytes([0xc0])\n",
    "tapleaf = tagged_hash(\"TapLeaf\", TAPSCRIPT_VER + ser_string(csahasholder_tapscript.script))\n",
    "taptweak = tagged_hash(\"TapTweak\", pubkey_internal.get_bytes() + tapleaf)\n",
    "print(\"Your constructed taptweak is: {}.\".format(taptweak.hex()))"
   ]
  },
  {
   "cell_type": "markdown",
   "metadata": {},
   "source": [
    "#### _Programming Exercise 2.3.12:_ Construct `CTransaction` and populate inputs"
   ]
  },
  {
   "cell_type": "code",
   "execution_count": null,
   "metadata": {},
   "outputs": [],
   "source": [
    "# Construct transaction\n",
    "spending_tx = CTransaction()\n",
    "\n",
    "# Populate the transaction version\n",
    "spending_tx.nVersion = 2\n",
    "\n",
    "# Populate the locktime\n",
    "spending_tx.nLockTime = 0\n",
    "\n",
    "# Populate the transaction inputs\n",
    "# Method: Construct COutPoint(txid, index)\n",
    "# Method: Construct CTxIn(outpoint = ..., nSequence = ...)\n",
    "# Tip: CTransaction.vin = \"list of CTxIn objects\"\n",
    "outpoint = COutPoint(tx.sha256, output_index)\n",
    "spending_tx_in = CTxIn(outpoint = outpoint, nSequence=delay)\n",
    "spending_tx.vin = [spending_tx_in]\n",
    "\n",
    "print(\"Spending transaction:\\n{}\".format(spending_tx))"
   ]
  },
  {
   "cell_type": "markdown",
   "metadata": {},
   "source": [
    "#### _Programming Exercise 2.3.14:_ Sign the transaction"
   ]
  },
  {
   "cell_type": "code",
   "execution_count": null,
   "metadata": {},
   "outputs": [],
   "source": [
    "# Generate the Taproot Signature Hash for signing\n",
    "sighash = TaprootSignatureHash(spending_tx, [output], SIGHASH_ALL_TAPROOT, input_index = 0, scriptpath = True, tapscript=csahasholder_tapscript.script)\n",
    "\n",
    "# Sign with both privkeys\n",
    "signature0 = privkey0.sign_schnorr(sighash)\n",
    "signature1 = privkey1.sign_schnorr(sighash)\n",
    "\n",
    "print(\"Signature0: {}\".format(signature0.hex()))\n",
    "print(\"Signature1: {}\".format(signature1.hex()))"
   ]
  },
  {
   "cell_type": "markdown",
   "metadata": {},
   "source": [
    "#### _Programming Exercise 2.3.15:_ Add the witness and test acceptance of the transaction"
   ]
  },
  {
   "cell_type": "code",
   "execution_count": null,
   "metadata": {},
   "outputs": [],
   "source": [
    "# Construct transaction witness\n",
    "# Tip: Witness stack for script path - [satisfying elements for tapscript] [TapLeaf.script] [controlblock]\n",
    "# Tip: Controlblock for a tapscript in control_map[TapLeaf.script]\n",
    "witness = CScriptWitness()\n",
    "witness.stack = [preimage, signature1, signature0, csahasholder_tapscript.script, control_map[csahasholder_tapscript.script]]\n",
    "witness_in = CTxInWitness()\n",
    "witness_in.scriptWitness = witness\n",
    "\n",
    "# vtxinwit is a list of the witness data(i.e. signatures etc.)\n",
    "spending_tx.wit.vtxinwit.append(witness_in)\n",
    "\n",
    "print(\"Spending transaction:\\n{}\\n\".format(spending_tx))\n",
    "\n",
    "# Serialize signed transaction for broadcast\n",
    "spending_tx_str = spending_tx.serialize().hex()\n",
    "\n",
    "# Test mempool acceptance with and without delay.\n",
    "assert not test.nodes[0].testmempoolaccept([spending_tx_str])[0]['allowed']\n",
    "test.nodes[0].generate(delay)\n",
    "assert test.nodes[0].testmempoolaccept([spending_tx_str])[0]['allowed']\n",
    "\n",
    "print(\"Success!\")"
   ]
  }
 ],
 "metadata": {
  "kernelspec": {
   "display_name": "Python 3",
   "language": "python",
   "name": "python3"
  },
  "language_info": {
   "codemirror_mode": {
    "name": "ipython",
    "version": 3
   },
   "file_extension": ".py",
   "mimetype": "text/x-python",
   "name": "python",
   "nbconvert_exporter": "python",
   "pygments_lexer": "ipython3",
   "version": "3.6.5"
  }
 },
 "nbformat": 4,
 "nbformat_minor": 2
}
