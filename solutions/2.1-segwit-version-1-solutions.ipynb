{
 "cells": [
  {
   "cell_type": "markdown",
   "metadata": {},
   "source": [
    "#### 2.1.9 _Programming Exercise:_ Generate segwit v1 addresses for a 2-of-2 MuSig aggregate pubkey"
   ]
  },
  {
   "cell_type": "code",
   "execution_count": null,
   "metadata": {},
   "outputs": [],
   "source": [
    "# Generate individual key pairs\n",
    "privkey1, pubkey1 = generate_key_pair()\n",
    "privkey2, pubkey2 = generate_key_pair()\n",
    "\n",
    "# Generate a 2-of-2 aggregate MuSig key\n",
    "# Method: generate_musig_key(ECPubKey_list)\n",
    "c_map, agg_pubkey = generate_musig_key([pubkey1, pubkey2])\n",
    "\n",
    "# Multiply individual keys with challenges\n",
    "privkey1_c = privkey1 * c_map[pubkey1]\n",
    "privkey2_c = privkey2 * c_map[pubkey2]\n",
    "pubkey1_c = pubkey1 * c_map[pubkey1]\n",
    "pubkey2_c = pubkey2 * c_map[pubkey2]\n",
    "\n",
    "# Create a segwit v1 address for the MuSig aggregate pubkey\n",
    "# Method: address = program_to_witness(version_int, program_bytes)\n",
    "pubkey_data_musig = agg_pubkey.get_bytes()\n",
    "program_musig = bytes([pubkey_data_musig[0] & 1]) + pubkey_data_musig[1:]\n",
    "version = 0x01\n",
    "address_musig = program_to_witness(version, program_musig)\n",
    "print(\"2-of-2 musig: \", address_musig)"
   ]
  },
  {
   "cell_type": "markdown",
   "metadata": {},
   "source": [
    "#### 2.1.11 _Programming Exercise:_ Instantiate a CTransaction object and populate the version, locktime and inputs"
   ]
  },
  {
   "cell_type": "code",
   "execution_count": null,
   "metadata": {},
   "outputs": [],
   "source": [
    "# Construct transaction which spends the musig segwit v1 output\n",
    "spending_tx = CTransaction()\n",
    "spending_tx.nVersion = 1\n",
    "spending_tx.nLockTime = 0\n",
    "outpoint = COutPoint(tx_musig.sha256, output_index)\n",
    "spending_tx_in = CTxIn(outpoint = outpoint)\n",
    "spending_tx.vin = [spending_tx_in]\n",
    "\n",
    "# Generate new Bitcoin Core wallet address\n",
    "# Method: addr_string = test.nodes[0].getnewaddress(address_type=\"bech32\")\n",
    "# Method: decode addr_string with test.nodes[0].getaddressinfo(addr_string)\n",
    "dest_addr = test.nodes[0].getnewaddress(address_type=\"bech32\")\n",
    "scriptpubkey = bytes.fromhex(test.nodes[0].getaddressinfo(dest_addr)['scriptPubKey'])\n",
    "print(\"Destination address: {}\\n\".format(dest_addr))\n",
    "\n",
    "# Determine minimum fee required for mempool acceptance\n",
    "min_fee = int(test.nodes[0].getmempoolinfo()['mempoolminfee'] * 100000000)\n",
    "\n",
    "# Complete output which returns funds to Bitcoin Core wallet\n",
    "# Tip: Construct output with CTxOut(nValue=value_int, scriptPubKey=script_bytes)\n",
    "# Tip: CTransaction.vout is a list of CTxOut objects.\n",
    "amount_sat = int(amount_btc * 100000000)\n",
    "dest_output = CTxOut(nValue=amount_sat-min_fee, scriptPubKey=scriptpubkey)\n",
    "spending_tx.vout = [dest_output]\n",
    "print(\"Spending transaction:\\n{}\\n\".format(spending_tx))"
   ]
  },
  {
   "cell_type": "markdown",
   "metadata": {},
   "source": [
    "#### 2.1.12 _Programming Exercise:_ Create a valid bip-schnorr signature for the MuSig aggregate pubkey"
   ]
  },
  {
   "cell_type": "code",
   "execution_count": null,
   "metadata": {},
   "outputs": [],
   "source": [
    "# Create sighash for ALL (0x00)\n",
    "sighash_musig = TaprootSignatureHash(spending_tx, [output], SIGHASH_ALL_TAPROOT, input_index = 0, scriptpath = False)\n",
    "\n",
    "# Generate individual nonces for participants and an aggregate nonce point\n",
    "# Remember to negate the individual nonces if necessary\n",
    "# Method: generate_schnorr_nonce()\n",
    "# Method: aggregate_schnorr_nonces(nonce_list)\n",
    "nonce1 = generate_schnorr_nonce()\n",
    "nonce2 = generate_schnorr_nonce()\n",
    "R_agg, negated = aggregate_schnorr_nonces([nonce1.get_pubkey(), nonce2.get_pubkey()])\n",
    "\n",
    "if negated:\n",
    "    nonce1.negate()\n",
    "    nonce2.negate()\n",
    "\n",
    "# Create an aggregate signature\n",
    "# Method: sign_musig(privkey, nonce, R_agg, agg_pubkey, sighash_musig)\n",
    "# Method: aggregate_musig_signatures(partial_signature_list, R_agg)\n",
    "s1 = sign_musig(privkey1_c, nonce1, R_agg, agg_pubkey, sighash_musig)\n",
    "s2 = sign_musig(privkey2_c, nonce2, R_agg, agg_pubkey, sighash_musig)\n",
    "sig_agg = aggregate_musig_signatures([s1, s2], R_agg)\n",
    "print(\"Aggregate signature is {}\\n\".format(sig_agg.hex()))\n",
    "\n",
    "# Construct transaction witness\n",
    "witness = CScriptWitness()\n",
    "witness.stack.append(sig_agg)\n",
    "witness_in = CTxInWitness()\n",
    "witness_in.scriptWitness = witness\n",
    "spending_tx.wit.vtxinwit.append(witness_in)\n",
    "\n",
    "# Serialize Schnorr transaction for broadcast\n",
    "spending_tx_str = spending_tx.serialize().hex()\n",
    "\n",
    "# Test mempool acceptance\n",
    "assert test.nodes[0].testmempoolaccept([spending_tx_str])[0]['allowed']\n",
    "print(\"Success!\")"
   ]
  }
 ],
 "metadata": {
  "kernelspec": {
   "display_name": "Python 3",
   "language": "python",
   "name": "python3"
  },
  "language_info": {
   "codemirror_mode": {
    "name": "ipython",
    "version": 3
   },
   "file_extension": ".py",
   "mimetype": "text/x-python",
   "name": "python",
   "nbconvert_exporter": "python",
   "pygments_lexer": "ipython3",
   "version": "3.6.5"
  }
 },
 "nbformat": 4,
 "nbformat_minor": 2
}
