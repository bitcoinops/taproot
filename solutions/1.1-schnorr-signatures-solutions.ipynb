{
 "cells": [
  {
   "cell_type": "markdown",
   "metadata": {},
   "source": [
    "#### 1.1.2 _Programming Exercise:_ Verify that inverse nonce values `k` and `-k` generate inverse points `R` and `-R`"
   ]
  },
  {
   "cell_type": "code",
   "execution_count": null,
   "metadata": {},
   "outputs": [],
   "source": [
    "# Generate a random scalar and its associated curve point\n",
    "k, R = generate_key_pair()\n",
    "\n",
    "# Find the x- and y-coordinates from R\n",
    "# Use the get_x() and get_y() methods\n",
    "R_x = R.get_x()\n",
    "R_y = R.get_y()\n",
    "\n",
    "print(\"R_x: {}\".format(R_x))\n",
    "print(\"R_y: {}\\n\".format(R_y))\n",
    "\n",
    "# Find k's inverse (SECP256K1_ORDER - k)\n",
    "# Extract the secret value from k using .secret\n",
    "minus_k = SECP256K1_ORDER - k.secret\n",
    "\n",
    "# Generate the key pair from minus_k using generate_key_pair() function with minus_k as an argument\n",
    "minus_k_key, minus_R = generate_key_pair(minus_k)\n",
    "\n",
    "# Find the x- and y-coordinates from -R\n",
    "minus_R_x = minus_R.get_x()\n",
    "minus_R_y = minus_R.get_y()\n",
    "\n",
    "print(\"minus_R_x: {}\".format(minus_R_x))\n",
    "print(\"minus_R_y: {}\\n\".format(minus_R_y))\n",
    "\n",
    "assert R_x == minus_R_x\n",
    "assert SECP256K1_FIELD_SIZE - R_y == minus_R_y\n",
    "\n",
    "print(\"Success!\")"
   ]
  },
  {
   "cell_type": "markdown",
   "metadata": {},
   "source": [
    "#### 1.1.3 _Programming Exercise:_ Sign a message with Schnorr"
   ]
  },
  {
   "cell_type": "code",
   "execution_count": null,
   "metadata": {},
   "outputs": [],
   "source": [
    "msg = sha256(b'message')\n",
    "\n",
    "# Generate a private/public key pair\n",
    "d, P = generate_key_pair()\n",
    "\n",
    "# Generate a nonce scalar and associated nonce point\n",
    "k, R = generate_key_pair()\n",
    "\n",
    "# Check that nonce is quadratic residue modulo the field size\n",
    "# If not, negate k\n",
    "# Method: jacobi_symbol(R.get_y(), SECP256K1_FIELD_SIZE)\n",
    "if jacobi_symbol(R.get_y(), SECP256K1_FIELD_SIZE) != 1:\n",
    "    k.negate()\n",
    "# Note that there is no need to negate R, since we only use the x value of R below\n",
    "\n",
    "# Generate s = k + sha256(R_x|P|msg) * d\n",
    "# Method: sha256(bytes) will give you the byte digest of the SHA256 of some bytes\n",
    "# Turn that digest into a ECKey object called h, and then set s = k + h * d\n",
    "R_x_bytes = R.get_x().to_bytes(32, 'big')\n",
    "P_bytes = P.get_bytes()\n",
    "h_bytes = sha256(R_x_bytes + P_bytes + msg)\n",
    "h = ECKey().set(h_bytes)\n",
    "s = k + h * d\n",
    "\n",
    "print(\"R: {}\".format(R))\n",
    "print(\"s: {}\\n\".format(s.get_bytes().hex()))\n",
    "\n",
    "# Generate sig = R_x|s\n",
    "# Method: get the x bytes from R and concatenate with the secret bytes from s\n",
    "sig = R.get_x().to_bytes(32, 'big') + s.secret.to_bytes(32,'big')\n",
    "\n",
    "print(\"Signature: {}\\n\".format(sig.hex()))\n",
    "\n",
    "# Verify the signature\n",
    "assert P.verify_schnorr(sig, msg)\n",
    "\n",
    "print(\"Success!\")"
   ]
  },
  {
   "cell_type": "markdown",
   "metadata": {},
   "source": [
    "#### 1.1.4 _Programming Exercise:_ Signing schnorr with deterministic nonce"
   ]
  },
  {
   "cell_type": "code",
   "execution_count": null,
   "metadata": {},
   "outputs": [],
   "source": [
    "msg = sha256(b'message')\n",
    "d, P = generate_key_pair()\n",
    "print(\"message = {}\".format(msg.hex()))\n",
    "print(\"pubkey = {}\\n\".format(P.get_bytes().hex()))\n",
    "\n",
    "# Generate the nonce value k deterministically and get the nonce point R\n",
    "# Method: use sha256(bytes) on the private key and message\n",
    "k_bytes = sha256(d.get_bytes() + msg)\n",
    "k, R = generate_key_pair(k_bytes)\n",
    "\n",
    "# Check that nonce is quadratic residue modulo the field size\n",
    "# If not, negate k\n",
    "# Method: jacobi_symbol(int(y(R)), SECP256K1_FIELD_SIZE)\n",
    "if jacobi_symbol(R.get_y(), SECP256K1_FIELD_SIZE) != 1:\n",
    "    k.negate()\n",
    "\n",
    "print(\"nonce: {}\".format(k))\n",
    "print(\"nonce point: {}\\n\".format(R))\n",
    "\n",
    "# Generate s = k + sha256(R_x|P|msg) * d\n",
    "# Method: sha256(bytes) will give you the byte digest of the SHA256 of some bytes\n",
    "# Turn that digest into a ECKey object called h, and then set s = k + h * d\n",
    "R_x_bytes = R.get_x().to_bytes(32, 'big')\n",
    "P_bytes = P.get_bytes()\n",
    "h_bytes = sha256(R_x_bytes + P_bytes + msg)\n",
    "h = ECKey().set(h_bytes)\n",
    "s = k + h * d\n",
    "\n",
    "print(\"R: {}\".format(R))\n",
    "print(\"s: {}\\n\".format(s.get_bytes()))\n",
    "\n",
    "# Generate sig = R_x|s\n",
    "# Method: get the x bytes from R and concatenate with the secret bytes from s\n",
    "sig = R.get_x().to_bytes(32, 'big') + s.secret.to_bytes(32,'big')\n",
    "\n",
    "print(\"Signature: {}\\n\".format(sig.hex()))\n",
    "\n",
    "# Generate a signature using the ECKey.sign_schnorr(msg) method\n",
    "# This generates the nonce deterministically, so should return the same signature\n",
    "sig2 = d.sign_schnorr(msg)\n",
    "\n",
    "# Verify and compare signature(s)\n",
    "assert P.verify_schnorr(sig, msg)\n",
    "assert P.verify_schnorr(sig2, msg)\n",
    "assert sig == sig2\n",
    "\n",
    "print(\"Success!\")"
   ]
  }
 ],
 "metadata": {
  "kernelspec": {
   "display_name": "Python 3",
   "language": "python",
   "name": "python3"
  },
  "language_info": {
   "codemirror_mode": {
    "name": "ipython",
    "version": 3
   },
   "file_extension": ".py",
   "mimetype": "text/x-python",
   "name": "python",
   "nbconvert_exporter": "python",
   "pygments_lexer": "ipython3",
   "version": "3.6.5"
  }
 },
 "nbformat": 4,
 "nbformat_minor": 2
}
