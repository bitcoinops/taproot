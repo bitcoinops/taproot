{
 "cells": [
  {
   "cell_type": "markdown",
   "metadata": {},
   "source": [
    "#### _Exercise 3.1.1:_ Determine different signing scenarios and their likelihoods"
   ]
  },
  {
   "cell_type": "markdown",
   "metadata": {},
   "source": [
    "##### Spending paths\n",
    "\n",
    "_Spending paths in order of likelihood:_\n",
    "\n",
    "1. 3 Main wallets sign.\n",
    "2. 2 Main wallets & 1 Backup wallet.\n",
    "3. 1 Main wallet & 2 Backup wallet.\n",
    "\n",
    "##### Taproot Descriptors\n",
    "\n",
    "_Sketch out taproot descriptors:_\n",
    "\n",
    "1. Internalkey: `MuSig(pkA, pkB, pkC)`\n",
    "2. 2 main keys & 1 backup key:\n",
    "  - `csa_delay(3, pkA, pkB, pkD, 3 days)`\n",
    "  - `csa_delay(3, pkA, pkC, pkD, 3 days)`\n",
    "  - `csa_delay(3, pkB, pkC, pkD, 3 days)`\n",
    "  - `csa_delay(3, pkA, pkB, pkE, 3 days)`\n",
    "  - `csa_delay(3, pkA, pkC, pkE, 3 days)`\n",
    "  - `csa_delay(3, pkB, pkC, pkE, 3 days)`\n",
    "3. 1 main keys & 2 backup keys:\n",
    "  - `csa_delay(3, pkA, pkD, pkE, 10 days)`\n",
    "  - `csa_delay(3, pkB, pkD, pkE, 10 days)`\n",
    "  - `csa_delay(3, pkC, pkD, pkE, 10 days)`\n",
    "\n",
    "**Note: since backup keys cannot participate in MuSig, all possible key combinations are enumerated in different leaves of the Taptree."
   ]
  },
  {
   "cell_type": "markdown",
   "metadata": {},
   "source": [
    "#### _Programming Exercise 3.1.3:_ Build a taproot output"
   ]
  },
  {
   "cell_type": "code",
   "execution_count": null,
   "metadata": {},
   "outputs": [],
   "source": [
    "# Tapscripts - 2 main keys & 1 backup key\n",
    "tapscript_2a = TapLeaf()\n",
    "tapscript_2b = TapLeaf()\n",
    "tapscript_2c = TapLeaf()\n",
    "tapscript_2d = TapLeaf()\n",
    "tapscript_2e = TapLeaf()\n",
    "tapscript_2f = TapLeaf()\n",
    "delay = 3*24*6\n",
    "tapscript_2a.construct_csa_delay(3, [main_pubkeyA, main_pubkeyB, backup_pubkeyD], delay)\n",
    "tapscript_2b.construct_csa_delay(3, [main_pubkeyA, main_pubkeyC, backup_pubkeyD], delay)\n",
    "tapscript_2c.construct_csa_delay(3, [main_pubkeyB, main_pubkeyC, backup_pubkeyD], delay)\n",
    "tapscript_2d.construct_csa_delay(3, [main_pubkeyA, main_pubkeyB, backup_pubkeyE], delay)\n",
    "tapscript_2e.construct_csa_delay(3, [main_pubkeyA, main_pubkeyC, backup_pubkeyE], delay)\n",
    "tapscript_2f.construct_csa_delay(3, [main_pubkeyB, main_pubkeyC, backup_pubkeyE], delay)\n",
    "\n",
    "# Tapscripts - 1 main keys & 2 backup keys\n",
    "tapscript_3a = TapLeaf()\n",
    "tapscript_3b = TapLeaf()\n",
    "tapscript_3c = TapLeaf()\n",
    "long_delay = 10*24*6\n",
    "tapscript_3a.construct_csa_delay(3, [main_pubkeyA, backup_pubkeyD, backup_pubkeyE], long_delay)\n",
    "tapscript_3b.construct_csa_delay(3, [main_pubkeyB, backup_pubkeyD, backup_pubkeyE], long_delay)\n",
    "tapscript_3c.construct_csa_delay(3, [main_pubkeyC, backup_pubkeyD, backup_pubkeyE], long_delay)\n",
    "\n",
    "# Set list of backup tapscripts\n",
    "# Suggestion: Include tapscripts with 3d timelocks first, then those with 10d timelocks\n",
    "backup_tapscripts = [tapscript_2a, tapscript_2b, tapscript_2c,\n",
    "                     tapscript_2d, tapscript_2e, tapscript_2f,\n",
    "                     tapscript_3a, tapscript_3b, tapscript_3c]\n",
    "\n",
    "# Construct taptree with huffman constructor\n",
    "tapscript_weights = [(2, tapscript_2a), (2, tapscript_2b), (2, tapscript_2c),\n",
    "                     (2, tapscript_2d), (2, tapscript_2e), (2, tapscript_2f),\n",
    "                     (1, tapscript_3a), (1, tapscript_3b), (2, tapscript_3c)]\n",
    "multisig_taproot = TapTree(key=musig_ABC)\n",
    "multisig_taproot.huffman_constructor(tapscript_weights)\n",
    "\n",
    "print(\"Taproot descriptor: {}\\n\".format(multisig_taproot.desc))\n",
    "\n",
    "# Derive segwit v1 address\n",
    "tapscript, taptweak, control_map = multisig_taproot.construct()\n",
    "output_pubkey = musig_ABC.tweak_add(taptweak)\n",
    "output_pubkey_b = output_pubkey.get_bytes()\n",
    "taproot_pubkey_v1 = bytes([output_pubkey_b[0] & 1]) + output_pubkey_b[1:]\n",
    "segwit_address = program_to_witness(1, taproot_pubkey_v1)\n",
    "print(\"Segwit Address:\", segwit_address)"
   ]
  },
  {
   "cell_type": "markdown",
   "metadata": {},
   "source": [
    "#### 3.1.4 _Programming Exercise:_ Create a valid key path output"
   ]
  },
  {
   "cell_type": "code",
   "execution_count": null,
   "metadata": {},
   "outputs": [],
   "source": [
    "# Create sighash for ALL\n",
    "sighash_musig = TaprootSignatureHash(spending_tx, [output], SIGHASH_ALL_TAPROOT)\n",
    " \n",
    "# Generate individual nonces for participants and an aggregate nonce point\n",
    "# Remember to negate the individual nonces if necessary\n",
    "nonceA = generate_schnorr_nonce()\n",
    "nonceB = generate_schnorr_nonce()\n",
    "nonceC = generate_schnorr_nonce()\n",
    "R_agg, negated = aggregate_schnorr_nonces([nonceA.get_pubkey(), nonceB.get_pubkey(), nonceC.get_pubkey()])\n",
    "if negated:\n",
    "    nonceA.negate()\n",
    "    nonceB.negate()\n",
    "    nonceC.negate()\n",
    "\n",
    "# Create an aggregate signature.\n",
    "# Remember to tweak one of the private keys.\n",
    "sA = sign_musig(main_privkeyA_c, nonceA, R_agg, output_pubkey, sighash_musig)\n",
    "sB = sign_musig(main_privkeyB_c, nonceB, R_agg, output_pubkey, sighash_musig)\n",
    "main_privkeyC_tweaked = main_privkeyC_c.add(taptweak) \n",
    "sC = sign_musig(main_privkeyC_tweaked, nonceC, R_agg, output_pubkey, sighash_musig)\n",
    "sig_agg = aggregate_musig_signatures([sA, sB, sC], R_agg)\n",
    "print(\"Aggregate signature is {}\\n\".format(sig_agg.hex()))\n",
    "\n",
    "assert output_pubkey.verify_schnorr(sig_agg, sighash_musig)\n",
    "\n",
    "# Add witness to transaction\n",
    "spending_tx.wit.vtxinwit.append(CTxInWitness([sig_agg]))\n",
    " \n",
    "print(\"spending_tx: {}\\n\".format(spending_tx))\n",
    "\n",
    "# Test mempool acceptance\n",
    "spending_tx_str = spending_tx.serialize().hex()\n",
    "assert test.nodes[0].testmempoolaccept([spending_tx_str])[0]['allowed']\n",
    "\n",
    "print(\"Key path spending transaction weight: {}\".format(test.nodes[0].decoderawtransaction(spending_tx_str)['weight']))\n",
    "\n",
    "print(\"Success!\")"
   ]
  },
  {
   "cell_type": "markdown",
   "metadata": {},
   "source": [
    "#### 3.1.6 _Programming Exercise:_ Create a valid script path output for a long delay script"
   ]
  },
  {
   "cell_type": "code",
   "execution_count": null,
   "metadata": {},
   "outputs": [],
   "source": [
    "# Construct transaction\n",
    "spending_tx = CTransaction()\n",
    "\n",
    "spending_tx.nVersion = 2\n",
    "spending_tx.nLockTime = 0\n",
    "outpoint = COutPoint(tx.sha256, output_index)\n",
    "spending_tx_in = CTxIn(outpoint=outpoint, nSequence=long_delay)\n",
    "spending_tx.vin = [spending_tx_in]\n",
    "spending_tx.vout = [dest_output]\n",
    "\n",
    "sighash = TaprootSignatureHash(spending_tx, [output], SIGHASH_ALL_TAPROOT, 0, scriptpath=True, tapscript=tapscript_3a.script)\n",
    "\n",
    "witness_elements = []\n",
    "\n",
    "# Add signatures to the witness\n",
    "# Remember to reverse the order of signatures\n",
    "sigA = main_privkeyA.sign_schnorr(sighash)\n",
    "sigD = backup_privkeyD.sign_schnorr(sighash)\n",
    "sigE = backup_privkeyE.sign_schnorr(sighash)\n",
    "\n",
    "# Construct transaction witness\n",
    "witness_elements = [sigE, sigD, sigA, tapscript_3a.script, control_map[tapscript_3a.script]]\n",
    "spending_tx.wit.vtxinwit.append(CTxInWitness(witness_elements))\n",
    "spending_tx_str = spending_tx.serialize().hex()\n",
    "\n",
    "# Test timelock\n",
    "assert_equal(\n",
    "    [{'txid': spending_tx.rehash(), 'allowed': False, 'reject-reason': '64: non-BIP68-final'}],\n",
    "    test.nodes[0].testmempoolaccept([spending_tx_str])\n",
    ")\n",
    "\n",
    "print(\"Long delay script path spending transaction weight: {}\".format(test.nodes[0].decoderawtransaction(spending_tx_str)['weight']))\n",
    "\n",
    "print(\"Success!\")"
   ]
  }
 ],
 "metadata": {
  "kernelspec": {
   "display_name": "Python 3",
   "language": "python",
   "name": "python3"
  },
  "language_info": {
   "codemirror_mode": {
    "name": "ipython",
    "version": 3
   },
   "file_extension": ".py",
   "mimetype": "text/x-python",
   "name": "python",
   "nbconvert_exporter": "python",
   "pygments_lexer": "ipython3",
   "version": "3.6.5"
  }
 },
 "nbformat": 4,
 "nbformat_minor": 2
}
