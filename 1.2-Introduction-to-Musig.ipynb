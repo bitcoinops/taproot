{
 "cells": [
  {
   "cell_type": "code",
   "execution_count": null,
   "metadata": {},
   "outputs": [],
   "source": [
    "import util\n",
    "\n",
    "from test_framework.test_framework import BitcoinTestFramework\n",
    "from test_framework.key import ECKey, ECPubKey, generate_musig_key, generate_schnorr_nonce\n",
    "from test_framework.key import aggregate_schnorr_nonces, aggregate_musig_signatures\n",
    "import binascii\n",
    "import hashlib"
   ]
  },
  {
   "cell_type": "markdown",
   "metadata": {},
   "source": [
    "# 1.2 Introduction to n-of-n Musig\n",
    "\n",
    "* Part 1: Public Key Generation.\n",
    "* Part 2: Nonce Generation.\n",
    "* Part 3: Signature Generation.\n",
    "\n",
    "In this chapter, we introduce the interactive musig protocol which allows n-of-n participants to jointly create and spend taproot or tapscript output using aggregated Schnorr signatures. \n",
    "\n",
    "**The advantage of Musig is both output and joint n-of-n spend are indistinguishable from other pay-to-pubkey transactions on-chain.**\n",
    "\n",
    "Musig is is an interactive protocol which requires multiple rounds of communication between the wallets. We will proceed with an example execution of the Musig protocol below.\n",
    "\n",
    "![test](images/musig_intro_0.jpg)\n"
   ]
  },
  {
   "cell_type": "markdown",
   "metadata": {},
   "source": [
    "## Part 1: Public Key Generation\n",
    "\n",
    "* Due to linear nature of Schnorr, public keys, nonces and signatures can be aggregated.\n",
    "* Due to the [Key cancellation](https://tlu.tarilabs.com/cryptography/digital_signatures/introduction_schnorr_signatures.html#key-cancellation-attack) attack, signers must first commit to individual public keys (Challenge factor).\n",
    "* Individual key pairs must be multiplied with respective challenge.\n",
    "\n",
    "\n",
    "![test](images/musig_intro_1.jpg)"
   ]
  },
  {
   "cell_type": "markdown",
   "metadata": {},
   "source": [
    "### 1.1 Programming Exercise: Compute 3-of-3 musig public key.\n",
    "* Use `generate_musig_key([ECPubKey0, ECPubKey1, ...])`.\n",
    "* returns `c_map, pk_musig`\n",
    "* `c_map` contains `ECPubKey_i, challenge_data_i` key - value pairs.\n"
   ]
  },
  {
   "cell_type": "code",
   "execution_count": null,
   "metadata": {},
   "outputs": [],
   "source": [
    "# Compute key pairs.\n",
    "\n",
    "\n",
    "# Compute key Challenges.\n",
    "\n",
    "\n",
    "# Multiply key pairs by challenge factor.\n",
    "\n"
   ]
  },
  {
   "cell_type": "markdown",
   "metadata": {},
   "source": [
    "## Part 2: Nonce Generation\n",
    "\n",
    "* Nonces can be aggregated like public keys and signatures.\n",
    "* Security [Proof](https://eprint.iacr.org/2018/068.pdf) requires nonces are randomly generated independently of each other.\n",
    "* An initial nonce commitment round is necessary to ensure no nonce is derived as a function of another.\n",
    "\n",
    "\n",
    "![test](images/musig_intro_2.jpg)\n"
   ]
  },
  {
   "cell_type": "markdown",
   "metadata": {},
   "source": [
    "### 2.1 Programming Exercise: Compute 3-of-3 musig nonce.\n",
    "\n",
    "* `generate_schnorr_nonce()` returns a ECkey with with a jacobi symbol of 1.\n",
    "* `aggregate_schnorr_nonces()` returns a ECPubKey and a boolean (indicates nonce negation).\n",
    "* *Negation of nonce `k_i` isn't necessary, since it is performed by `sign_musig` in next exercise.*"
   ]
  },
  {
   "cell_type": "code",
   "execution_count": null,
   "metadata": {},
   "outputs": [],
   "source": [
    "# Generate nonces.\n",
    "\n",
    "\n",
    "# Skip nonce point commitment round (we assume nonce commitments are correct).\n",
    "\n",
    "\n",
    "# Aggregate nonces.\n",
    "\n",
    "\n"
   ]
  },
  {
   "cell_type": "markdown",
   "metadata": {},
   "source": [
    "## Part 3: Signature Generation\n",
    "\n",
    "* Signatures are generated individually.\n",
    "\n",
    "![test](images/musig_intro_3.jpg)"
   ]
  },
  {
   "cell_type": "markdown",
   "metadata": {},
   "source": [
    "### 3.1 Programming exercise: Compute aggregated musig signature.\n",
    "\n",
    "* `ECKey.sign_musig(nonce_point, negated, nonce_point_aggregated, pk_musig, msg)` returns individual signature.\n",
    "* `aggregate_musig_signatures([sig0, sig1, ...])` returns aggregated signature.\n",
    "* `ECPubKey.verify(sig, msg)` returns validity of signature.\n"
   ]
  },
  {
   "cell_type": "code",
   "execution_count": null,
   "metadata": {},
   "outputs": [],
   "source": [
    "msg = hashlib.sha256(b'transaction').digest()\n",
    "\n",
    "# Generate individual signatures.\n",
    "\n",
    "\n",
    "# Aggregate signatures.\n",
    "\n",
    "\n"
   ]
  },
  {
   "cell_type": "code",
   "execution_count": null,
   "metadata": {},
   "outputs": [],
   "source": []
  }
 ],
 "metadata": {
  "kernelspec": {
   "display_name": "Python 3",
   "language": "python",
   "name": "python3"
  },
  "language_info": {
   "codemirror_mode": {
    "name": "ipython",
    "version": 3
   },
   "file_extension": ".py",
   "mimetype": "text/x-python",
   "name": "python",
   "nbconvert_exporter": "python",
   "pygments_lexer": "ipython3",
   "version": "3.6.5"
  }
 },
 "nbformat": 4,
 "nbformat_minor": 2
}
