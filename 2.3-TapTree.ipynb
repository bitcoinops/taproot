{
 "cells": [
  {
   "cell_type": "code",
   "execution_count": null,
   "metadata": {},
   "outputs": [],
   "source": [
    "from io import BytesIO\n",
    "\n",
    "import util\n",
    "from test_framework.key import ECKey, ECPubKey\n",
    "from test_framework.script import TapTree, TapLeaf, Node, CScript, OP_1, TaprootSignatureHash\n",
    "from test_framework.address import program_to_witness\n",
    "from test_framework.messages import CTransaction, COutPoint, CTxIn, CTxOut, CScriptWitness, CTxInWitness\n"
   ]
  },
  {
   "cell_type": "markdown",
   "metadata": {},
   "source": [
    "# 2.3 TapTree\n",
    "\n",
    "* Part 1 - Constructing a TapTree.\n",
    "    * 1a - TapTree Descriptors.\n",
    "    * 1b - TapTree Class.\n",
    "    * 1c - Huffman Tree Constructor.\n",
    "* Part 2 - Spending a Taproot output along the script path.\n",
    "\n",
    "\n",
    "## Part 1: TapTree Construction.\n",
    "\n",
    "### 1A - TapTree Descriptors\n",
    "\n",
    "Descriptors are a high-level template language to describe individual or ranges of outputs. \n",
    "\n",
    "* Human readable & descriptive\n",
    "* Imply standard script patterns\n",
    "* Composable.\n",
    "\n",
    "For taproot, we currently propose a taproot descriptor expression with the following pattern. \n",
    "\n",
    "![test](images/TapTree0.jpg)\n",
    "\n",
    "The tree structure is implied by the nested expression:\n",
    "* **An internal node is represented by its children:**\n",
    "    * Node expression: \n",
    "        * `[child_left, child_right]`\n",
    "    * Node expressions are composable: \n",
    "        * `[child_left, [child_left', child_right']]`\n",
    "* **A leaf node can be represented by its TapScript descriptor:**\n",
    "    * For example, a pay-to-pubkey TapScript: \n",
    "        * `ts(pk(key))`\n",
    "    * _More on TapScript descriptors in chapter 2.4._\n",
    "    \n",
    "*Note: The proposed taproot descriptor is not unique for a given taproot output. A given taproot output may have multiple correct taproot descriptor expressions. This is because we do not impose lexicographic ordering of the descriptor leafs and nodes as is done when computing the taproot.*"
   ]
  },
  {
   "cell_type": "markdown",
   "metadata": {},
   "source": [
    "#### Example 1.1 - Constructing a Taptree from a descriptor.\n",
    "\n",
    "![test](images/TapTree1.jpg)\n",
    "\n",
    "In this example, we will construct the TapTree shown above from a descriptor literal.\n",
    "\n",
    "* **Class: `TapTree`**\n",
    "    * Construct from descriptor:\n",
    "        * `TapTree.from_desc(descriptor_string)`\n",
    "    * Serialize back to descriptor:\n",
    "        * `TapTree.desc`"
   ]
  },
  {
   "cell_type": "code",
   "execution_count": null,
   "metadata": {},
   "outputs": [],
   "source": [
    "# Generate internal keypairs\n",
    "privkey_internal = ECKey()\n",
    "privkey_internal.generate()\n",
    "pubkey_internal = privkey_internal.get_pubkey()\n",
    "\n",
    "# Generaet keypairs for the tapleaf pay-to-pubkey scripts.\n",
    "privkeyA = ECKey()\n",
    "privkeyB = ECKey()\n",
    "privkeyC = ECKey()\n",
    "privkeyA.generate()\n",
    "privkeyB.generate()\n",
    "privkeyC.generate()\n",
    "pubkeyA = privkeyA.get_pubkey()\n",
    "pubkeyB = privkeyB.get_pubkey()\n",
    "pubkeyC = privkeyC.get_pubkey()\n",
    "\n",
    "# Construct Descriptor String.\n",
    "ts_desc_A = 'ts(pk({}))'.format(pubkeyA.get_bytes().hex())\n",
    "ts_desc_B = 'ts(pk({}))'.format(pubkeyB.get_bytes().hex())\n",
    "ts_desc_C = 'ts(pk({}))'.format(pubkeyC.get_bytes().hex())\n",
    "tp_desc = 'tp({},[[{},{}],{}])'.format(pubkey_internal.get_bytes().hex(),\n",
    "                                       ts_desc_A,\n",
    "                                       ts_desc_B,\n",
    "                                       ts_desc_C)\n",
    "\n",
    "# Generate TapTree from descriptor.\n",
    "taptree = TapTree()\n",
    "taptree.from_desc(tp_desc)\n",
    "print(taptree.desc)\n",
    "\n",
    "# Compute Taproot Output:\n",
    "taproot_script, tweak, control_map = taptree.construct()\n"
   ]
  },
  {
   "cell_type": "markdown",
   "metadata": {},
   "source": [
    "### 1B - TapTree Construction\n",
    "\n",
    "In addition to the TapTree class, we provide Node` and TapLeaf classes to capture internal and leaf nodes in a Taptree.\n",
    "\n",
    "![test](images/TapTree2.jpg)\n",
    "\n",
    "\n",
    "* **Class `Node`:**\n",
    "    * Node child members: \n",
    "        * `Node.left`, `Node.right`\n",
    "        * (Left/Right child ordering does not affect taproot tweak derivation)\n",
    "\n",
    "* **Class `TapLeaf`:**\n",
    "    * Construct from descriptor string.\n",
    "        * `TapLeaf.from_desc(descriptor_string)`\n",
    "    \n",
    "#### Example 1.2 - Constructing a Taptree with `Node ` & `TapLeaf`"
   ]
  },
  {
   "cell_type": "code",
   "execution_count": null,
   "metadata": {},
   "outputs": [],
   "source": [
    "# Run example 1.1 first.\n",
    "\n",
    "# Taproot\n",
    "taptree = TapTree()\n",
    "taptree.key = pubkey_internal\n",
    "\n",
    "# TapLeafs\n",
    "tapleaf_A = TapLeaf()\n",
    "tapleaf_B = TapLeaf()\n",
    "tapleaf_C = TapLeaf()\n",
    "tapleaf_A.from_desc(ts_desc_A)\n",
    "tapleaf_B.from_desc(ts_desc_B)\n",
    "tapleaf_C.from_desc(ts_desc_C)\n",
    "\n",
    "# TapTree\n",
    "taproot = Node()\n",
    "tapbranch_AB = Node()\n",
    "tapbranch_AB.left = tapleaf_A\n",
    "tapbranch_AB.right = tapleaf_B\n",
    "taproot.left = tapbranch_AB\n",
    "taproot.right = tapleaf_C\n",
    "taptree.root = taproot\n",
    "\n",
    "# Check if same construction as with taptree descriptor.\n",
    "taproot_script2, tweak2, control_map2 = taptree.construct()\n",
    "\n",
    "# Compare with example 1.1\n",
    "assert(taproot_script2 == taproot_script)\n",
    "print(taptree.desc)\n"
   ]
  },
  {
   "cell_type": "markdown",
   "metadata": {},
   "source": [
    "### 1C - Huffman Constructor\n",
    "\n",
    "A TapTree can also be constructed with a greedy algorithm based on the huffman encoding algorithm. \n",
    "Simply provide the huffman constructor method with the relative probability weights of each TapLeaf.\n",
    "\n",
    "* **A higher weight** \n",
    "    * Indicates a higher likelihood of execution.\n",
    "    * Means the script will be placed closer to the root if possible.\n",
    "    * Results in a smaller inclusion proof and lower spending fees.\n",
    "\n",
    "![test](images/TapTree3.jpg)\n",
    "\n",
    "\n",
    "#### Example 1.3 - Building a TapTree with the huffman constructor.\n",
    "* We reconstruct the same taptree from examples 1.1 and 1.2 with the huffman constructor."
   ]
  },
  {
   "cell_type": "code",
   "execution_count": null,
   "metadata": {},
   "outputs": [],
   "source": [
    "# Run example 1.1 and 1.2 first.\n",
    "\n",
    "taptree = TapTree()\n",
    "taptree.key = pk_internal\n",
    "taptree.huffman_constructor([(1, tapleaf_A), (1, tapleaf_B), (2, tapleaf_C)])\n",
    "print(taptree.desc)\n",
    "\n",
    "# Compare with example 1.1\n",
    "taproot_script3, tweak3, control_map3 = taptree.construct()\n",
    "assert(taproot_script3 == taproot_script)\n"
   ]
  },
  {
   "cell_type": "markdown",
   "metadata": {},
   "source": [
    "## Part 2: Spending along the Script Path\n",
    "\n",
    "A Taproot output is spent along the script path with the following witness pattern.\n",
    "\n",
    "* Witness to spend TapScript_A:\n",
    "\n",
    "    * `[Stack element(s) satisfying TapScript_A]`\n",
    "    * `[TapScript_A]` \n",
    "    * `[Controlblock c]`\n",
    "\n",
    "\n",
    "* Controlblock c contains:\n",
    "\n",
    "    * `[Tapscript Version]` \n",
    "        * `0xfe & c[0]`\n",
    "    * `[Internal Public Key]` \n",
    "        * y-coordinate: `0x01 & c[0]` \n",
    "        * x-coordinate: `c[1:33]`\n",
    "    * `[Script Inclusion Proof]` \n",
    "        * `n x 32Bytes`\n",
    "\n",
    "\n",
    "_Note: As of writing, the Taproot BIP has been updated to reflect 32B public keys in the controlblock. Following examples and exercises continue to use 33B public keys until the taproot Bitcoin Core branch has been updated._\n",
    "\n",
    "![test](images/TapTree4.jpg)\n",
    "\n",
    "\n",
    "**Generating the Controlblock**\n",
    "\n",
    "We use the the TapTree construct method to generate the taproot output, tweak and controlblocks for all TapScripts.\n",
    "\n",
    "**`TapTree.construct()` returns the tuple:**\n",
    "* `taproot_output_script`, `tweak`, `control_block_map`\n",
    "* Control block map has key-value pairs: `tapscript` - `controlblock`\n",
    "        "
   ]
  },
  {
   "cell_type": "markdown",
   "metadata": {},
   "source": [
    "#### Programming Exercise 2.1 - Constructing a Taptree output.\n",
    "\n",
    "In the following exercise, please construct the output and segwit address for the TapTree structure shown in section 1C with the huffman TapTree constructor. Please generate new keys for the internal key and pay-to-pubkey TapScripts.\n",
    "\n",
    "We will cover TapScripts in more depth in the next chapter, but consider the following method to generate pay-to-pubkey TapScripts:\n",
    "* `TapLeaf.construct_pk(public_key)`"
   ]
  },
  {
   "cell_type": "code",
   "execution_count": null,
   "metadata": {},
   "outputs": [],
   "source": [
    "# Generate Keypairs for internal pubkey and pay-to-pubkey TapScripts.\n",
    "privkey_internal = ECKey()\n",
    "privkey_internal.generate()\n",
    "pubkey_internal = privkey_internal.get_pubkey()\n",
    "\n",
    "privkeyA = ECKey()\n",
    "privkeyB = ECKey()\n",
    "privkeyC = ECKey()\n",
    "privkeyD = ECKey()\n",
    "privkeyA.generate()\n",
    "privkeyB.generate()\n",
    "privkeyC.generate()\n",
    "privkeyD.generate()\n",
    "pubkeyA = privkeyA.get_pubkey()\n",
    "pubkeyB = privkeyB.get_pubkey()\n",
    "pubkeyC = privkeyC.get_pubkey()\n",
    "pubkeyD = privkeyD.get_pubkey()\n",
    "\n",
    "# Construct Pay-toPubkey TapLeafs and Taptree.\n",
    "TapLeafA = TapLeaf()\n",
    "TapLeafB = TapLeaf()\n",
    "TapLeafC = TapLeaf()\n",
    "TapLeafD = TapLeaf()\n",
    "TapLeafA.construct_pk(pubkeyA)\n",
    "TapLeafB.construct_pk(pubkeyB)\n",
    "TapLeafC.construct_pk(pubkeyC)\n",
    "TapLeafD.construct_pk(pubkeyD)\n",
    "\n",
    "taptree = TapTree()\n",
    "taptree.key = pubkey_internal\n",
    "taptree.huffman_constructor([(1,TapLeafA),(1, TapLeafB),(2, TapLeafC),(3,TapLeafD)])\n",
    "\n",
    "# Generate taproot output and segwit address.\n",
    "taproot_script, tweak, control_map = taptree.construct()\n",
    "pubkey_taproot_bytes = bytes(taproot_script[2:])\n",
    "segwit_address = program_to_witness(1, pubkey_taproot_bytes)\n",
    "print(segwit_address)"
   ]
  },
  {
   "cell_type": "markdown",
   "metadata": {},
   "source": [
    "#### Programming Exercise 2.2 - Spending a taproot output along a script path.\n",
    "\n",
    "In this exercise, we will send funds to the previously generated address in exercise 2.1, and spend this output along the `TapScript0` path.\n",
    "* TODO's in this exercise:\n",
    "     * Create the appropriate sighash and signature.\n",
    "     * Populate the `witness.stack` to spend `TapScriptA`\n",
    "     "
   ]
  },
  {
   "cell_type": "markdown",
   "metadata": {},
   "source": [
    "***Start TestNodes***"
   ]
  },
  {
   "cell_type": "code",
   "execution_count": null,
   "metadata": {},
   "outputs": [],
   "source": [
    "# Start TestNodes.\n",
    "test = util.TestWrapper()\n",
    "test.setup(num_nodes=1)"
   ]
  },
  {
   "cell_type": "markdown",
   "metadata": {},
   "source": [
    "***Generate Wallet Balance***"
   ]
  },
  {
   "cell_type": "code",
   "execution_count": null,
   "metadata": {},
   "outputs": [],
   "source": [
    "# Generate Coins for Bitcoin Node Wallet.\n",
    "test.nodes[0].generate(101)\n",
    "balance = test.nodes[0].getbalance()\n",
    "print(balance)"
   ]
  },
  {
   "cell_type": "markdown",
   "metadata": {},
   "source": [
    "***Send funds from the wallet to the taproot output (Segwit Address).***"
   ]
  },
  {
   "cell_type": "code",
   "execution_count": null,
   "metadata": {},
   "outputs": [],
   "source": [
    "# Send funds to taproot output.\n",
    "txid = test.nodes[0].sendtoaddress(segwit_address, balance / 100000)\n",
    "print(\"Funding tx:\", txid)\n",
    "\n",
    "# Deserialize wallet transaction.\n",
    "tx = CTransaction()\n",
    "tx_hex = test.nodes[0].getrawtransaction(txid)\n",
    "tx.deserialize(BytesIO(bytes.fromhex(tx_hex)))\n",
    "tx.rehash()\n",
    "\n",
    "# Determine Output Index of Segwit V1 Output.\n",
    "# (Wallet places change output at a random txout index.)\n",
    "outputs = iter(tx.vout)\n",
    "taproot_output = next(outputs)\n",
    "index = 0\n",
    "\n",
    "while (taproot_output.scriptPubKey != taproot_script):\n",
    "    taproot_output = next(outputs)\n",
    "    index += 1\n",
    "output_value = taproot_output.nValue"
   ]
  },
  {
   "cell_type": "markdown",
   "metadata": {},
   "source": [
    "***Spend taproot output with along TapScript A.***"
   ]
  },
  {
   "cell_type": "code",
   "execution_count": null,
   "metadata": {},
   "outputs": [],
   "source": [
    "tx_script_spend = CTransaction()\n",
    "tx_script_spend.nVersion = 1\n",
    "tx_script_spend.nLockTime = 0\n",
    "outpoint = COutPoint(tx.sha256, index)\n",
    "tx_script_spend_input = CTxIn(outpoint = outpoint)\n",
    "tx_script_spend.vin = [tx_script_spend_input]\n",
    "\n",
    "# Generate new Bitcoin Core wallet address to send funds back to.\n",
    "dest_addr = test.nodes[0].getnewaddress(address_type=\"bech32\")\n",
    "scriptpubkey = bytes.fromhex(test.nodes[0].getaddressinfo(dest_addr)['scriptPubKey'])\n",
    "\n",
    "# Determine minimum fee required for mempool acceptance.\n",
    "min_fee = int(test.nodes[0].getmempoolinfo()['mempoolminfee'] * 100000000)\n",
    "\n",
    "# Complete output which returns funds to Bitcoin Core wallet.\n",
    "dest_output= CTxOut(nValue=output_value-min_fee, scriptPubKey=scriptpubkey)\n",
    "tx_script_spend.vout = [dest_output]\n",
    "\n",
    "# Sign transaction with tweaked private key.\n",
    "# TODO: sig =\n",
    "hash_types = [0,1,2,3,0x81,0x82,0x83]\n",
    "sighash = TaprootSignatureHash(tx_script_spend, \n",
    "                               [taproot_output], \n",
    "                               hash_types[0], \n",
    "                               input_index = 0, \n",
    "                               scriptpath = True, \n",
    "                               tapscript = TapLeafA.script)\n",
    "sig = privkeyA.sign_schnorr(sighash)\n",
    "\n",
    "# TODO: Populate transaction witness.\n",
    "witness = CScriptWitness()\n",
    "witness.stack = [sig, TapLeafA.script, control_map[TapLeafA.script]]\n",
    "witness_in = CTxInWitness()\n",
    "witness_in.scriptWitness = witness\n",
    "tx_script_spend.wit.vtxinwit.append(witness_in)\n",
    "\n",
    "# Serialize Schnorr transaction for broadcast.\n",
    "tx_script_spend_str = tx_script_spend.serialize().hex()\n",
    "\n",
    "# Test mempool acceptance.\n",
    "print(test.nodes[0].testmempoolaccept([tx_script_spend_str]))"
   ]
  },
  {
   "cell_type": "markdown",
   "metadata": {},
   "source": [
    "***Shutdown TestNodes***"
   ]
  },
  {
   "cell_type": "code",
   "execution_count": null,
   "metadata": {},
   "outputs": [],
   "source": [
    "# Shutdown TestNodes.\n",
    "test.shutdown()"
   ]
  },
  {
   "cell_type": "code",
   "execution_count": null,
   "metadata": {},
   "outputs": [],
   "source": []
  }
 ],
 "metadata": {
  "kernelspec": {
   "display_name": "Python 3",
   "language": "python",
   "name": "python3"
  },
  "language_info": {
   "codemirror_mode": {
    "name": "ipython",
    "version": 3
   },
   "file_extension": ".py",
   "mimetype": "text/x-python",
   "name": "python",
   "nbconvert_exporter": "python",
   "pygments_lexer": "ipython3",
   "version": "3.6.5"
  }
 },
 "nbformat": 4,
 "nbformat_minor": 2
}
