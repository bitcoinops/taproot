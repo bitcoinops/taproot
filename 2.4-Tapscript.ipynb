{
 "cells": [
  {
   "cell_type": "code",
   "execution_count": null,
   "metadata": {},
   "outputs": [],
   "source": [
    "import hashlib\n",
    "from io import BytesIO\n",
    "\n",
    "import util\n",
    "from test_framework.key import ECKey, ECPubKey, generate_schnorr_nonce\n",
    "from test_framework.musig import generate_musig_key, aggregate_schnorr_nonces, sign_musig, aggregate_musig_signatures\n",
    "from test_framework.script import TapLeaf, TapTree, CTransaction, TaprootSignatureHash\n",
    "from test_framework.address import program_to_witness\n",
    "from test_framework.messages import CTransaction, COutPoint, CTxIn, CTxOut, CScriptWitness, CTxInWitness"
   ]
  },
  {
   "cell_type": "markdown",
   "metadata": {},
   "source": [
    "# 2.4 Tapscript\n"
   ]
  },
  {
   "cell_type": "markdown",
   "metadata": {},
   "source": [
    "Tapscript is a updated Bitcoin script language which is evaluated when the a Taproot output is spent along the _script path_. \n",
    "\n",
    "Tapscript retains most of the opcodes and evaluation rules applicable to v0 witness scripts, but includes several notable updates described in part 1 of this chapter.\n",
    "\n",
    "* __Part 1: Script Updates__\n",
    "    * Signature opcode updates.\n",
    "        * Schnorr verification.\n",
    "        * Checksigadd.\n",
    "    * Future Versioning\n",
    "        * Tapscript\n",
    "        * Opcodes\n",
    "\n",
    "In part 2, we propose the following TapScript descriptors, which provide the most common script locking conditions.\n",
    "\n",
    "* __Part 2: Tapscript Descriptors__ (Proposed)\n",
    "    * `Pay-to-pubkey` descriptors:\n",
    "        * pk(key)\n",
    "        * pkhash(key, hash)\n",
    "        * pkolder(key, delay)\n",
    "        * pkhasholder(key, hash, delay)\n",
    "    * `Checksigadd` descriptors:\n",
    "        * csa(n, key, ...)\n",
    "        * csahash(n, key, ..., hash)\n",
    "        * csaolder(n, key, ..., delay)\n",
    "        * csahasholder(n, key, ..., hash, delay)\n"
   ]
  },
  {
   "cell_type": "markdown",
   "metadata": {},
   "source": [
    "## Part 1: Script Updates.\n",
    "\n",
    "### Schnorr verification with signature opcodes.\n",
    "\n",
    "The signature opcodes consume the same stack arguments as in Segwit v0, but now verify signatures defined in [bip-schnorr](https://github.com/sipa/bips/blob/bip-schnorr/bip-schnorr.mediawiki).\n",
    "\n",
    "* OP_CHECKSIG\n",
    "    * Stack arguments consumed: `[public key] [bip-schnorr signature]`\n",
    "    * Pushes 0x01 on success or 0x00 on failure onto the stack.\n",
    "    * Requires an empty signature 0x00 to fail.\n",
    "    \n",
    "    \n",
    "* OP_CHECKSIGVERIFY\n",
    "    * Stack arguments consumed: `[public key] [bip-schnorr signature]`\n",
    "    * Continues with next opcode or fails script evaluation.\n",
    "\n",
    "\n"
   ]
  },
  {
   "cell_type": "markdown",
   "metadata": {},
   "source": [
    "#### 2.4.1 Example: Pay-to-pubkey tapscript. \n",
    "\n",
    "* The pay-to-pubkey tapscript consist of the following script operations:\n",
    "    * `[pk] [checksig]`\n",
    "* `TapLeaf.construct_pk(ECPubKey)` contructs a pk tapscript.\n",
    "* `TapLeaf.sat` describes witness elements required to satisfy the tapscript."
   ]
  },
  {
   "cell_type": "code",
   "execution_count": null,
   "metadata": {},
   "outputs": [],
   "source": [
    "# Generate Keypair.\n",
    "privkey0 = ECKey()\n",
    "privkey0.generate()\n",
    "pubkey0 = privkey0.get_pubkey()\n",
    "\n",
    "# Generate Tapscript.\n",
    "pk_tapscript = TapLeaf()\n",
    "pk_tapscript.construct_pk(pubkey0)\n",
    "\n",
    "print(\"Tapscript operations:\")\n",
    "for op in pk_tapscript.script:\n",
    "    print(op.hex()) if isinstance(op, bytes) else print(op)\n",
    "\n",
    "print(\"\\nSatisfying witness elements:\")\n",
    "for element, value in pk_tapscript.sat:\n",
    "    print(\"Witness element type is {}.\".format(element))\n",
    "    print(\"Signature corresponds to pubkey {}.\".format(value.hex()))"
   ]
  },
  {
   "cell_type": "markdown",
   "metadata": {},
   "source": [
    "**Disabled checkmultisig opcodes:** Legacy n-of-m multisignature opcodes would previously check each of the n signatures against up to m public keys. This is inefficient and disables batch verification of schnorr signatures, since pubkey and signature pairs cannot be known prior to script execution.\n",
    "\n",
    "* OP_CHECKMULTISIG\n",
    "* OP_CHECKMULTISIGVERIFY"
   ]
  },
  {
   "cell_type": "markdown",
   "metadata": {},
   "source": [
    "### Multisignatures with Checksigadd.\n",
    "\n",
    "Tapscript replaces the previous checkmultisig signature operation with OP_CHECKSIGADD. \n",
    "\n",
    "This multisignature signature opcode requires the witness to provide a valid or invalid signature for each public key, thereby avoiding the need to waste signature verfication operations for each public key in n-of-m multisignature scripts.\n",
    "\n",
    "* OP_CHECKSIGADD\n",
    "    * Equivalent to: `[OP_ROT][OP_SWAP][OP_CHECKSIG][OP_ADD]`\n",
    "    * Counted as one op towards 201 non-push opcode limit.\n",
    "    * Enables multisig scripts as shown below.\n",
    "\n",
    "![test](images/tapscript0.jpg)\n"
   ]
  },
  {
   "cell_type": "markdown",
   "metadata": {},
   "source": [
    "### N-of-M Checksigadd tapscripts\n",
    "\n",
    "Unlike legacy multisig, N-of-M checksigadd multisignature tapscripts will consume a stack element for each public key in the output script. This means that unused public keys must be evaluated against a zero witness element.\n",
    "\n",
    "For example:\n",
    "* Tapscript: `[pk0] [CHECKSIG] [PK1] [CHECKSIGADD] [PK2] [CHECKSIGADD] [2] [NUMEQUAL]`\n",
    "* Witness: \n",
    "    * `[sig2]` `[sig1]` `[]`\n",
    "    * `[sig2]` `[]` `[sig0]`\n",
    "    * `[]` `[sig1]` `[sig0]`\n",
    "\n",
    "The disadvantages of N-of-M Checksigadd multisignature scripts include\n",
    "* Cost: unused public keys are paid by the spender.\n",
    "* Privacy: unused public keys are revealed when tapscript is spent."
   ]
  },
  {
   "cell_type": "markdown",
   "metadata": {},
   "source": [
    "#### 2.4.2 Example: Generating a 2-of-3 checksigadd output. \n",
    "\n",
    "* We construct a 2-of-3 multisig output with `OP_CHECKSIGADD`. "
   ]
  },
  {
   "cell_type": "code",
   "execution_count": null,
   "metadata": {},
   "outputs": [],
   "source": [
    "# Generate Keypairs.\n",
    "privkey0 = ECKey()\n",
    "privkey1 = ECKey()\n",
    "privkey2 = ECKey()\n",
    "privkey0.generate()\n",
    "privkey1.generate()\n",
    "privkey2.generate()\n",
    "pubkey0 = privkey0.get_pubkey()\n",
    "pubkey1 = privkey1.get_pubkey()\n",
    "pubkey2 = privkey2.get_pubkey()\n",
    "\n",
    "# Generate Tapscript.\n",
    "csa_tapscript = TapLeaf()\n",
    "csa_tapscript.construct_csa(2, [pubkey0, pubkey1, pubkey2])\n",
    "\n",
    "print(\"CSA tapscript operations:\")\n",
    "for op in csa_tapscript.script:\n",
    "    print(op.hex()) if isinstance(op, bytes) else print(op)\n",
    "\n",
    "# Satisfying witness element.\n",
    "print(\"\\nSatisfying witness elements:\")\n",
    "for element, value in csa_tapscript.sat:\n",
    "    print(\"Witness element type is {}.\".format(element))\n",
    "    print(\"Signature corresponds to pubkey {}.\".format(value.hex()))\n",
    "    "
   ]
  },
  {
   "cell_type": "markdown",
   "metadata": {},
   "source": [
    "### N-of-M Multisig as  N-of-N checksigadd scripts\n",
    "\n",
    "Alternatively, a N-of-M Multisig locking condition can be expressed with multiple N-of-N checksigadd tapscripts committed to the same taproot. This minimizes leakage of unused public keys and can be more cost-efficient for the spender.\n",
    "\n",
    "Use the following convenience method to generate N-of-N checksigadd tapscripts from M public keys.\n",
    "* `TapLeaf.generate_threshold_csa(n, [key_0, key_1, ..., key_m])`\n",
    "\n",
    "![test](images/tapscript1.jpg)\n"
   ]
  },
  {
   "cell_type": "markdown",
   "metadata": {},
   "source": [
    "#### 2.4.3 Example: 2-of-5 multisig expressed as 2-of-2 checkigadd tapscripts."
   ]
  },
  {
   "cell_type": "code",
   "execution_count": null,
   "metadata": {},
   "outputs": [],
   "source": [
    "# Generate Keypairs.\n",
    "privkey0 = ECKey()\n",
    "privkey1 = ECKey()\n",
    "privkey2 = ECKey()\n",
    "privkey3 = ECKey()\n",
    "privkey4 = ECKey()\n",
    "privkey0.generate()\n",
    "privkey1.generate()\n",
    "privkey2.generate()\n",
    "privkey3.generate()\n",
    "privkey4.generate()\n",
    "pubkey0 = privkey0.get_pubkey()\n",
    "pubkey1 = privkey1.get_pubkey()\n",
    "pubkey2 = privkey2.get_pubkey()\n",
    "pubkey3 = privkey3.get_pubkey()\n",
    "pubkey4 = privkey4.get_pubkey()\n",
    "\n",
    "# Generate Tapscripts.\n",
    "pkv = [pubkey0, pubkey1, pubkey2, pubkey3, pubkey4]\n",
    "tapscripts = TapLeaf.generate_threshold_csa(2, pkv)\n",
    "    \n",
    "for ts in tapscripts:\n",
    "    print(ts.desc)"
   ]
  },
  {
   "cell_type": "markdown",
   "metadata": {},
   "source": [
    "### Tapscript Versioning\n",
    "\n",
    "Tapscript allows for different version types.\n",
    "\n",
    "* Leaf version (commited to TapTree leaf node)\n",
    "    * Initial version: `0xC0`\n",
    "* Success opcodes (allow for future functionality).\n",
    "    * 80, 98, 126-129, 131-134, 137-138, 141-142, 149-153, 187-254\n",
    "    * Any of these opcodes end script evaluation successfully."
   ]
  },
  {
   "cell_type": "markdown",
   "metadata": {},
   "source": [
    "## Part 2: Tapscript Descriptors.\n",
    "\n",
    "A tapscript descriptor is proposed to be encapsulated by a tapscript tag:\n",
    "* `ts(pk(key))`, `ts(csa(key))`, ...\n",
    "* The `ts` tag can be updated with new tap leaf versions.\n",
    "\n",
    "\n",
    "### Pay-to-pubkey tapscript descriptors.\n",
    "\n",
    "A pay-to-pubkey tapscript descriptor is proposed to have the following forms.  \n",
    "\n",
    "* `ts(pk(key))`\n",
    "    * Witness: `[signature]`\n",
    "    \n",
    "    \n",
    "* `ts(pkhash(key, 20B-hash-digest))`\n",
    "    * Witness: `[signature]`,`[32B-preimage]`\n",
    "    \n",
    "    \n",
    "* `ts(pkolder(key, delay))`\n",
    "    * Witness: `[signature]`\n",
    "    * Spendable after delay.\n",
    "    \n",
    "    \n",
    "* `ts(pkhasholder(key, 20B-hash-digest, delay))`\n",
    "    * Witness: `[signature]`,`[32B-preimage]`\n",
    "    * Spendable after delay.\n",
    "    \n",
    "We also provide pay-to-pubkey tapscript constructors for for the `TapLeaf` class. \n",
    "\n",
    "* `TapLeaf.construct_pk(ECPubKey)`\n",
    "* `TapLeaf.construct_pkhash(ECPubKey, 20B-hash-digest)`\n",
    "* `TapLeaf.construct_pkolder(ECPubKey, delay)`\n",
    "* `TapLeaf.construct_pkhasholder(ECPubKey, 20B-hash-digest, delay)`\n",
    "\n",
    "\n",
    "**Note:** Pubkeys in pay-to-pubkey tapscripts can generated with multi-party schemes such as MuSig.\n"
   ]
  },
  {
   "cell_type": "markdown",
   "metadata": {},
   "source": [
    "#### 2.4.4 Example: Generating a `pkhasholder` tapscript.\n",
    "\n",
    "We construct a pkhasholder tapscript with the following locking conditions.\n",
    "\n",
    "* 2-of-2 MuSig public key.\n",
    "* Hashlock with the the preimage `b'secret'`.\n",
    "* Delay of 20 blocks."
   ]
  },
  {
   "cell_type": "code",
   "execution_count": null,
   "metadata": {},
   "outputs": [],
   "source": [
    "# Generate MuSig Key.\n",
    "privkey0 = ECKey()\n",
    "privkey1 = ECKey()\n",
    "privkey0.generate()\n",
    "privkey1.generate()\n",
    "pubkey0 = privkey0.get_pubkey()\n",
    "pubkey1 = privkey1.get_pubkey()\n",
    "c_map, pk_musig = generate_musig_key([pubkey0, pubkey1])\n",
    "\n",
    "# Generate pkolder tapscript.\n",
    "pkhash_tapscript = TapLeaf()\n",
    "pkhash_tapscript.construct_pkolder(pk_musig, 20)\n",
    "print(\"Tapscript descriptor:\", pkhash_tapscript.desc, \"\\n\")\n",
    "\n",
    "print(\"Tapscript operations:\")\n",
    "for op in pkhash_tapscript.script:\n",
    "    print(op.hex()) if isinstance(op, bytes) else print(op)\n",
    "\n",
    "print(\"\\nSatisfying witness elements:\")\n",
    "for element, value in pkhash_tapscript.sat:\n",
    "    print(\"{}, {}\".format(element, value.hex()))\n"
   ]
  },
  {
   "cell_type": "markdown",
   "metadata": {},
   "source": [
    "### Checksigadd tapscript descriptors.\n",
    "\n",
    "A checksigadd tapscript descriptor is proposed to have the following forms.\n",
    "\n",
    "* `ts(csa(n, key0, key1, ...))`\n",
    "    * Witness: `[signature], [signature], ...`\n",
    "    * Note: for n < m, empty signature elements (zero) must be provided.\n",
    "    \n",
    "\n",
    "* `ts(csaolder(n, key0, key1, ..., hash))`\n",
    "    * Witness: `[signature], [signature], ..., [delay]`\n",
    "\n",
    "\n",
    "* `ts(csahash(n, key0, key1, ..., hash, time))`\n",
    "    * Witness: `[signature], [signature], ..., [32B pre-image]`\n",
    "\n",
    "\n",
    "* `ts(csahasholder(n, key0, key1, ..., hash, time))`\n",
    "    * Witness: `[signature], [signature], ..., [32B pre-image], [delay]`\n",
    "\n",
    "We also provide checksigadd tapscript constructors for for the `TapLeaf` class. \n",
    "\n",
    "* `TapLeaf.construct_csa(n,ECPubKey, ECPubKey, ...)`\n",
    "* `TapLeaf.construct_csahash(n, ECPubKey, ECPubKey, ..., 20B-hash-digest)`\n",
    "* `TapLeaf.construct_csaolder(n, ECPubKey, ECPubKey, ..., delay)`\n",
    "* `TapLeaf.construct_csahash(n, ECPubKey, ECPubKey, ..., 20B-hash-digest, delay)`\n",
    "\n",
    "\n",
    "**Note:** Any single public key in CSA tapscripts can generated with multi-party schemes such as MuSig.\n"
   ]
  },
  {
   "cell_type": "markdown",
   "metadata": {},
   "source": [
    "#### 2.4.5 _Programming Exercise:_ Generate a 2-of-2 `csahasholder` tapscript.\n",
    "\n",
    "Construct a `csahasholder` tapscript with the following locking conditions.\n",
    "\n",
    "* 2-of-2 public keys.\n",
    "    * One single signer key.\n",
    "    * One 2-of-2 MuSig key.\n",
    "* Hashlock with the the preimage `sha256(b'secret')`.\n",
    "* Delay of 20 blocks."
   ]
  },
  {
   "cell_type": "code",
   "execution_count": null,
   "metadata": {},
   "outputs": [],
   "source": [
    "# Generate key pairs.\n",
    "privkey0 = # TODO: Implement\n",
    "privkey1 = # TODO: Implement\n",
    "privkey2 = # TODO: Implement\n",
    "pk_musig = # TODO: Implement\n",
    "print(\"MuSig pubkey: {}\\n\".format(pk_musig.get_bytes().hex()))\n",
    "\n",
    "secret = # TODO: Implement\n",
    "preimage = # TODO: Implement\n",
    "digest = # TODO: Implement\n",
    "\n",
    "# Construct Tapscript\n",
    "csahasholder_tapscript = # TODO: Implement\n",
    "# ...\n",
    "print(\"Descriptor:\", csahasholder_tapscript.desc, \"\\n\")\n",
    "\n",
    "print(\"Tapscript operations:\")\n",
    "for op in csahasholder_tapscript.script:\n",
    "    print(op.hex()) if isinstance(op, bytes) else print(op)\n",
    "\n",
    "print(\"\\nSatisfying witness elements:\")\n",
    "for element, value in csahasholder_tapscript.sat:\n",
    "    print(\"{}, {}\".format(element, value.hex()))\n"
   ]
  },
  {
   "cell_type": "markdown",
   "metadata": {},
   "source": [
    "#### 2.4.6 _Programming Exercise:_ Generate and spend a  tapscript.\n",
    "\n",
    "**Part A:** First, spend 0.5 Bitcoin to this output from the Bitcoin Core wallet to a taproot output containing these tapscripts.\n",
    "\n",
    "* `ts(pkolder(key0, 20))`\n",
    "* `ts(csahash(key1, key2, ripemd160(sha(b'secret')))`\n",
    "    * Where `key2` is a 2-of-2 MuSig key."
   ]
  },
  {
   "cell_type": "code",
   "execution_count": null,
   "metadata": {},
   "outputs": [],
   "source": [
    "# Generate Keys.\n",
    "privkey_int = ECKey() \n",
    "privkey_int.generate()\n",
    "pubkey_int = privkey_int.get_pubkey()\n",
    "privkey0 = ECKey()\n",
    "privkey1 = ECKey()\n",
    "privkey2 = ECKey()\n",
    "privkey3 = ECKey()\n",
    "privkey0.generate()\n",
    "privkey1.generate()\n",
    "privkey2.generate()\n",
    "privkey3.generate()\n",
    "pubkey0 = privkey0.get_pubkey()\n",
    "pubkey1 = privkey1.get_pubkey()\n",
    "pubkey2 = privkey2.get_pubkey()\n",
    "pubkey3 = privkey3.get_pubkey()\n",
    "\n",
    "# Generate MuSig keys.\n",
    "c_map, pk_musig = # TODO: Implement\n",
    "privkey2_c = # TODO: Implement\n",
    "privkey3_c = # TODO: Implement\n",
    "print(\"MuSig pubkey: {}\\n\".format(pk_musig.get_bytes().hex()))\n",
    "\n",
    "# Generate ts(pkolder(key0, 20)).\n",
    "pkolder_ts = # TODO: Implement\n",
    "\n",
    "\n",
    "# ts(csahash(2, key1, key23, b'secret').\n",
    "csahash_ts = # TODO: Implement\n",
    "\n",
    "\n",
    "# Satisfying witness elements.\n",
    "print(\"Satisfying witness elements:\")\n",
    "for element, value in csahash_ts.sat:\n",
    "    print(\"{}, {}\".format(element, value.hex()))\n",
    "\n",
    "# Construct TapTree.\n",
    "taptree = # TODO: Implement\n",
    "\n",
    "\n",
    "# Generate taproot output and segwit address.\n",
    "taproot_script, tweak, control_map = taptree.construct()\n",
    "pk_taproot_bytes = bytes(taproot_script[2:])\n",
    "segwit_address = program_to_witness(1, pk_taproot_bytes)\n",
    "print(\"\\nBech32 address: {}\".format(segwit_address))"
   ]
  },
  {
   "cell_type": "markdown",
   "metadata": {},
   "source": [
    "***Start TestNode***"
   ]
  },
  {
   "cell_type": "code",
   "execution_count": null,
   "metadata": {},
   "outputs": [],
   "source": [
    "test = util.TestWrapper()\n",
    "test.setup(num_nodes=1)"
   ]
  },
  {
   "cell_type": "markdown",
   "metadata": {},
   "source": [
    "***Generate Wallet Balance***"
   ]
  },
  {
   "cell_type": "code",
   "execution_count": null,
   "metadata": {},
   "outputs": [],
   "source": [
    "test.nodes[0].generate(101)\n",
    "balance = test.nodes[0].getbalance()\n",
    "print(balance)"
   ]
  },
  {
   "cell_type": "markdown",
   "metadata": {},
   "source": [
    "***Send funds from the wallet to the taproot output (Segwit Address).***"
   ]
  },
  {
   "cell_type": "code",
   "execution_count": null,
   "metadata": {},
   "outputs": [],
   "source": [
    "# Send funds to taproot output.\n",
    "txid = test.nodes[0].sendtoaddress(segwit_address, 0.5)\n",
    "print(\"Funding tx:\", txid)\n",
    "\n",
    "# Deserialize wallet transaction.\n",
    "tx = CTransaction()\n",
    "tx_hex = test.nodes[0].getrawtransaction(txid)\n",
    "tx.deserialize(BytesIO(bytes.fromhex(tx_hex)))\n",
    "tx.rehash()\n",
    "\n",
    "# Determine Output Index of Segwit V1 Output.\n",
    "# (Wallet shuffles change output index.)\n",
    "outputs = iter(tx.vout)\n",
    "taproot_output = next(outputs)\n",
    "index = 0\n",
    "\n",
    "while (taproot_output.scriptPubKey != taproot_script):\n",
    "    taproot_output = next(outputs)\n",
    "    index += 1\n",
    "output_value = taproot_output.nValue"
   ]
  },
  {
   "cell_type": "markdown",
   "metadata": {},
   "source": [
    "**Part B:** Now construct a transaction that spends the taproot output along the csa script path."
   ]
  },
  {
   "cell_type": "code",
   "execution_count": null,
   "metadata": {},
   "outputs": [],
   "source": [
    "tx_script_spend = CTransaction()\n",
    "tx_script_spend.nVersion = 2\n",
    "tx_script_spend.nLockTime = 0\n",
    "outpoint = COutPoint(tx.sha256, index)\n",
    "tx_script_spend_input = CTxIn(outpoint = outpoint)\n",
    "tx_script_spend.vin = [tx_script_spend_input]\n",
    "\n",
    "# Generate new Bitcoin Core wallet address to send funds back to.\n",
    "dest_addr = test.nodes[0].getnewaddress(address_type=\"bech32\")\n",
    "scriptpubkey = bytes.fromhex(test.nodes[0].getaddressinfo(dest_addr)['scriptPubKey'])\n",
    "\n",
    "# Determine minimum fee required for mempool acceptance.\n",
    "min_fee = int(test.nodes[0].getmempoolinfo()['mempoolminfee'] * 100000000)\n",
    "\n",
    "# Complete output which returns funds to Bitcoin Core wallet.\n",
    "dest_output= CTxOut(nValue=output_value-min_fee, scriptPubKey=scriptpubkey)\n",
    "tx_script_spend.vout = [dest_output]\n",
    "\n",
    "# Construct witness according to required satisfaction elements.\n",
    "htv = [0, 1, 2, 3, 0x81, 0x82, 0x83]\n",
    "sighash = TaprootSignatureHash(tx_script_spend, [taproot_output], htv[0], 0, scriptpath=True, tapscript=csahash_ts.script)\n",
    "\n",
    "# Signature from privkey1.\n",
    "sig1 = # TODO: Implement\n",
    "\n",
    "# MuSig signature.\n",
    "k2 = # TODO: Implement\n",
    "k3 = # TODO: Implement\n",
    "R2 = # TODO: Implement\n",
    "R3 = # TODO: Implement\n",
    "R_agg, negated = # TODO: Implement\n",
    "sig_agg = # TODO: Implement\n",
    "\n",
    "# Satisfying witness elements:\n",
    "witness_elements = []\n",
    "witness_elements.append() # TODO: Implement\n",
    "witness_elements.append() # TODO: Implement\n",
    "# ...\n",
    "\n",
    "tx_script_spend.wit.vtxinwit.append(CTxInWitness())\n",
    "tx_script_spend.wit.vtxinwit[0].scriptWitness.stack = witness_elements + [csahash_ts.script, control_map[csahash_ts.script]]\n",
    "taproot_spend_str = tx_script_spend.serialize().hex()\n",
    "\n",
    "# Serialize Schnorr transaction for broadcast.\n",
    "tx_script_spend_str = tx_script_spend.serialize().hex()\n",
    "\n",
    "# Test mempool acceptance.\n",
    "print(test.nodes[0].testmempoolaccept([tx_script_spend_str]))\n"
   ]
  },
  {
   "cell_type": "markdown",
   "metadata": {},
   "source": [
    "***Shutdown TestNodes***"
   ]
  },
  {
   "cell_type": "code",
   "execution_count": null,
   "metadata": {},
   "outputs": [],
   "source": [
    "test.shutdown()"
   ]
  },
  {
   "cell_type": "code",
   "execution_count": null,
   "metadata": {},
   "outputs": [],
   "source": []
  }
 ],
 "metadata": {
  "kernelspec": {
   "display_name": "Python 3",
   "language": "python",
   "name": "python3"
  },
  "language_info": {
   "codemirror_mode": {
    "name": "ipython",
    "version": 3
   },
   "file_extension": ".py",
   "mimetype": "text/x-python",
   "name": "python",
   "nbconvert_exporter": "python",
   "pygments_lexer": "ipython3",
   "version": "3.6.5"
  }
 },
 "nbformat": 4,
 "nbformat_minor": 2
}
