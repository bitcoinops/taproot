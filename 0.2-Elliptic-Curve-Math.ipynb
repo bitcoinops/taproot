{
 "cells": [
  {
   "cell_type": "code",
   "execution_count": null,
   "metadata": {},
   "outputs": [],
   "source": [
    "import random\n",
    "import util\n",
    "from test_framework.key import SECP256K1_ORDER, SECP256K1_FIELD_SIZE, ECKey, ECPubKey"
   ]
  },
  {
   "cell_type": "markdown",
   "metadata": {},
   "source": [
    "# 0.2 Elliptic Curve Math (Review)\n"
   ]
  },
  {
   "cell_type": "markdown",
   "metadata": {},
   "source": [
    "Elliptic Curve math involves scalars and points.\n",
    "\n",
    "* A scalar is a positive integer which is smaller than the field size, and is denoted by a lower case letter (eg `a`).\n",
    "* A point lies on the curve and is denoted by an upper-case letter (eg `C`) or a pair of co-ordinates (eg `(x,y)`).\n",
    "\n",
    "In Bitcoin, key pair generation and signing is performed over the secp256k1 curve. All numbers are modulo the field size `SECP256K1_ORDER`, which is a very large number"
   ]
  },
  {
   "cell_type": "markdown",
   "metadata": {},
   "source": [
    "![test](images/ec_math0.jpg)\n",
    "\n",
    "_An overview of all operations of scalars and points over elliptic curves._"
   ]
  },
  {
   "cell_type": "markdown",
   "metadata": {},
   "source": [
    "### Classes / Methods for Elliptic Curve Math\n",
    "\n",
    "**`Integers`:** All Scalar operations over secp251k1 can be performed with python integers and the modulo `%` operator. \n",
    "\n",
    "Scalar addition, subtraction, multiplication and division over secp256k1 are modulo a large prime number SECP256K1_ORDER.\n",
    "\n",
    "* All scalar operations are performed modulo `SECP256K1_ORDER`.\n",
    "* Addition: `a + b % SECP256K1_ORDER`\n",
    "* Subtraction: `-a = SECP256K1_ORDER - a`\n",
    "* Multiplication: `a * b % SECP256K1_ORDER`\n",
    "* Division (see [Fermat's little theorem](https://en.wikipedia.org/wiki/Fermat%27s_little_theorem)): `1/b = b ** (SECP256K1_ORDER-2) % SECP256K1_ORDER`\n",
    "\n",
    "**`ECKey`:** The Bitcoin Core library provides a private key class which can also perform certain scalar operations.\n",
    "\n",
    "* Addition: `a + b`\n",
    "* Subtraction: `a - b` \n",
    "* Multiplication: `a * b`\n",
    "* Division: `a * 1/b` (See Fermat's little theorem) \n",
    "\n",
    "**`ECPubKey`:** A public key is the private key scalar multiplied by the groups _generator point_ `G`. The following operations are possible with public keys.\n",
    "\n",
    "* Addition (of two public keys): `A + B`\n",
    "* Subtraction (of one point from another): `A - B` \n",
    "* Multiplication (of a point times a scalar): `A * b`\n",
    "* Division (of a point by a scalar): `A * 1/b` (See Fermat's little theorem) \n"
   ]
  },
  {
   "cell_type": "markdown",
   "metadata": {},
   "source": [
    "![test](images/ec_math1.jpg)\n",
    "\n",
    "_Classes and methods for EC operations provided by the Bitcoin Core test framework._"
   ]
  },
  {
   "cell_type": "markdown",
   "metadata": {},
   "source": [
    "#### 0.2.1 Example: Scalar Addition over secp256K1 order\n",
    "\n",
    "Addition can be performed with integer modulo math in python or with the private key class `ECKey`. We can set an `ECKey` object to a certain value, or generate a new private key with the `generate` method.\n",
    "\n",
    "In the example below, addition is performed with both integers and the `ECKey` class, and evaluated for equality."
   ]
  },
  {
   "cell_type": "code",
   "execution_count": null,
   "metadata": {},
   "outputs": [],
   "source": [
    "# int() operations\n",
    "# get 2 random numbers a,b\n",
    "a = random.randrange(1, SECP256K1_ORDER)\n",
    "b = random.randrange(1, SECP256K1_ORDER)\n",
    "print(\"a = {}\".format(a))\n",
    "print(\"b = {}\".format(b))\n",
    "\n",
    "# use simple addition for a+b but modulo the result to make sure we stay within the SECP256K1_ORDER order\n",
    "ab = (a + b) % SECP256K1_ORDER\n",
    "print(\"a + b = {}\\n\".format(ab))\n",
    "\n",
    "# ECKey() operations\n",
    "# convert our ints to 32 byte representations since that is what ECKey expects\n",
    "a_bytes = a.to_bytes(32,'big')\n",
    "b_bytes = b.to_bytes(32,'big')\n",
    "\n",
    "# use our bytes to instantiate ECKey instances \n",
    "a_key = ECKey() \n",
    "a_key.set(a_bytes, True) # set the secret value of the Eckey\n",
    "b_key = ECKey() \n",
    "b_key.set(b_bytes, True) # True means we are using compressed keys\n",
    "\n",
    "ab_key = a_key + b_key\n",
    "print(\"a_key.secret = {}\".format(a_key.secret))\n",
    "print(\"b_key.secret = {}\".format(b_key.secret))\n",
    "print(\"ab_key.secret = {}\\n\".format(ab_key.secret))\n",
    "\n",
    "# Ensure equivalency.\n",
    "assert int().from_bytes(ab_key.get_bytes(),'big') == ab\n",
    "print(\"Success!\")"
   ]
  },
  {
   "cell_type": "markdown",
   "metadata": {},
   "source": [
    "#### 0.2.2 Example: Scalar Multiplication over secp256K1 order\n",
    "\n",
    "In the example below, multiplication is performed with both integers and the `ECKey` class, and evaluated for equality."
   ]
  },
  {
   "cell_type": "code",
   "execution_count": null,
   "metadata": {},
   "outputs": [],
   "source": [
    "# int() operations\n",
    "# get 2 random numbers a,b\n",
    "a = random.randrange(1, SECP256K1_ORDER)\n",
    "b = random.randrange(1, SECP256K1_ORDER)\n",
    "print(\"a = {}\".format(a))\n",
    "print(\"b = {}\".format(b))\n",
    "\n",
    "# use simple multiplication for a*b but modulo the result to make sure we stay within the SECP256K1_ORDER order\n",
    "ab = (a * b) % SECP256K1_ORDER\n",
    "print(\"a * b = {}\\n\".format(ab))\n",
    "\n",
    "# ECkey() operations\n",
    "# convert our ints to 32 byte representations since that is what ECKey expects\n",
    "a_bytes = a.to_bytes(32,'big')\n",
    "b_bytes = b.to_bytes(32,'big')\n",
    "\n",
    "# use our bytes to instantiate ECKey instances \n",
    "a_key = ECKey() \n",
    "a_key.set(a_bytes, True) # set the secret value of the Eckey\n",
    "b_key = ECKey() \n",
    "b_key.set(b_bytes, True) # True means we are using compressed keys\n",
    "\n",
    "ab_key = a_key * b_key\n",
    "print(\"a_key.secret = {}\".format(a_key.secret))\n",
    "print(\"b_key.secret = {}\".format(b_key.secret))\n",
    "print(\"ab_key.secret = {}\\n\".format(ab_key.secret))\n",
    "\n",
    "# Ensure operations are equivalent.\n",
    "assert int().from_bytes(ab_key.get_bytes(),'big') == ab\n",
    "print(\"Success!\")"
   ]
  },
  {
   "cell_type": "markdown",
   "metadata": {},
   "source": [
    "#### 0.2.3 _Programming Exercise:_ Commutative property of scalar operations\n",
    "\n",
    "In this exercise we wish to demonstrate the commutative property of scalar addition and multiplication, whilst getting familiarized with both integer modulo operations and the private key `ECKey` methods.\n",
    "\n",
    "Consider:\n",
    "\n",
    "* `a + b = b + a` over secp256k1\n",
    "* `a * b = b * a` over secp256k1\n",
    "\n",
    "Notes:\n",
    "\n",
    "* Demonstrate that both equations hold.\n",
    "* Compute the left sides with the Python `int` class.\n",
    "* Compute the right sides with the Bitcoin Core `ECKey` class."
   ]
  },
  {
   "cell_type": "code",
   "execution_count": null,
   "metadata": {},
   "outputs": [],
   "source": [
    "a = random.randrange(1, SECP256K1_ORDER)\n",
    "a_key = ECKey()\n",
    "a_key.set(a.to_bytes(32,'big'), True) \n",
    "\n",
    "b = random.randrange(1, SECP256K1_ORDER)\n",
    "b_key = ECKey()\n",
    "b_key.set(b.to_bytes(32,'big'), True) \n",
    "\n",
    "# Left: Compute a + b\n",
    "left_ab =  # TODO: implement\n",
    "\n",
    "# Right: Compute b + a\n",
    "right_ba =  # TODO: implement\n",
    "\n",
    "# Left/Right: Assert equality\n",
    "assert left_ab == right_ba\n",
    "\n",
    "# Left: Compute a * b\n",
    "left_ab =  # TODO: implement\n",
    "\n",
    "# Right: Compute b * a\n",
    "right_ba =  # TODO: implement\n",
    "\n",
    "# Left/Right: Assert equality\n",
    "assert left_ab == right_ba\n",
    "print(\"Success!\")"
   ]
  },
  {
   "cell_type": "markdown",
   "metadata": {},
   "source": [
    "#### 0.2.4 _Programming Exercise:_ Distributivity of scalar operations\n",
    "\n",
    "In this exercise we wish to demonstrate the distributivity property of scalar addition and multiplication.\n",
    "\n",
    "Consider: `(a - b) * c = a * c - b * c` over SECP256k1\n",
    "* Demonstrate that the equation holds\n",
    "* Compute the left side with the Python `int` class.\n",
    "* Compute the right side with the Bitcoin Core `ECKey` class.\n"
   ]
  },
  {
   "cell_type": "code",
   "execution_count": null,
   "metadata": {},
   "outputs": [],
   "source": [
    "a = random.randrange(1, SECP256K1_ORDER)\n",
    "a_key = ECKey()\n",
    "a_key.set(a.to_bytes(32,'big'), True) \n",
    "\n",
    "b = random.randrange(1, SECP256K1_ORDER)\n",
    "b_key = ECKey()\n",
    "b_key.set(b.to_bytes(32,'big'), True) \n",
    "\n",
    "c = random.randrange(1, SECP256K1_ORDER)\n",
    "c_key = ECKey()\n",
    "c_key.set(c.to_bytes(32,'big'), True) \n",
    "\n",
    "# Left: Compute (a - b) * c\n",
    "left_abc =  # TODO: implement\n",
    "\n",
    "# Right: Compute -b * c\n",
    "right_abc =  # TODO: implement\n",
    "# Negate a ECKey with negate() method.\n",
    "\n",
    "\n",
    "# Right: Compute a * c\n",
    "\n",
    "\n",
    "# Right: Compute a * c - b * c\n",
    "\n",
    "\n",
    "# Left/Right: Assert equality\n",
    "assert left_abc == right_abc\n",
    "print(\"Success!\")"
   ]
  },
  {
   "cell_type": "markdown",
   "metadata": {},
   "source": [
    "#### 0.2.5 Example: Point Addition over secp256k1\n",
    "\n",
    "The public key `ECPubkey` class can be derived from `ECKey` with the `ECKey.get_pubkey` method. \n",
    "\n",
    "In the following example, we perform point addition. Point addition is used to create aggregate MuSig pubkeys."
   ]
  },
  {
   "cell_type": "code",
   "execution_count": null,
   "metadata": {},
   "outputs": [],
   "source": [
    "a = ECKey()\n",
    "b = ECKey()\n",
    "\n",
    "# generate uses random.randrange(1, SECP256K1_ORDER) similar to what we have done in earlier examples\n",
    "a.generate()\n",
    "b.generate()\n",
    "\n",
    "# get_pubkey generates the pubkey (in the form of an ECPubKey object), by multiplying the secret by a special Point G\n",
    "A = a_key.get_pubkey()\n",
    "print(\"Point A is {}\".format(A.get_bytes().hex()))\n",
    "B = b_key.get_pubkey()\n",
    "print(\"Point B is {}\".format(B.get_bytes().hex()))\n",
    "\n",
    "# perform Point Addition between the two pubkeys\n",
    "AB = A + B\n",
    "\n",
    "print(\"Point (A + B) is {}\".format(AB.get_bytes().hex()))"
   ]
  },
  {
   "cell_type": "markdown",
   "metadata": {},
   "source": [
    "#### 0.2.6  _Programming Exercise:_ Distributivity over scalars and points\n",
    "\n",
    "In this exercise we wish to demonstrate the distributivity property of scalar/point operations, whilst getting familiarized with both integer modulo operations and the public key `ECPubKey` methods.\n",
    "\n",
    "Consider: `(a - b) * C = a * C + (-b) * C`"
   ]
  },
  {
   "cell_type": "code",
   "execution_count": null,
   "metadata": {},
   "outputs": [],
   "source": [
    "a = ECKey()\n",
    "b = ECKey()\n",
    "c = ECKey()\n",
    "a.generate()\n",
    "b.generate()\n",
    "c.generate()\n",
    "C = c.get_pubkey()\n",
    "\n",
    "# Left: Compute a - b\n",
    "left =  # TODO: implement\n",
    "\n",
    "# Left: Compute (a - b) * C\n",
    "\n",
    "\n",
    "# Right: Compute a * C and b * C\n",
    "right =  # TODO: implement\n",
    "\n",
    "# Right: Compute aC - bC\n",
    "\n",
    "\n",
    "# Left/Right: Assert equality\n",
    "assert left.get_bytes() == right.get_bytes()\n",
    "print(\"Success!\")"
   ]
  }
 ],
 "metadata": {
  "kernelspec": {
   "display_name": "Python 3",
   "language": "python",
   "name": "python3"
  },
  "language_info": {
   "codemirror_mode": {
    "name": "ipython",
    "version": 3
   },
   "file_extension": ".py",
   "mimetype": "text/x-python",
   "name": "python",
   "nbconvert_exporter": "python",
   "pygments_lexer": "ipython3",
   "version": "3.6.8"
  }
 },
 "nbformat": 4,
 "nbformat_minor": 2
}
