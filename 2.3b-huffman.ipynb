{
 "cells": [
  {
   "cell_type": "markdown",
   "metadata": {},
   "source": [
    "## Huffman Constructor\n",
    "\n",
    "Huffman encoding can optimize the TapTree structure, and thus potentially lower the size of revealed branches, by taking into account the estimated frequency by which each TapLeaf will occur. Since some spending scenarios are more likely to occur than others, ideally we would optimize the tree structure such that those spends appear closer to the root of the tree, and therefore require a smaller merkle proof when spending.\n",
    "\n",
    "We reconstruct the same taptree from the above examples using the `huffman_constructor()`. That function takes a list of `(weight,tapleaf)` tuples, where `weight` is an `int` and `tapleaf` is a `TapLeaf` object. A higher weight:\n",
    "   \n",
    "* Indicates a higher likelihood of execution\n",
    "* Means the script will be placed closer to the root if possible\n",
    "* Results in a smaller inclusion proof and lower spending fees"
   ]
  },
  {
   "cell_type": "markdown",
   "metadata": {},
   "source": [
    "![test](images/TapTree3.jpg)"
   ]
  }
 ],
 "metadata": {
  "kernelspec": {
   "display_name": "Python 3",
   "language": "python",
   "name": "python3"
  },
  "language_info": {
   "codemirror_mode": {
    "name": "ipython",
    "version": 3
   },
   "file_extension": ".py",
   "mimetype": "text/x-python",
   "name": "python",
   "nbconvert_exporter": "python",
   "pygments_lexer": "ipython3",
   "version": "3.6.5"
  }
 },
 "nbformat": 4,
 "nbformat_minor": 2
}
