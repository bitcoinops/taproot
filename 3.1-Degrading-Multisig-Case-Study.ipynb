{
 "cells": [
  {
   "cell_type": "code",
   "execution_count": null,
   "metadata": {},
   "outputs": [],
   "source": [
    "from io import BytesIO\n",
    "import hashlib\n",
    "import random\n",
    "\n",
    "import util\n",
    "from test_framework.key import generate_schnorr_nonce, ECKey, ECPubKey, SECP256K1_FIELD_SIZE\n",
    "from test_framework.musig import aggregate_musig_signatures, aggregate_schnorr_nonces, generate_musig_key, sign_musig\n",
    "from test_framework.script import TapLeaf, TapTree, TaprootSignatureHash\n",
    "from test_framework.address import program_to_witness\n",
    "from test_framework.messages import CTransaction, COutPoint, CTxIn, CTxOut, CScriptWitness, CTxInWitness\n",
    "from test_framework.util import assert_equal\n"
   ]
  },
  {
   "cell_type": "markdown",
   "metadata": {},
   "source": [
    "# 3.1 Degrading Multisig Output\n",
    "\n",
    "In this case-study, we consider a degrading multisig output, which provides recovery spending paths if the main wallet keys are lost or cannot sign. This output is expected to spent soon after being created. \n",
    "The recovery spending paths include delays in case the back-up keys are compromised.\n",
    "\n",
    "***Locking conditions***\n",
    "\n",
    "* `3/3 multisig`\n",
    "    * Requires 3 main wallet keys\n",
    "* Or `3/5 multsig` spendable after 3 days\n",
    "    * Requires 1 backup key\n",
    "* Or  `3/5 multisig` spendable after 10 days\n",
    "    * Requires 2 backup keys\n",
    "\n",
    "***Signers***\n",
    "\n",
    "* Keys A, B, C - _main wallet keys_\n",
    "* Keys D, E - _backup keys_\n",
    "\n",
    "***Privacy Requirements***\n",
    "\n",
    "* No unused public keys should be revealed during spending.\n",
    "\n",
    "***Other considerations***\n",
    "\n",
    "* For this case study, we only consider main wallet keys to be capable of interactively co-signing MuSig keys."
   ]
  },
  {
   "cell_type": "markdown",
   "metadata": {},
   "source": [
    "### 3.1.1. Determine different signing scenarios and their likelihoods.\n",
    "\n",
    "* Sketch out different signing scenarios and their likelihoods."
   ]
  },
  {
   "cell_type": "code",
   "execution_count": 1,
   "metadata": {},
   "outputs": [],
   "source": [
    "# List spending paths in order of likelihood.\n",
    "# TODO: Implement\n",
    "\n",
    "# Sketch out Taproot Descriptors.\n",
    "# TODO: Implement\n",
    "\n"
   ]
  },
  {
   "cell_type": "markdown",
   "metadata": {},
   "source": [
    "### 3.1.2. Build your taproot output.\n",
    "\n",
    "* Construct the Taptree according to the spending paths and their likelihoods."
   ]
  },
  {
   "cell_type": "code",
   "execution_count": null,
   "metadata": {},
   "outputs": [],
   "source": [
    "# Generate main wallet key pairs.\n",
    "# TODO: Implement\n",
    "\n",
    "\n",
    "# Generate back-up wallet key pairs.\n",
    "# TODO: Implement\n",
    "\n",
    "\n",
    "# 3-of-3 main key (MuSig public key).\n",
    "# TODO: Implement\n",
    "\n",
    "\n",
    "# Tapscripts - 2 main keys & 1 backup key\n",
    "tapscript_2a = # TODO: Implement\n",
    "tapscript_2b = # TODO: Implement\n",
    "tapscript_2c = # TODO: Implement\n",
    "tapscript_2d = # TODO: Implement\n",
    "delay =        # TODO: Impplement (In blocks)\n",
    "        \n",
    "# Tapscripts - 1 main keys & 2 backup keys\n",
    "tapscript_3a = # TODO: Implement\n",
    "tapscript_3b = # TODO: Implement\n",
    "long_delay =   # TODO: Implement (In blocks)\n",
    "\n",
    "# Set list of backup tapscripts.\n",
    "# Suggestion: Include tapscripts with 3d timelocks first, then those with 10d timelocks\n",
    "backup_tapscripts = [tapscript_2a, tapscript_2b, tapscript_2c, tapscript_2d, tapscript_3a, tapscript_3b]\n",
    "\n",
    "# Construct taptree with huffman constructor.\n",
    "multisig_taproot = # TODO: Implement\n",
    "\n",
    "# Print Taproot Descriptor.\n",
    "print(multisig_taproot.desc)\n",
    "\n",
    "# Construct Segwit Address.\n",
    "tapscript, taptweak, control_map = multisig_taproot.construct()\n",
    "output_pubkey = musig_ABC.tweak_add(taptweak) \n",
    "output_pubkey_b = output_pubkey.get_bytes()\n",
    "taproot_pubkey_v1 = bytes([output_pubkey_b[0] & 1]) + output_pubkey_b[1:]\n",
    "segwit_address = program_to_witness(1, taproot_pubkey_v1)\n",
    "print(\"\\nSegwit Address:\", segwit_address)\n"
   ]
  },
  {
   "cell_type": "markdown",
   "metadata": {},
   "source": [
    "### 3.1.3. Test each possible spending path of your output design.\n",
    "\n",
    "* Construct the spending transaction and test the tx validity with the `testmempoolaccept`.\n",
    "* Demonstrate the delays work intended.\n",
    "* Compute and compare the weight of each spend."
   ]
  },
  {
   "cell_type": "markdown",
   "metadata": {},
   "source": [
    "***Start TestNodes***"
   ]
  },
  {
   "cell_type": "code",
   "execution_count": null,
   "metadata": {},
   "outputs": [],
   "source": [
    "test = util.TestWrapper()\n",
    "test.setup(num_nodes=1)\n"
   ]
  },
  {
   "cell_type": "markdown",
   "metadata": {},
   "source": [
    "***Generate Wallet Balance***"
   ]
  },
  {
   "cell_type": "code",
   "execution_count": null,
   "metadata": {},
   "outputs": [],
   "source": [
    "test.nodes[0].generate(101)\n",
    "balance = test.nodes[0].getbalance()\n",
    "print(balance)\n"
   ]
  },
  {
   "cell_type": "markdown",
   "metadata": {},
   "source": [
    "***Send funds from the wallet to the taproot output (Segwit Address).***"
   ]
  },
  {
   "cell_type": "code",
   "execution_count": null,
   "metadata": {},
   "outputs": [],
   "source": [
    "# Send funds to taproot output.\n",
    "txid = test.nodes[0].sendtoaddress(segwit_address, 0.5)\n",
    "print(\"Funding tx:\", txid)\n",
    "\n",
    "# Deserialize wallet transaction.\n",
    "tx = CTransaction()\n",
    "tx_hex = test.nodes[0].getrawtransaction(txid)\n",
    "tx.deserialize(BytesIO(bytes.fromhex(tx_hex)))\n",
    "tx.rehash()\n",
    "\n",
    "# Determine Output Index of Segwit V1 Output.\n",
    "# (Wallet places change output at a random txout index.)\n",
    "outputs = iter(tx.vout)\n",
    "taproot_output = next(outputs)\n",
    "taproot_index = 0\n",
    "\n",
    "while (taproot_output.scriptPubKey != tapscript):\n",
    "    taproot_output = next(outputs)\n",
    "    taproot_index += 1\n",
    "taproot_value = taproot_output.nValue\n"
   ]
  },
  {
   "cell_type": "markdown",
   "metadata": {},
   "source": [
    "***Test taproot spend for all script paths***"
   ]
  },
  {
   "cell_type": "code",
   "execution_count": null,
   "metadata": {},
   "outputs": [],
   "source": [
    "# Construct signing key map (pubkey-bytes: privkey)\n",
    "privkey_map = # TODO: Implement\n",
    "\n",
    "# We will set tapscripts with different delays into separate lists.\n",
    "long_delays_idx = 4\n",
    "three_day_delay_txs = []\n",
    "ten_day_delay_txs = []\n",
    "\n",
    "# Iterate through all tapscripts.\n",
    "for idx, tapscript_to_spend in enumerate(backup_tapscripts):\n",
    "    taproot_spend_tx = CTransaction()\n",
    "    taproot_spend_tx.nLockTime = 0\n",
    "    taproot_spend_tx.nVersion = 2\n",
    "    taproot_output_point = COutPoint(tx.sha256, taproot_index)\n",
    "\n",
    "    # Construct transaction input.\n",
    "    # TODO: Implement\n",
    "    \n",
    "    taproot_spend_tx.vin = [tx_input]\n",
    "    dest_addr = test.nodes[0].getnewaddress(address_type=\"bech32\")    \n",
    "    spk = bytes.fromhex(test.nodes[0].getaddressinfo(dest_addr)['scriptPubKey'])\n",
    "    min_fee = 5000\n",
    "    dest_out = CTxOut(nValue=taproot_value - min_fee, scriptPubKey=spk)\n",
    "    taproot_spend_tx.vout = [dest_out]\n",
    "\n",
    "    htv = [0, 1, 2, 3, 0x81, 0x82, 0x83]\n",
    "    sighash = TaprootSignatureHash(taproot_spend_tx, [taproot_output], htv[0], 0, scriptpath=True, tapscript=tapscript_to_spend.script)\n",
    "\n",
    "    # Construct witness for specific to each tapscript.\n",
    "    # TODO: Implement\n",
    "\n",
    "    assert_equal(\n",
    "        [{'txid': taproot_spend_tx.rehash(), 'allowed': False, 'reject-reason': '64: non-BIP68-final'}],\n",
    "        test.nodes[0].testmempoolaccept([taproot_spend_str])\n",
    "    )\n",
    "\n",
    "    print(\"Size of Transaction #{} size is {} bytes.\".format(idx, len(taproot_spend_tx.serialize()))\n",
    "    \n",
    "    # Sort txns into different vectors by delay.\n",
    "    if idx < long_delays_idx:\n",
    "        three_day_delay_txs.append(taproot_spend_tx)\n",
    "    else:\n",
    "        ten_day_delay_txs.append(taproot_spend_tx)\n",
    "        \n",
    "\n",
    "# Rebroadcast timelocked txs 3 day delay.\n",
    "test.nodes[0].generate(delay)\n",
    "\n",
    "for tx in three_day_delay_txs:\n",
    "    assert_equal(\n",
    "        [{'txid': tx.rehash(), 'allowed': True}],\n",
    "        test.nodes[0].testmempoolaccept([tx.serialize().hex()])\n",
    "    )\n",
    "\n",
    "for tx in ten_day_delay_txs:\n",
    "    assert_equal(\n",
    "        [{'txid': tx.rehash(), 'allowed': False, 'reject-reason': '64: non-BIP68-final'}],\n",
    "        test.nodes[0].testmempoolaccept([tx.serialize().hex()])\n",
    "    )\n",
    "    \n",
    "# Rebroadcast timelocked txs after 10 day delay.\n",
    "test.nodes[0].generate(long_delay-delay)\n",
    "          \n",
    "for tx in ten_day_delay_txs:\n",
    "    assert_equal(\n",
    "        [{'txid': tx.rehash(), 'allowed': True}],\n",
    "        test.nodes[0].testmempoolaccept([tx.serialize().hex()])\n",
    "    )\n",
    "          \n",
    "print(\"Success!\")\n",
    "          "
   ]
  },
  {
   "cell_type": "markdown",
   "metadata": {},
   "source": [
    "***Shutdown TestNode***"
   ]
  },
  {
   "cell_type": "code",
   "execution_count": null,
   "metadata": {},
   "outputs": [],
   "source": [
    "test.shutdown()\n"
   ]
  },
  {
   "cell_type": "markdown",
   "metadata": {},
   "source": [
    "### 3.1.4 Remove the 3-of-3 spending path.\n",
    "\n",
    "* Consider how you could redesign the output without the 3-of-3 spending path.\n",
    "* Hint: Force spending to occur along a script spending path.\n",
    "* TODO: Reconstruct the segwit address.\n"
   ]
  },
  {
   "cell_type": "code",
   "execution_count": null,
   "metadata": {},
   "outputs": [],
   "source": [
    "multisig_taproot = # TODO: Implement\n",
    "\n",
    "# Construct Segwit Address.\n",
    "_, taptweak, control_map = multisig_taproot.construct()\n",
    "internal_pubkey = nums_point.tweak_add(taptweak) \n",
    "internal_pubkey_b = internal_pubkey.get_bytes()\n",
    "taproot_pubkey_v1 = bytes([internal_pubkey_b[0] & 1]) + internal_pubkey_b[1:]\n",
    "segwit_address = program_to_witness(1, taproot_pubkey_v1)\n",
    "print(\"\\nSegwit Address:\", segwit_address)\n"
   ]
  },
  {
   "cell_type": "code",
   "execution_count": null,
   "metadata": {},
   "outputs": [],
   "source": []
  }
 ],
 "metadata": {
  "kernelspec": {
   "display_name": "Python 3",
   "language": "python",
   "name": "python3"
  },
  "language_info": {
   "codemirror_mode": {
    "name": "ipython",
    "version": 3
   },
   "file_extension": ".py",
   "mimetype": "text/x-python",
   "name": "python",
   "nbconvert_exporter": "python",
   "pygments_lexer": "ipython3",
   "version": "3.6.5"
  }
 },
 "nbformat": 4,
 "nbformat_minor": 2
}
