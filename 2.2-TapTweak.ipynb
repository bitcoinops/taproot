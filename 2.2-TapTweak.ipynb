{
 "cells": [
  {
   "cell_type": "code",
   "execution_count": null,
   "metadata": {},
   "outputs": [],
   "source": [
    "import hashlib\n",
    "from io import BytesIO\n",
    "import random\n",
    "\n",
    "import util\n",
    "from test_framework.address import program_to_witness\n",
    "from test_framework.key import ECKey, ECPubKey, SECP256K1_ORDER, generate_schnorr_nonce\n",
    "from test_framework.messages import CTransaction, COutPoint, CTxIn, CTxOut, CScriptWitness, CTxInWitness, ser_string\n",
    "from test_framework.musig import generate_musig_key, aggregate_schnorr_nonces, sign_musig, aggregate_musig_signatures\n",
    "from test_framework.script import  CScript, OP_1, OP_CHECKSIG, TaprootSignatureHash, TapLeaf, TapTree, Node"
   ]
  },
  {
   "cell_type": "markdown",
   "metadata": {},
   "source": [
    "# 2.2 TapTweak\n",
    "\n",
    "* Part 1 - Tweaking the Public Key\n",
    "* Part 2 - Commitment Schemes with Tweaks\n",
    "* Part 3 - TapTweak Script Commitments\n",
    "\n",
    "The linear property of bip-schnorr means that we can encode a commitment into a public key, and then reveal that commitment when signing with the private key. We do that by _tweaking_ the private key with the commitment, and using the associated _tweaked_ pubkey. When signing, we can reveal that the original private key was tweaked by the commitment.\n",
    "\n",
    "## Part 1: Tweaking the Public Key\n",
    "\n",
    "Instead of using our original public key as the witness program, we use a tweaked public key.\n",
    "\n",
    "* `[01] [33B Tweaked Public Key]`\n",
    "\n",
    "Tweaking a public key means to alter it with a value (the tweak) such that it remains spendable with knowledge of the original private key and tweak.\n",
    "\n",
    "* `x` / `P`: Original private key / public key pair\n",
    "* `t` / `T`: Tweak value / tweak point\n",
    "* Output script: `[01] [P + T]` = `[01] [xG + tG]`\n",
    "* Spendable by the tweaked private key: `x + t`\n",
    "\n",
    "An observer cannot distinguish between a tweaked and untweaked public key."
   ]
  },
  {
   "cell_type": "markdown",
   "metadata": {},
   "source": [
    "#### Example 2.2.2: Signing with a tweaked keypair\n",
    "\n",
    "In this example, we generate a key pair as before, and then tweak both the private key and public key. We then sign with the tweaked private key and verify that the signature is valid.\n",
    "\n",
    "A _tweak_ is positive scalar value `t` where `0 < t < SECP256K1_ORDER`. There is an associated tweak point `T` such that `T = t*G`.\n",
    "\n",
    "The private key is tweaked by the tweak scalar: `x' = x + t` and the public key is tweaked by the tweak point: `P' = P + T`.\n",
    "\n",
    "The tweaked private key `x'` can be used to produce a valid signature for the tweaked pubkey `P'`."
   ]
  },
  {
   "cell_type": "code",
   "execution_count": null,
   "metadata": {},
   "outputs": [],
   "source": [
    "# Generate a key pair\n",
    "privatekey = ECKey().generate()\n",
    "publickey = privatekey.get_pubkey()\n",
    "\n",
    "print(\"Private key: {}\\nPublic key: {}\\n\".format(privatekey.secret, publickey.get_bytes().hex()))\n",
    "\n",
    "# Generate a random tweak 0 < t < SECP256K1_ORDER and its associated point\n",
    "tweak = random.randrange(1, SECP256K1_ORDER)\n",
    "tweak_private = ECKey().set(tweak, True)\n",
    "tweak_point = tweak_private.get_pubkey()\n",
    "print(\"Tweak scalar: {}\\nTweak point: {}\\n\".format(tweak_private.secret, tweak_point.get_bytes().hex()))\n",
    "\n",
    "# Derive the tweaked private key and public key\n",
    "privatekey_tweaked = privatekey + tweak_private\n",
    "publickey_tweaked = publickey + tweak_point\n",
    "print(\"Tweaked private key: {}\\nTweaked pubkey: {}\\n\".format(privatekey_tweaked.secret, publickey_tweaked.get_bytes().hex()))\n",
    "\n",
    "# Sign the message with tweaked key pair and verify the signature\n",
    "msg = hashlib.sha256(b'msg').digest()\n",
    "sig = privatekey_tweaked.sign_schnorr(msg)\n",
    "assert publickey_tweaked.verify_schnorr(sig, msg)\n",
    "print(\"Success!\")"
   ]
  },
  {
   "cell_type": "markdown",
   "metadata": {},
   "source": [
    "#### _Programming Exercise 2.2.2:_  Signing with a tweaked 2-of-2 MuSig key pair\n",
    "\n",
    "In this exercise, we tweak an MuSig aggregate pubkey, and then sign for it using the individual participant keys. The MuSig pubkey aggregation step is done for you.\n",
    "\n",
    "_Question: Which participant(s) need to tweak their private keys?_"
   ]
  },
  {
   "cell_type": "code",
   "execution_count": null,
   "metadata": {},
   "outputs": [],
   "source": [
    "# Generate key pairs\n",
    "privkey0 = ECKey().generate()\n",
    "privkey1 = ECKey().generate()\n",
    "pk0 = privkey0.get_pubkey()\n",
    "pk1 = privkey1.get_pubkey()\n",
    "\n",
    "# Create an aggregate MuSig pubkey\n",
    "c_map, pk_musig = generate_musig_key([pk0, pk1])\n",
    "\n",
    "# Apply challenge factors to keys\n",
    "privkey0_c = privkey0.mul(c_map[pk0])\n",
    "privkey1_c = privkey1.mul(c_map[pk1])\n",
    "pk0_c = pk0.mul(c_map[pk0])\n",
    "pk1_c = pk1.mul(c_map[pk1])\n",
    "    \n",
    "# Tweak musig public key\n",
    "tweak = random.randrange(1, SECP256K1_ORDER)\n",
    "pk_musig_tweaked =  # TODO: implement\n",
    "\n",
    "# Nonce generation & aggregation\n",
    "# Remember to negate the individual nonce values if required\n",
    "R_agg = . # TODO: implement\n",
    "\n",
    "# Signing and signature aggregation\n",
    "msg = hashlib.sha256(b'msg').digest()\n",
    "\n",
    "# Sign individually and then aggregate signatures\n",
    "sig_agg =  # TODO: implement\n",
    "\n",
    "assert pk_musig_tweaked.verify_schnorr(sig_agg, msg)\n",
    "print(\"Success!\")"
   ]
  },
  {
   "cell_type": "markdown",
   "metadata": {},
   "source": [
    "## Part 2: Commitment schemes with tweaks\n",
    "\n",
    "Taproot uses the tweak as a commitment for spending script paths. However, simply applying the committed value as a public key tweak is not sufficient, as this does not represent a secure cryptographic commitment.\n",
    "\n",
    "![test](images/taptweak0.jpg)\n",
    "\n",
    "Instead, the committed value must first be hashed with the untweaked public key point. **This prevents modification of both untweaked secret and tweak for a given tweaked pubkey point Q.**"
   ]
  },
  {
   "cell_type": "markdown",
   "metadata": {},
   "source": [
    "#### Example 2.2.3: modifying the tweak for a tweaked public key Q\n",
    "\n",
    "In this example we demonstrate an insecure commitment scheme. Simply tweaking the private key with a value `c` allows the pubkey equation `Q = x'G + c'G` to be solved for any `c'` by modifying `x'`."
   ]
  },
  {
   "cell_type": "code",
   "execution_count": null,
   "metadata": {},
   "outputs": [],
   "source": [
    "# Generate a key pair\n",
    "x = ECKey().generate()\n",
    "pk = x.get_pubkey()\n",
    "print(\"Private key: {}\\nPublic key: {}\\n\".format(x.secret, pk.get_bytes().hex()))\n",
    "\n",
    "# Tweak the public key\n",
    "t = random.randrange(1, SECP256K1_ORDER)\n",
    "print(\"Tweak: {}\".format(t))\n",
    "Q = pk.tweak_add(t)\n",
    "\n",
    "# Create a fake tweak\n",
    "t2 = random.randrange(1, SECP256K1_ORDER)\n",
    "print(\"Tweak 2: {}\\n\".format(t2))\n",
    "\n",
    "# Solve for x` = x - (t' - t)\n",
    "x_int = x.as_int()\n",
    "x2_int = (x_int - t2 + t) % SECP256K1_ORDER\n",
    "\n",
    "x2_key = x = ECKey().set(x2_int, True)\n",
    "pk2 = x2_key.get_pubkey()\n",
    "Q2 = pk2.tweak_add(t2)\n",
    "\n",
    "print(\"Tweaked pubkey for x tweaked by t: {}\".format(Q.get_bytes().hex()))\n",
    "print(\"Tweaked pubkey for x2 tweaked by t2: {}\".format(Q2.get_bytes().hex()))"
   ]
  },
  {
   "cell_type": "markdown",
   "metadata": {},
   "source": [
    "#### Example 2.2.4 - Tweaking the pubkey with `H(P|msg)`\n",
    "\n",
    "In this example, we demonstrate a _secure_ commitment scheme. The private key is tweaked with the scalar `H(P|c)`. Since `P` appears both inside and outside the hash, it isn't possible to solve for a different `c` by modifying `x'`."
   ]
  },
  {
   "cell_type": "code",
   "execution_count": null,
   "metadata": {},
   "outputs": [],
   "source": [
    "# Key pair generation\n",
    "privkey = ECKey().generate()\n",
    "publickey = privkey.get_pubkey()\n",
    "print(\"Private key: {}\\nPublic key: {}\\n\".format(x.secret, pk.get_bytes().hex()))\n",
    "\n",
    "# Compute the tweak from H(P|msg)\n",
    "commitment = b'commitment'\n",
    "ss = hashlib.sha256(publickey.get_bytes()).digest()\n",
    "ss += hashlib.sha256(commitment).digest()\n",
    "t = hashlib.sha256(ss).digest()\n",
    "\n",
    "# Determine tweak point\n",
    "tweak_private = ECKey().set(t, True)\n",
    "tweak_point = tweak_private.get_pubkey()\n",
    "print(\"Tweak scalar: {}\\nTweak point: {}\\n\".format(tweak_private.secret, tweak_point.get_bytes().hex()))\n",
    "\n",
    "privkey_tweaked = privkey + tweak_private\n",
    "publickey_tweaked = publickey + tweak_point\n",
    "\n",
    "# Sign message and verify signature\n",
    "msg = hashlib.sha256(b'msg').digest()\n",
    "sig = privkey_tweaked.sign_schnorr(msg)\n",
    "\n",
    "assert publickey_tweaked.verify_schnorr(sig, msg)\n",
    "print(\"Success!\")"
   ]
  },
  {
   "cell_type": "markdown",
   "metadata": {},
   "source": [
    "### Taproot: Tagged Hashes.\n",
    "\n",
    "The Taproot Proposal describes tagged hashes for both the taptree and taptweak. \n",
    "\n",
    "The TapTweak uses this double nested hashing function because it already used in TapBranches and TapLeafs, where it provides context uniqueness across the Bitcoin protocol. The 64B length of the two sha256 digest concatenation  lends itself to optimization in implementations. \n",
    "\n",
    "**Tagged Hash:**\n",
    "* `tagged_hash` = `sha256(sha256(\"Tag\") + sha256(\"Tag\") + data)`\n",
    "\n",
    "\n",
    "**TapTree Node Hashes:**\n",
    "* `TapTweak` \n",
    "    * `= sha256(sha256(\"TapTweak\") + sha256(\"TapTweak\") + node_hash)`\n",
    "* `TapBranch` \n",
    "    * `= sha256(sha256(\"TapBranch\") + sha256(\"TapBranch\") + node_hash_left|node_hash_right)`\n",
    "* `TapLeaf` \n",
    "    * `= sha256(sha256(\"TapLeaf\") + sha256(\"TapLeaf\") + node_hash_left|node_hash_right)`\n",
    "    \n",
    "_Ordering of left and right node hash data is determined lexicographically, see next section._"
   ]
  },
  {
   "cell_type": "markdown",
   "metadata": {},
   "source": [
    "## Part 3 - TapTweak Script Commitments\n",
    "\n",
    "The TapTweak commits a Taptree to the segwit version 1 public key. It does so with a commitment structure resembling familiar merkle tree construction.\n",
    "\n",
    "_Please note that the taptree uses tagged hashes which prevent node height ambiguity currently found in the transaction merkle tree, which allow an attacker to create a node which can be reinterpreted as either a leaf or internal node._\n"
   ]
  },
  {
   "cell_type": "markdown",
   "metadata": {},
   "source": [
    "**The TapTree is different than the header merkle tree in the following ways:**\n",
    "\n",
    "* Tapleafs can be located at different heights.\n",
    "* Ordering of TapLeafs is determined lexicograpically.\n",
    "* Location of nodes are tagged (No ambiguity of node type).\n",
    " \n",
    "![test](images/taptweak1.jpg)\n"
   ]
  },
  {
   "cell_type": "markdown",
   "metadata": {},
   "source": [
    "### Programming Exercise 3.1 - Constructing a TapTweak from TapScripts.\n",
    "\n",
    "In the cell below, we will commit three pay-to-pubkey scripts to a taptweak and then derive the segwit address which can be spent by fulfilling these scriptpaths and the internal. We will use the same merkle tree structure as in the previous illustration.\n",
    "\n",
    "* 1. Compute TapLeafs A, B and C.\n",
    "* 2. Compute Internal node TapBranch AB.\n",
    "* 3. Compute TapTweak\n",
    "* 4. Derive the segwit output address.\n"
   ]
  },
  {
   "cell_type": "code",
   "execution_count": null,
   "metadata": {},
   "outputs": [],
   "source": [
    "TAPSCRIPT_VER = bytes([0xc0]) # See TapScript chapter for more details.\n",
    "internal_pubkey = ECPubKey()\n",
    "internal_pubkey.set(bytes.fromhex('03af455f4989d122e9185f8c351dbaecd13adca3eef8a9d38ef8ffed6867e342e3'))\n",
    "\n",
    "# Derive pay-to-pubkey scripts.\n",
    "secA = ECKey()\n",
    "secB = ECKey()\n",
    "secC = ECKey()\n",
    "secA.generate()\n",
    "secB.generate()\n",
    "secC.generate()\n",
    "pkA = secA.get_pubkey()\n",
    "pkB = secA.get_pubkey()\n",
    "pkC = secA.get_pubkey()\n",
    "scriptA = CScript([pkA.get_bytes(), OP_CHECKSIG])\n",
    "scriptB = CScript([pkB.get_bytes(), OP_CHECKSIG])\n",
    "scriptC = CScript([pkC.get_bytes(), OP_CHECKSIG])\n",
    "\n",
    "# Method: Returns Tagged Hash.\n",
    "def tagged_hash(tag, input_data):\n",
    "    data = hashlib.sha256(tag.encode('utf-8')).digest()\n",
    "    data += data\n",
    "    data += input_data\n",
    "    return hashlib.sha256(data).digest()\n",
    "\n",
    "# Method: Returns TapBranch hash.\n",
    "def tapbranch(taggedhash_left, taggedhash_right):\n",
    "    if taggedhash_left > taggedhash_right:\n",
    "        taggedhash_left, taggedhash_right = taggedhash_right, taggedhash_left\n",
    "    return tagged_hash(\"TapBranch\", taggedhash_left + taggedhash_right)  \n",
    "\n",
    "# 1) Compute TapLeafs A, B and C.\n",
    "# Note: ser_string(data) is a function which adds compactsize to input data.\n",
    "\n",
    "\n",
    "# 2) Compute Internal node TapBranch AB.\n",
    "\n",
    "\n",
    "# 3) Compute TapTweak.\n",
    "\n",
    "\n",
    "# 4) Derive the segwit output address.\n",
    "\n"
   ]
  },
  {
   "cell_type": "markdown",
   "metadata": {},
   "source": [
    "**Run the cell below to check if you have correctly computed the TapTweak.**"
   ]
  },
  {
   "cell_type": "code",
   "execution_count": null,
   "metadata": {},
   "outputs": [],
   "source": [
    "# This code uses the TapTree and TapLeaf classes to construct the same tweak as above\n",
    "\n",
    "tapleafA = TapLeaf()\n",
    "tapleafB = TapLeaf()\n",
    "tapleafC = TapLeaf()\n",
    "taptree = TapTree()\n",
    "\n",
    "tapleafA.from_script(scriptA)\n",
    "tapleafB.from_script(scriptB)\n",
    "tapleafC.from_script(scriptC)\n",
    "\n",
    "tapbranchAB = Node()\n",
    "tapbranchAB.left = tapleafA\n",
    "tapbranchAB.right = tapleafB\n",
    "\n",
    "tapbranchABC = Node()\n",
    "tapbranchABC.left = tapbranchAB\n",
    "tapbranchABC.right = tapleafC\n",
    "\n",
    "taptree.root = tapbranchABC\n",
    "taptree.key = internal_pubkey\n",
    "\n",
    "script_v1, tweak, c_map = taptree.construct()\n",
    "print(\"TapTweak:\", tweak.hex())"
   ]
  },
  {
   "cell_type": "markdown",
   "metadata": {},
   "source": [
    "## Example: Spending a taproot output along the key path\n",
    "\n",
    "In this exercise, we'll create a segwit version 1 output that sends to a tweaked public key. We'll them spend that output along the key path using the tweaked private key.\n",
    "\n",
    "Such as spend does not reveal the committed tweak to the observer and is indistinguishable any other key path spend."
   ]
  },
  {
   "cell_type": "markdown",
   "metadata": {},
   "source": [
    "**Start TestNodes**"
   ]
  },
  {
   "cell_type": "code",
   "execution_count": null,
   "metadata": {},
   "outputs": [],
   "source": [
    "# Start TestWrapper\n",
    "test = util.TestWrapper()\n",
    "test.setup()"
   ]
  },
  {
   "cell_type": "markdown",
   "metadata": {},
   "source": [
    "**Generate Wallet Balance**"
   ]
  },
  {
   "cell_type": "code",
   "execution_count": null,
   "metadata": {},
   "outputs": [],
   "source": [
    "# Generate Coins for Bitcoin Node wallet\n",
    "test.nodes[0].generate(101)\n",
    "balance = test.nodes[0].getbalance()\n",
    "\n",
    "print(\"Balance: {}\".format(balance))"
   ]
  },
  {
   "cell_type": "markdown",
   "metadata": {},
   "source": [
    "#### _Programming Exercise 2.2.5:_ Construct taproot output with tweaked public key"
   ]
  },
  {
   "cell_type": "code",
   "execution_count": null,
   "metadata": {},
   "outputs": [],
   "source": [
    "# Example key pair\n",
    "privatekey = ECKey().set(102118636618570133408735518698955378316807974995033705330357303547139065928052, True)\n",
    "internal_pubkey = privatekey.get_pubkey()\n",
    "\n",
    "# Example tweak\n",
    "taptweak = bytes.fromhex('2a2fb476ec9962f262ff358800db0e7364287340db73e5e48db36d1c9f374e30')\n",
    "\n",
    "# Tweak the public key\n",
    "taproot_pubkey =  # TODO: implement\n",
    "taproot_pubkey_b =  # TODO: implement\n",
    "\n",
    "# Derive the bech32 address\n",
    "segwit_address =  # TODO: implement\n",
    "\n",
    "assert segwit_address == \"bcrt1pq9lku0vuddzvcte8yvt3xct0dk6cjqeq2yzqp3vwpvh2e8afqpvqqyftl09\"\n",
    "print(\"Success! Segwit Address:\".format(segwit_address))"
   ]
  },
  {
   "cell_type": "markdown",
   "metadata": {},
   "source": [
    "#### Send funds from the wallet to the taproot output"
   ]
  },
  {
   "cell_type": "code",
   "execution_count": null,
   "metadata": {},
   "outputs": [],
   "source": [
    "# Send funds to taproot output\n",
    "txid = test.nodes[0].sendtoaddress(segwit_address, balance / 100000)\n",
    "print(\"Funding tx:{}\\n\".format(txid))\n",
    "\n",
    "# Deserialize wallet transaction\n",
    "tx = CTransaction()\n",
    "tx_hex = test.nodes[0].getrawtransaction(txid)\n",
    "tx.deserialize(BytesIO(bytes.fromhex(tx_hex)))\n",
    "tx.rehash()\n",
    "\n",
    "# The wallet randomizes the change output index for privacy\n",
    "# Loop through the outputs and return the first where the scriptPubKey matches the segwit v1 output\n",
    "output_index, output = next(out for out in enumerate(tx.vout) if out[1].scriptPubKey == CScript([OP_1, taproot_pubkey_v1]))\n",
    "\n",
    "print(\"Segwit v1 output is {}\".format(output))\n",
    "print(\"Segwit v1 output value is {}\".format(output.nValue))\n",
    "print(\"Segwit v1 output index is {}\".format(output_index))"
   ]
  },
  {
   "cell_type": "code",
   "execution_count": null,
   "metadata": {},
   "outputs": [],
   "source": [
    "# Construct transaction and fill version, locktime and inputs\n",
    "tx2 = CTransaction()\n",
    "tx2.nVersion = 1\n",
    "tx2.nLockTime = 0\n",
    "outpoint = COutPoint(tx.sha256, index)\n",
    "tx2_in = CTxIn(outpoint = outpoint)\n",
    "tx2.vin = [tx2_in]\n",
    "print(\"CTransaction: {}\\n\".format(tx2))\n",
    "\n",
    "# Generate new Bitcoin Core wallet address to send funds to\n",
    "dest_addr = test.nodes[0].getnewaddress(address_type=\"bech32\")\n",
    "scriptpubkey = bytes.fromhex(test.nodes[0].getaddressinfo(dest_addr)['scriptPubKey'])\n",
    "print(\"Sending to address: {}\".format(dest_addr))\n",
    "\n",
    "# Determine minimum fee required for mempool acceptance\n",
    "min_fee = int(test.nodes[0].getmempoolinfo()['mempoolminfee'] * 100000000)"
   ]
  },
  {
   "cell_type": "markdown",
   "metadata": {},
   "source": [
    "#### _Programming Exercise 2.2.6:_ Spend taproot output with key path"
   ]
  },
  {
   "cell_type": "code",
   "execution_count": null,
   "metadata": {},
   "outputs": [],
   "source": [
    "# Complete output which returns funds to Bitcoin Core wallet.\n",
    "dest_output = CTxOut(nValue=output_value-min_fee, scriptPubKey=scriptpubkey)\n",
    "tx2.vout = [dest_output]\n",
    "\n",
    "# Sign transaction with tweaked private key\n",
    "sig =  # TODO: implement\n",
    "\n",
    "# Construct transaction witness\n",
    "witness = CScriptWitness()\n",
    "tx2.wit.vtxinwit.append(  # TODO: implement\n",
    "\n",
    "# Serialize transaction for broadcast\n",
    "tx2_str =  # TODO: implement\n",
    "\n",
    "# Test mempool acceptance\n",
    "assert test.nodes[0].testmempoolaccept([tx2_str])[0]['allowed']\n",
    "print(\"Success!\")"
   ]
  },
  {
   "cell_type": "markdown",
   "metadata": {},
   "source": [
    "#### Shutdown TestWrapper"
   ]
  },
  {
   "cell_type": "code",
   "execution_count": null,
   "metadata": {},
   "outputs": [],
   "source": [
    "# Shutdown\n",
    "test.shutdown()"
   ]
  }
 ],
 "metadata": {
  "kernelspec": {
   "display_name": "Python 3",
   "language": "python",
   "name": "python3"
  },
  "language_info": {
   "codemirror_mode": {
    "name": "ipython",
    "version": 3
   },
   "file_extension": ".py",
   "mimetype": "text/x-python",
   "name": "python",
   "nbconvert_exporter": "python",
   "pygments_lexer": "ipython3",
   "version": "3.6.5"
  }
 },
 "nbformat": 4,
 "nbformat_minor": 2
}
