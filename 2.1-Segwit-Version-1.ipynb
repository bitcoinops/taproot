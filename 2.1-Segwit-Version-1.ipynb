{
 "cells": [
  {
   "cell_type": "code",
   "execution_count": null,
   "metadata": {},
   "outputs": [],
   "source": [
    "import random\n",
    "import hashlib\n",
    "from io import BytesIO\n",
    "\n",
    "import util\n",
    "from test_framework.address import program_to_witness\n",
    "from test_framework.key import ECKey, ECPubKey, generate_schnorr_nonce\n",
    "from test_framework.musig import generate_musig_key, aggregate_schnorr_nonces, sign_musig, aggregate_musig_signatures\n",
    "from test_framework.messages import CTransaction, COutPoint, CTxIn, CTxOut, CScriptWitness, CTxInWitness\n",
    "from test_framework.script import CScript, OP_1, TaprootSignatureHash\n",
    "import test_framework.segwit_addr as segwit_addr"
   ]
  },
  {
   "cell_type": "markdown",
   "metadata": {},
   "source": [
    "# 2.1 Taproot Outputs\n",
    "\n",
    "* Part 1: Generating a Segwit v1 Output.\n",
    "* Part 2: Sending funds from the Bitcoin Core wallet.\n",
    "* Part 3: Constructing a transaction to spend the Segwit v1 output.\n",
    "* Part 4: Programming Exercise - Spending multiple Segwit v1 output types."
   ]
  },
  {
   "cell_type": "markdown",
   "metadata": {},
   "source": [
    "## Part 1. Generating a Segwit v1 Output.\n",
    "\n",
    "Taproot and Schnorr will be made available in Segwit v1 outputs upon activation. Segwit v1 follows the same output script pattern as Segwit V0.\n",
    "\n",
    "* Segwit Output: **`[1B Version]` `[Segwit program]`**\n",
    "* Segwit v1 Output: **`[01]` `[33-Byte Public Key]`**\n",
    "\n",
    "The 33-Byte Public key encoding is similar to that of legacy compressed pubkeys, but with a different oddness byte.\n",
    "* Y-coordinate: even - **`[00]`** or odd - **`[01]`**\n",
    "* X-coordinate: **`[32B x-coordinate]`**\n",
    "\n",
    "Please note:\n",
    "\n",
    "> _The Schnorr/Taproot/Tapscript BIPs have been [updated](https://github.com/sipa/bips/commit/5793d3d73561a94230b486cfe0ca88ea346568de#diff-506cf22853a59a8c57550c1f1d9cedfb) to support shortened 32-Byte public keys. We continue to work with the previous proposal, until the preliminary [taproot](https://github.com/sipa/bitcoin/tree/taproot) Bitcoin Core branch has been updated._\n",
    "\n",
    "### Spending a Segwit v1 Output with the Key Path.\n",
    "\n",
    "Unlike Segwit v0 outputs, v1 outputs are spendable along two paths. In this chapter we will focus on spending the key path.\n",
    "\n",
    "![test](images/segwit_version1_0.jpg)\n",
    "\n",
    "\n",
    " * **Key path:**\n",
    "     * Spendable along the key path.\n",
    "     * Spending witness: **`[sig]`**\n",
    " * **Script path:**\n",
    "     * If public key is tweaked with a valid taproot.\n",
    "     * (See chapters 2.1 and 2.2).\n",
    "\n",
    "\n"
   ]
  },
  {
   "cell_type": "markdown",
   "metadata": {},
   "source": [
    "#### 1.1 Example: Constructing a Segwit V1 Output\n",
    "\n",
    "In this example, we construct segwit v1 output for spending along the key path.\n",
    "* Generate a key pair.\n",
    "* Encode public key (Segwit V1 program).\n",
    "* Derive Bech32 address.\n"
   ]
  },
  {
   "cell_type": "code",
   "execution_count": null,
   "metadata": {},
   "outputs": [],
   "source": [
    "# Key Pair generation.\n",
    "sec = ECKey()\n",
    "sec.generate()\n",
    "pubkey = sec.get_pubkey()\n",
    "\n",
    "# Create Segwit program.\n",
    "pubkey_data = pubkey.get_bytes()\n",
    "program = bytes([pubkey_data[0] & 1]) + pubkey_data[1:]\n",
    "\n",
    "# Create (regtest) Bech32 address.\n",
    "version = 0x01\n",
    "address = segwit_addr.encode(\"bcrt\", version, program)\n",
    "print(address)"
   ]
  },
  {
   "cell_type": "markdown",
   "metadata": {},
   "source": [
    "## Part 2. Sending funds from the Bitcoin Core wallet.\n",
    "\n",
    "We now send funds to a Segwit v1 output, in order to demonstrate how to spend a taproot output along the key path.\n",
    "\n",
    "* Start up the Regtest node and wallet.\n",
    "* Generate Regtest coins for the wallet.\n",
    "* Send a wallet transaction to the Segwit v1 output.\n",
    "\n",
    "#### Example 2.1: Startup TestWrapper to initialize a Regtest node and wallet.\n",
    "* Run setup only once, or after a clean shutdown."
   ]
  },
  {
   "cell_type": "code",
   "execution_count": null,
   "metadata": {},
   "outputs": [],
   "source": [
    "test = util.TestWrapper()\n",
    "test.setup(num_nodes=1)\n",
    "\n",
    "version = test.nodes[0].getnetworkinfo()['subversion']\n",
    "print(\"Client version is {}\".format(version))\n",
    "assert version == '/OptechTaproot:0.1.0(testnode0)/'"
   ]
  },
  {
   "cell_type": "markdown",
   "metadata": {},
   "source": [
    "#### Example 2.2: Generate coins for the wallet."
   ]
  },
  {
   "cell_type": "code",
   "execution_count": null,
   "metadata": {},
   "outputs": [],
   "source": [
    "blocks = test.nodes[0].generate(101)\n",
    "balance = test.nodes[0].getbalance()\n",
    "print('Balance:', balance)"
   ]
  },
  {
   "cell_type": "markdown",
   "metadata": {},
   "source": [
    "#### Example 2.3: Send funds to the Segwit address.\n",
    "\n",
    "* Send 0.05 Bitcoin / from wallet to address: `sendtoaddress`\n",
    "* Reconstruct wallet transaction locally."
   ]
  },
  {
   "cell_type": "code",
   "execution_count": null,
   "metadata": {},
   "outputs": [],
   "source": [
    "# Send wallet transaction to segwit address.\n",
    "amount_btc = 0.05\n",
    "txid = test.nodes[0].sendtoaddress(address, amount_btc)\n",
    "\n",
    "# Decode wallet hex into key-value pairs.\n",
    "tx_hex = test.nodes[0].getrawtransaction(txid) \n",
    "rawtx = test.nodes[0].decoderawtransaction(tx_hex)\n",
    "\n",
    "# Reconstruct wallet transaction locally.\n",
    "tx = CTransaction()\n",
    "tx.deserialize(BytesIO(bytes.fromhex(tx_hex)))\n",
    "tx.rehash()\n",
    "\n",
    "# We can check if the transaction was correctly deserialized.\n",
    "print(txid == rawtx[\"txid\"])"
   ]
  },
  {
   "cell_type": "markdown",
   "metadata": {},
   "source": [
    "**Randomized change output index:** \n",
    "* The wallet randomizes the change output index for privacy, so we have to iterate through the outputs to find our segwit address."
   ]
  },
  {
   "cell_type": "code",
   "execution_count": null,
   "metadata": {},
   "outputs": [],
   "source": [
    "# Loop through outputs.\n",
    "outputs = iter(tx.vout)\n",
    "output = next(outputs)\n",
    "output_index = 0\n",
    "\n",
    "while (output.scriptPubKey != CScript([OP_1, program])):\n",
    "    output = next(outputs)\n",
    "    output_index += 1\n",
    "output_value = output.nValue\n",
    "        \n",
    "# Set the output index for the spending tx input.      \n",
    "print(\"Segwit v1 output index:\", output_index)"
   ]
  },
  {
   "cell_type": "markdown",
   "metadata": {},
   "source": [
    "## Part 3. Constructing a TX to spend the Segwit v1 output.\n",
    "\n",
    "In order to contruct, sign and broadcast our transaction which spends our previous Segwit v1 output, we need to populate a `CTransaction` object.\n",
    "\n",
    "Overview of CTransaction members:\n",
    " * `nVersion`\n",
    " * `nLocktime`  \n",
    " * `tx_vin` (list of `CTxIn`'s)\n",
    " * `tx_vout` (list of `CTxOut`'s)\n",
    " * `tx.wit.vtxinwit` (list of `CTxInWitness`s)\n",
    "\n",
    "#### Example 3.1: Construct CTransaction and populate inputs.\n",
    "\n",
    "Populate:\n",
    " * `nVersion`\n",
    " * `nLocktime`\n",
    " * `tx_vin (list of CTxIn's)`"
   ]
  },
  {
   "cell_type": "code",
   "execution_count": null,
   "metadata": {},
   "outputs": [],
   "source": [
    "# Construct Schnorr Transaction.\n",
    "spending_tx = CTransaction()\n",
    "spending_tx.nVersion = 1\n",
    "spending_tx.nLockTime = 0\n",
    "outpoint = COutPoint(tx.sha256, output_index)\n",
    "spending_tx_in = CTxIn(outpoint = outpoint)\n",
    "spending_tx.vin = [spending_tx_in]\n"
   ]
  },
  {
   "cell_type": "markdown",
   "metadata": {},
   "source": [
    "#### Example 3.2: Populate outputs of spending transaction.\n",
    "\n",
    "* Generate a new wallet address to send funds to.\n",
    "* Determine the fee amount.\n",
    "* Populate the transaction output"
   ]
  },
  {
   "cell_type": "code",
   "execution_count": null,
   "metadata": {},
   "outputs": [],
   "source": [
    "# Generate new Bitcoin Core wallet address.\n",
    "dest_addr = test.nodes[0].getnewaddress(address_type=\"bech32\")\n",
    "scriptpubkey = bytes.fromhex(test.nodes[0].getaddressinfo(dest_addr)['scriptPubKey'])\n",
    "\n",
    "# Determine minimum fee required for mempool acceptance.\n",
    "min_fee = int(test.nodes[0].getmempoolinfo()['mempoolminfee'] * 100000000)\n",
    "\n",
    "# Complete output which returns funds to Bitcoin Core wallet.\n",
    "amount_sat = int(amount_btc * 100000000)\n",
    "dest_output = CTxOut(nValue=amount_sat-min_fee, scriptPubKey=scriptpubkey)\n",
    "spending_tx.vout = [dest_output]\n"
   ]
  },
  {
   "cell_type": "markdown",
   "metadata": {},
   "source": [
    "#### Example 3.3: Sign the transaction with a Schnorr signature.\n",
    "\n",
    "The current Taproot BIP proposes the following sighash flags:\n",
    "* Legacy sighash flags: `[0x01,0x02,0x03,0x81,0x82,0x83]`\n",
    "* New All sighash flag: `[0x00]` - same semantics as `[0x01]`\n",
    "\n",
    "Append the sighash flag to the signature `[R_x, s]` with the sighash byte if not `[0x00]`."
   ]
  },
  {
   "cell_type": "code",
   "execution_count": null,
   "metadata": {},
   "outputs": [],
   "source": [
    "# Generate the Taproot Signature Hash for signing.\n",
    "hash_types = [0,1,2,3,0x81,0x82,0x83]\n",
    "sighash = TaprootSignatureHash(spending_tx, [output], hash_types[0], input_index = 0, scriptpath = False)\n",
    " \n",
    "# Note: Any non-sighash-ALL Schnorr signatures requires\n",
    "# the hash_type appended to the end of signature.\n",
    "sig = sec.sign_schnorr(sighash)\n"
   ]
  },
  {
   "cell_type": "markdown",
   "metadata": {},
   "source": [
    "#### Example 3.4: Finalizing the witness and broadcasting the tx.\n",
    "\n",
    "* Populate the witness with a single signature element.\n"
   ]
  },
  {
   "cell_type": "code",
   "execution_count": null,
   "metadata": {},
   "outputs": [],
   "source": [
    "# Construct transaction witness.\n",
    "witness = CScriptWitness()\n",
    "witness.stack.append(sig)\n",
    "witness_in = CTxInWitness()\n",
    "witness_in.scriptWitness = witness\n",
    "spending_tx.wit.vtxinwit.append(witness_in)\n",
    " \n",
    "# Serialize signed transaction for broadcast.\n",
    "spending_tx_str = spending_tx.serialize().hex()\n",
    " \n",
    "# Test mempool acceptance.\n",
    "print(test.nodes[0].testmempoolaccept([spending_tx_str]))\n"
   ]
  },
  {
   "cell_type": "markdown",
   "metadata": {},
   "source": [
    "**Shutdown testwrapper.**"
   ]
  },
  {
   "cell_type": "code",
   "execution_count": null,
   "metadata": {},
   "outputs": [],
   "source": [
    "test.shutdown()"
   ]
  },
  {
   "cell_type": "markdown",
   "metadata": {},
   "source": [
    "### Part 4: Spending a Segwit v1 output with a Musig Public Key.\n",
    "\n",
    "**Programming Exercise.**\n",
    "\n",
    "Part A:\n",
    "* Send funds to a 2-of-2 musig public key (Segwit v1 address)\n",
    "* Send funds to a (single) public key (Segwit v1 address)\n",
    "* Create a single transaction that, spends the musig key output.\n",
    "* Test the validity of this transaction (testmempoolaccept)\n",
    "\n",
    "Part B:\n",
    "* Malleate this transaction to add another input spending the single key output.\n",
    "* Test the validity of this transaction (testmempoolaccept)"
   ]
  },
  {
   "cell_type": "code",
   "execution_count": null,
   "metadata": {},
   "outputs": [],
   "source": [
    "test = util.TestWrapper()\n",
    "test.setup()\n",
    "\n",
    "version = test.nodes[0].getnetworkinfo()['subversion']\n",
    "print(\"Client version is {}\".format(version))\n",
    "assert version == '/OptechTaproot:0.1.0(testnode0)/'"
   ]
  },
  {
   "cell_type": "markdown",
   "metadata": {},
   "source": [
    "#### Part A: \n",
    "\n",
    "* Send funds to a 2-of-2 musig public key (Segwit v1 address)\n",
    "* Send funds to a (single) public key (Segwit v1 address)\n",
    "* Broadcast a single transaction that, which spends the musig key output."
   ]
  },
  {
   "cell_type": "code",
   "execution_count": null,
   "metadata": {},
   "outputs": [],
   "source": [
    "# Generate individual key pairs.\n",
    "\n",
    "\n",
    "# Generate musig key.\n",
    "\n",
    "\n",
    "# Multiply individual keys with challenges.\n",
    "\n",
    "\n",
    "# Create Segwit address (musig).\n",
    "\n",
    "\n",
    "# Create Segwit address (single).\n",
    "\n"
   ]
  },
  {
   "cell_type": "code",
   "execution_count": null,
   "metadata": {},
   "outputs": [],
   "source": [
    "# Generate coins in Bitcoin Core wallet.\n"
   ]
  },
  {
   "cell_type": "code",
   "execution_count": null,
   "metadata": {},
   "outputs": [],
   "source": [
    "# Send wallet transactions to segwit addresses (pk_musig, pk_single).\n",
    "\n",
    "\n",
    "# Reconstruct wallet transactions locally.\n"
   ]
  },
  {
   "cell_type": "code",
   "execution_count": null,
   "metadata": {},
   "outputs": [],
   "source": [
    "# Use this function to find the output to spend.\n",
    "def find_output(tx, script):\n",
    "    outputs = iter(tx.vout)\n",
    "    output = next(outputs)\n",
    "    output_index = 0\n",
    "    while (output.scriptPubKey != script):\n",
    "        output = next(outputs)\n",
    "        output_index += 1\n",
    "    return output, output_index\n",
    "\n"
   ]
  },
  {
   "cell_type": "code",
   "execution_count": null,
   "metadata": {},
   "outputs": [],
   "source": [
    "# Construct transcction which spends the musig segwit v1 output.\n",
    "\n",
    "\n",
    "# Generate new Bitcoin Core wallet address.\n",
    "\n",
    "\n",
    "# Determine minimum fee required for mempool acceptance.\n",
    "\n",
    "\n",
    "# Complete output which returns funds to Bitcoin Core wallet.\n"
   ]
  },
  {
   "cell_type": "code",
   "execution_count": null,
   "metadata": {},
   "outputs": [],
   "source": [
    "# Create sighash for ANY|ALL.\n",
    "\n",
    "\n",
    "# Sign for musig public key.\n",
    "\n"
   ]
  },
  {
   "cell_type": "code",
   "execution_count": null,
   "metadata": {},
   "outputs": [],
   "source": [
    "# Construct transaction witness.\n",
    "\n",
    "\n",
    "# Serialize Schnorr transaction for broadcast.\n",
    "\n",
    "\n",
    "# Test mempool acceptance.\n",
    "\n"
   ]
  },
  {
   "cell_type": "markdown",
   "metadata": {},
   "source": [
    "#### Part B:\n",
    "* Malleate this transaction to add another input spending single key output.\n",
    "* Broadcast this transaction (testmempoolaccept)"
   ]
  },
  {
   "cell_type": "code",
   "execution_count": null,
   "metadata": {},
   "outputs": [],
   "source": [
    "# Malleate TX to spend second input.\n",
    "\n",
    "\n",
    "# Construct transaction witness for single pk output.\n",
    "\n",
    "\n",
    "# Test mempool acceptance for malleated transaction.\n",
    "\n"
   ]
  }
 ],
 "metadata": {
  "kernelspec": {
   "display_name": "Python 3",
   "language": "python",
   "name": "python3"
  },
  "language_info": {
   "codemirror_mode": {
    "name": "ipython",
    "version": 3
   },
   "file_extension": ".py",
   "mimetype": "text/x-python",
   "name": "python",
   "nbconvert_exporter": "python",
   "pygments_lexer": "ipython3",
   "version": "3.6.5"
  }
 },
 "nbformat": 4,
 "nbformat_minor": 2
}
