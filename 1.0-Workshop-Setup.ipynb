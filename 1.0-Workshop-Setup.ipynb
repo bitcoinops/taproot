{
 "cells": [
  {
   "cell_type": "markdown",
   "metadata": {},
   "source": [
    "# 1.0 Optech Workshop Setup Guide\n",
    "\n",
    "Welcome to the optech Schnorr & Taproot workshop guide. Before attending the workshop where we will be experiencing a hands-on day designing and building transactions with Schnorr and Taproot, we kindly ask that you perform the setup described in this notebook so we can hit the ground running.\n",
    "\n",
    "* **Part 1.** Installing Python3.\n",
    "* **Part 2.** Installing Jupyter Notebook.\n",
    "* **Part 3.** Running this setup guide in Jupyter.\n",
    "* **Part 4.** Building bitcoind and importing the taproot library\n"
   ]
  },
  {
   "cell_type": "markdown",
   "metadata": {},
   "source": [
    "## Part 1. Installing Python 3\n",
    "\n",
    "For linux or OSX.\n",
    "\n",
    "* To check if python is available on your system, simply run `python3 --version`.\n",
    "* If you the version is 3.x.x, you are good to go.\n",
    "\n",
    "If you don't have python3 installed yet, we recommend getting python3 from a package manager:\n",
    "\n",
    "* APT: `sudo apt-get install python3` or `sudo apt-get upgrade python3`\n",
    "* Homebrew: `brew install python3`\n"
   ]
  },
  {
   "cell_type": "markdown",
   "metadata": {},
   "source": [
    "## Part 2. Installing Jupyter Notebook\n",
    "\n",
    "Jupyter notebook is a handy tool which allow us to run python code directly in an interactive document like this one. The workshop materials are built directly with jupyter `.ipynb` files, which you can open once you have jupyter installed.\n",
    "\n",
    "One common way to install jupyter notebook is with `pip` once Python3 is running on your machine:\n",
    "\n",
    "* `python3 -m pip install --upgrade pip`\n",
    "* `python3 -m pip install jupyter`\n",
    "\n",
    "To test if it has installed correctly, simply types `jupyter notebook` in your terminal. Jupyter will start a notebook server in your terminal, and provide a link for your browser from which you can interact with notebook files. If your browser doesn't automatically open the notebook file explorer, click on the link provided by jupyter notebook server.\n",
    "\n",
    "* `http://localhost:8888/?token=...`\n",
    "\n",
    "_The official [documentation](https://jupyter.org/install) covers alternative ways to install jupyter and also describes a newer Jupyter lab notebook. We recommend installing the classic Jupyter Notebook for this workshop._\n"
   ]
  },
  {
   "cell_type": "markdown",
   "metadata": {},
   "source": [
    "## Part 3. Running this guide in Jupyter\n",
    "\n",
    "We can now continue to read this guide directly in Jupyter Notebook. \n",
    "\n",
    "* Git clone `optech/taproot-workshop`.  \n",
    "* Run `jupyter notebook` in the same directory. \n",
    "\n",
    "You should now be able to open this interactive setup guide in Jupyter. In the next part, we will compile bitcoind with taproot support and import the Python Schnorr & Taproot libraries we need for this workshop.\n",
    "\n",
    "**Overview of required repositories**\n",
    "\n",
    "![test](images/setup0.jpg)"
   ]
  },
  {
   "cell_type": "markdown",
   "metadata": {},
   "source": [
    "## Part 4. Building bitcoind and importing the taproot library\n",
    "\n",
    "Please clone a fresh copy of the optech-taproot Bitcoin Core branch to your local machine.\n",
    "* [optech-taproot Bitcoin Core branch](https://github.com/bitcoinops/bitcoin/tree/optech-taproot)\n",
    "\n",
    "Build the bitcoind binary for your platform according to the instructions below.\n",
    "\n",
    "* [Bitcoin Core build notes](https://github.com/bitcoin/bitcoin/tree/master/doc#building)"
   ]
  },
  {
   "cell_type": "markdown",
   "metadata": {},
   "source": [
    "### Importing the Python library\n",
    "\n",
    "Add the full path to the test framework folder of your optech-taproot bitcoin repository to the PATH environment variable. \n",
    "\n",
    "It should look something like this:\n",
    "\n",
    "* `/.../bitcoin/test/functional`"
   ]
  },
  {
   "cell_type": "code",
   "execution_count": null,
   "metadata": {},
   "outputs": [],
   "source": [
    "import sys\n",
    "\n",
    "# Make sure your insert your full path.\n",
    "sys.path.insert(0, '/.../bitcoinops/bitcoin/test/functional') \n"
   ]
  },
  {
   "cell_type": "markdown",
   "metadata": {},
   "source": [
    "Now let's try importing the Bitcoin key classes directly into this Jupyter notebook.\n",
    "Run the cell below to check whether the import works correctly."
   ]
  },
  {
   "cell_type": "code",
   "execution_count": null,
   "metadata": {},
   "outputs": [],
   "source": [
    "from test_framework.key import ECKey, ECPubKey\n",
    "\n",
    "private_key = ECKey()\n",
    "private_key.generate()\n",
    "print(\"Bitcoin private key:\", private_key.get_bytes().hex())\n",
    "\n",
    "public_key = private_key.get_pubkey()\n",
    "print(\"Bitcoin public key:\", public_key.get_bytes().hex())\n"
   ]
  },
  {
   "cell_type": "markdown",
   "metadata": {},
   "source": [
    "### Running the Test Wrapper in Jupyter\n",
    "\n",
    "We provide a test wrapper class which allows the user to leverage the test framework utilites in external Python projects, such as this notebook. The test wrapper provides access to bitcoin rpc instances directly from the Jupyter notebook cell or any other external python project. \n",
    "* Make sure you run the test wrapper as part of the setup, to ensure optech-taproot build ensure the was successful.\n",
    "\n",
    "![test](images/setup1.jpg)\n",
    "\n",
    "The test wrapper is started and shutdown with the following methods.\n",
    "\n",
    "* `test = TestWrapper()`\n",
    "* `test.setup()`\n",
    "* `test.shutdown()`\n",
    "\n",
    "When setup is called, the test wrapper will automatically startup a standard of 3 bitcoind daemon subprocesses, which can be accessed through the included rpc interface. We will use this frequently to broadcast Schnorr & Taproot transactions in this workshop.\n",
    "\n",
    "**Things to keep in mind:**\n",
    "* Separate test wrapper setup, shutdown and your code into different cells. This ensures that an error in your code does not affect the test wrapper object and prevents orphaned subprocesses.\n",
    "* Only run one test wrapper object at a time.\n",
    "* If the subprocesses do become orphaned somehow, you can run the following:\n",
    " * `ps -ax | grep bitcoind` to see outstanding bitcoind processes.\n",
    " * `kill \"pid\"` to shut them down manually.\n"
   ]
  },
  {
   "cell_type": "markdown",
   "metadata": {},
   "source": [
    "**Start the test wrapper**"
   ]
  },
  {
   "cell_type": "code",
   "execution_count": null,
   "metadata": {},
   "outputs": [],
   "source": [
    "from test_framework.test_wrapper import TestWrapper\n",
    "\n",
    "test = TestWrapper()\n",
    "test.setup()\n"
   ]
  },
  {
   "cell_type": "markdown",
   "metadata": {},
   "source": [
    "**Call the rpc command getmempool of node_0**"
   ]
  },
  {
   "cell_type": "code",
   "execution_count": null,
   "metadata": {},
   "outputs": [],
   "source": [
    "test.nodes[0].getmempoolinfo()"
   ]
  },
  {
   "cell_type": "markdown",
   "metadata": {},
   "source": [
    "**Shutdown test wrapper**"
   ]
  },
  {
   "cell_type": "code",
   "execution_count": null,
   "metadata": {},
   "outputs": [],
   "source": [
    "test.shutdown()"
   ]
  }
 ],
 "metadata": {
  "kernelspec": {
   "display_name": "Python 3",
   "language": "python",
   "name": "python3"
  },
  "language_info": {
   "codemirror_mode": {
    "name": "ipython",
    "version": 3
   },
   "file_extension": ".py",
   "mimetype": "text/x-python",
   "name": "python",
   "nbconvert_exporter": "python",
   "pygments_lexer": "ipython3",
   "version": "3.6.5"
  }
 },
 "nbformat": 4,
 "nbformat_minor": 2
}
